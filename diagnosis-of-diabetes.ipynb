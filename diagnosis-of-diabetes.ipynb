{
 "cells": [
  {
   "cell_type": "code",
   "execution_count": 1,
   "id": "413e6df3",
   "metadata": {
    "_cell_guid": "b1076dfc-b9ad-4769-8c92-a6c4dae69d19",
    "_uuid": "8f2839f25d086af736a60e9eeb907d3b93b6e0e5",
    "execution": {
     "iopub.execute_input": "2023-04-09T11:55:31.732587Z",
     "iopub.status.busy": "2023-04-09T11:55:31.731693Z",
     "iopub.status.idle": "2023-04-09T11:55:32.817298Z",
     "shell.execute_reply": "2023-04-09T11:55:32.816213Z"
    },
    "papermill": {
     "duration": 1.09762,
     "end_time": "2023-04-09T11:55:32.820280",
     "exception": false,
     "start_time": "2023-04-09T11:55:31.722660",
     "status": "completed"
    },
    "tags": []
   },
   "outputs": [],
   "source": [
    "import pandas as pd\n",
    "import numpy as np\n",
    "\n",
    "from sklearn.preprocessing import LabelEncoder, StandardScaler\n",
    "from sklearn.model_selection import train_test_split, cross_val_predict, GridSearchCV\n",
    "from sklearn.metrics import jaccard_score, confusion_matrix, precision_score, recall_score, f1_score, accuracy_score,classification_report\n",
    "\n",
    "import seaborn as sns\n",
    "import matplotlib.pyplot as plt"
   ]
  },
  {
   "cell_type": "markdown",
   "id": "8c911c69",
   "metadata": {
    "papermill": {
     "duration": 0.005803,
     "end_time": "2023-04-09T11:55:32.832355",
     "exception": false,
     "start_time": "2023-04-09T11:55:32.826552",
     "status": "completed"
    },
    "tags": []
   },
   "source": [
    "<h1 style=\"padding:30px; color: green; background-color:gray; display:inline-block\">Diagnosis of diabetes.</h1>"
   ]
  },
  {
   "cell_type": "markdown",
   "id": "c8fb9b71",
   "metadata": {
    "papermill": {
     "duration": 0.005631,
     "end_time": "2023-04-09T11:55:32.843853",
     "exception": false,
     "start_time": "2023-04-09T11:55:32.838222",
     "status": "completed"
    },
    "tags": []
   },
   "source": [
    "The following dataset is from the National Institute of Diabetes and Kidney Diseases, India. \n",
    "\n",
    "**The goal** is to predict whether a patient has diabetes based on diagnostic measurements."
   ]
  },
  {
   "cell_type": "code",
   "execution_count": 2,
   "id": "1adda4d1",
   "metadata": {
    "execution": {
     "iopub.execute_input": "2023-04-09T11:55:32.857331Z",
     "iopub.status.busy": "2023-04-09T11:55:32.856936Z",
     "iopub.status.idle": "2023-04-09T11:55:33.040816Z",
     "shell.execute_reply": "2023-04-09T11:55:33.039771Z"
    },
    "papermill": {
     "duration": 0.194157,
     "end_time": "2023-04-09T11:55:33.043976",
     "exception": false,
     "start_time": "2023-04-09T11:55:32.849819",
     "status": "completed"
    },
    "tags": []
   },
   "outputs": [
    {
     "data": {
      "text/html": [
       "<div>\n",
       "<style scoped>\n",
       "    .dataframe tbody tr th:only-of-type {\n",
       "        vertical-align: middle;\n",
       "    }\n",
       "\n",
       "    .dataframe tbody tr th {\n",
       "        vertical-align: top;\n",
       "    }\n",
       "\n",
       "    .dataframe thead th {\n",
       "        text-align: right;\n",
       "    }\n",
       "</style>\n",
       "<table border=\"1\" class=\"dataframe\">\n",
       "  <thead>\n",
       "    <tr style=\"text-align: right;\">\n",
       "      <th></th>\n",
       "      <th>Pregnancies</th>\n",
       "      <th>Glucose</th>\n",
       "      <th>BloodPressure</th>\n",
       "      <th>SkinThickness</th>\n",
       "      <th>Insulin</th>\n",
       "      <th>BMI</th>\n",
       "      <th>DiabetesPedigreeFunction</th>\n",
       "      <th>Age</th>\n",
       "      <th>Outcome</th>\n",
       "    </tr>\n",
       "  </thead>\n",
       "  <tbody>\n",
       "    <tr>\n",
       "      <th>0</th>\n",
       "      <td>6</td>\n",
       "      <td>148</td>\n",
       "      <td>72</td>\n",
       "      <td>35</td>\n",
       "      <td>0</td>\n",
       "      <td>33.6</td>\n",
       "      <td>0.627</td>\n",
       "      <td>50</td>\n",
       "      <td>1</td>\n",
       "    </tr>\n",
       "    <tr>\n",
       "      <th>1</th>\n",
       "      <td>1</td>\n",
       "      <td>85</td>\n",
       "      <td>66</td>\n",
       "      <td>29</td>\n",
       "      <td>0</td>\n",
       "      <td>26.6</td>\n",
       "      <td>0.351</td>\n",
       "      <td>31</td>\n",
       "      <td>0</td>\n",
       "    </tr>\n",
       "    <tr>\n",
       "      <th>2</th>\n",
       "      <td>8</td>\n",
       "      <td>183</td>\n",
       "      <td>64</td>\n",
       "      <td>0</td>\n",
       "      <td>0</td>\n",
       "      <td>23.3</td>\n",
       "      <td>0.672</td>\n",
       "      <td>32</td>\n",
       "      <td>1</td>\n",
       "    </tr>\n",
       "    <tr>\n",
       "      <th>3</th>\n",
       "      <td>1</td>\n",
       "      <td>89</td>\n",
       "      <td>66</td>\n",
       "      <td>23</td>\n",
       "      <td>94</td>\n",
       "      <td>28.1</td>\n",
       "      <td>0.167</td>\n",
       "      <td>21</td>\n",
       "      <td>0</td>\n",
       "    </tr>\n",
       "    <tr>\n",
       "      <th>4</th>\n",
       "      <td>0</td>\n",
       "      <td>137</td>\n",
       "      <td>40</td>\n",
       "      <td>35</td>\n",
       "      <td>168</td>\n",
       "      <td>43.1</td>\n",
       "      <td>2.288</td>\n",
       "      <td>33</td>\n",
       "      <td>1</td>\n",
       "    </tr>\n",
       "  </tbody>\n",
       "</table>\n",
       "</div>"
      ],
      "text/plain": [
       "   Pregnancies  Glucose  BloodPressure  SkinThickness  Insulin   BMI  \\\n",
       "0            6      148             72             35        0  33.6   \n",
       "1            1       85             66             29        0  26.6   \n",
       "2            8      183             64              0        0  23.3   \n",
       "3            1       89             66             23       94  28.1   \n",
       "4            0      137             40             35      168  43.1   \n",
       "\n",
       "   DiabetesPedigreeFunction  Age  Outcome  \n",
       "0                     0.627   50        1  \n",
       "1                     0.351   31        0  \n",
       "2                     0.672   32        1  \n",
       "3                     0.167   21        0  \n",
       "4                     2.288   33        1  "
      ]
     },
     "execution_count": 2,
     "metadata": {},
     "output_type": "execute_result"
    }
   ],
   "source": [
    "URL = \"https://raw.githubusercontent.com/anvarnarz/praktikum_datasets/main/diabetes.csv\"\n",
    "df = pd.read_csv(URL)\n",
    "df.head()"
   ]
  },
  {
   "cell_type": "markdown",
   "id": "19c8782d",
   "metadata": {
    "papermill": {
     "duration": 0.006312,
     "end_time": "2023-04-09T11:55:33.057111",
     "exception": false,
     "start_time": "2023-04-09T11:55:33.050799",
     "status": "completed"
    },
    "tags": []
   },
   "source": [
    "Content\n",
    "All patients in the dataset are women at least 21 years old.\n",
    "\n",
    "Columns:\n",
    "*  Pregnancies: the number of pregnancies\n",
    "* Glucose: Glucose test result\n",
    "* BloodPressure: diastolic blood pressure (mm Hg)\n",
    "* SkinThickness: Triceps skinfold thickness (mm)\n",
    "* Insulin: 2-hour serum insulin (mu U/ml)\n",
    "* BMI: Body Mass Index (weight in kg / (height in m) ^ 2)\n",
    "* DiabetesPedigreeFunction: Diabetes Pedigree Function\n",
    "* Age: Age (years)\n",
    "* Outcome: Class (0 - no diabetes, 1 - diabetes)\n",
    "\n",
    "The dataset included information on the presence or absence of diabetes. And the **Outcome** column represents diabetes *(1)* or no diabetes *(0)*."
   ]
  },
  {
   "cell_type": "code",
   "execution_count": 3,
   "id": "4358cf9e",
   "metadata": {
    "execution": {
     "iopub.execute_input": "2023-04-09T11:55:33.071314Z",
     "iopub.status.busy": "2023-04-09T11:55:33.070923Z",
     "iopub.status.idle": "2023-04-09T11:55:33.085782Z",
     "shell.execute_reply": "2023-04-09T11:55:33.084716Z"
    },
    "papermill": {
     "duration": 0.024228,
     "end_time": "2023-04-09T11:55:33.087885",
     "exception": false,
     "start_time": "2023-04-09T11:55:33.063657",
     "status": "completed"
    },
    "tags": []
   },
   "outputs": [
    {
     "data": {
      "text/plain": [
       "0    500\n",
       "1    268\n",
       "Name: Outcome, dtype: int64"
      ]
     },
     "execution_count": 3,
     "metadata": {},
     "output_type": "execute_result"
    }
   ],
   "source": [
    "df['Outcome'].value_counts()"
   ]
  },
  {
   "cell_type": "markdown",
   "id": "e3fc8f80",
   "metadata": {
    "papermill": {
     "duration": 0.005986,
     "end_time": "2023-04-09T11:55:33.100226",
     "exception": false,
     "start_time": "2023-04-09T11:55:33.094240",
     "status": "completed"
    },
    "tags": []
   },
   "source": [
    "So we have **268 patients** with *diabetes* and **500** without *it*. To ensure balance, we will exclude **268 non-diabetic** subjects."
   ]
  },
  {
   "cell_type": "code",
   "execution_count": 4,
   "id": "e80e63d9",
   "metadata": {
    "execution": {
     "iopub.execute_input": "2023-04-09T11:55:33.114831Z",
     "iopub.status.busy": "2023-04-09T11:55:33.114468Z",
     "iopub.status.idle": "2023-04-09T11:55:33.130887Z",
     "shell.execute_reply": "2023-04-09T11:55:33.129633Z"
    },
    "papermill": {
     "duration": 0.026064,
     "end_time": "2023-04-09T11:55:33.133233",
     "exception": false,
     "start_time": "2023-04-09T11:55:33.107169",
     "status": "completed"
    },
    "tags": []
   },
   "outputs": [
    {
     "data": {
      "text/plain": [
       "1    268\n",
       "0    268\n",
       "Name: Outcome, dtype: int64"
      ]
     },
     "execution_count": 4,
     "metadata": {},
     "output_type": "execute_result"
    }
   ],
   "source": [
    "df0 = df[df['Outcome'] == 0].sample(268)\n",
    "df1 = df[df['Outcome'] == 1]\n",
    "df_norm = pd.concat([df1, df0], axis=0)\n",
    "df_norm['Outcome'].value_counts()"
   ]
  },
  {
   "cell_type": "markdown",
   "id": "b13de658",
   "metadata": {
    "papermill": {
     "duration": 0.006139,
     "end_time": "2023-04-09T11:55:33.146263",
     "exception": false,
     "start_time": "2023-04-09T11:55:33.140124",
     "status": "completed"
    },
    "tags": []
   },
   "source": [
    "<h1 style=\"padding:30px; color: black; background-color:green; display:inline-block\">Correlation.</h1>"
   ]
  },
  {
   "cell_type": "code",
   "execution_count": 5,
   "id": "299a1231",
   "metadata": {
    "execution": {
     "iopub.execute_input": "2023-04-09T11:55:33.160261Z",
     "iopub.status.busy": "2023-04-09T11:55:33.159881Z",
     "iopub.status.idle": "2023-04-09T11:55:33.238258Z",
     "shell.execute_reply": "2023-04-09T11:55:33.236177Z"
    },
    "papermill": {
     "duration": 0.088203,
     "end_time": "2023-04-09T11:55:33.240610",
     "exception": false,
     "start_time": "2023-04-09T11:55:33.152407",
     "status": "completed"
    },
    "tags": []
   },
   "outputs": [
    {
     "data": {
      "text/html": [
       "<style type=\"text/css\">\n",
       "#T_e7bcf_row0_col0, #T_e7bcf_row1_col1, #T_e7bcf_row2_col2, #T_e7bcf_row3_col3, #T_e7bcf_row4_col4, #T_e7bcf_row5_col5, #T_e7bcf_row6_col6, #T_e7bcf_row7_col7, #T_e7bcf_row8_col8 {\n",
       "  background-color: #b40426;\n",
       "  color: #f1f1f1;\n",
       "}\n",
       "#T_e7bcf_row0_col1, #T_e7bcf_row4_col7 {\n",
       "  background-color: #3d50c3;\n",
       "  color: #f1f1f1;\n",
       "}\n",
       "#T_e7bcf_row0_col2 {\n",
       "  background-color: #5875e1;\n",
       "  color: #f1f1f1;\n",
       "}\n",
       "#T_e7bcf_row0_col3, #T_e7bcf_row0_col5, #T_e7bcf_row3_col1, #T_e7bcf_row3_col8, #T_e7bcf_row5_col0, #T_e7bcf_row6_col2, #T_e7bcf_row6_col7, #T_e7bcf_row7_col4, #T_e7bcf_row7_col6 {\n",
       "  background-color: #3b4cc0;\n",
       "  color: #f1f1f1;\n",
       "}\n",
       "#T_e7bcf_row0_col4 {\n",
       "  background-color: #465ecf;\n",
       "  color: #f1f1f1;\n",
       "}\n",
       "#T_e7bcf_row0_col6, #T_e7bcf_row6_col0, #T_e7bcf_row7_col3 {\n",
       "  background-color: #4358cb;\n",
       "  color: #f1f1f1;\n",
       "}\n",
       "#T_e7bcf_row0_col7 {\n",
       "  background-color: #e7d7ce;\n",
       "  color: #000000;\n",
       "}\n",
       "#T_e7bcf_row0_col8 {\n",
       "  background-color: #688aef;\n",
       "  color: #f1f1f1;\n",
       "}\n",
       "#T_e7bcf_row1_col0 {\n",
       "  background-color: #5673e0;\n",
       "  color: #f1f1f1;\n",
       "}\n",
       "#T_e7bcf_row1_col2 {\n",
       "  background-color: #5572df;\n",
       "  color: #f1f1f1;\n",
       "}\n",
       "#T_e7bcf_row1_col3, #T_e7bcf_row6_col1 {\n",
       "  background-color: #455cce;\n",
       "  color: #f1f1f1;\n",
       "}\n",
       "#T_e7bcf_row1_col4 {\n",
       "  background-color: #a5c3fe;\n",
       "  color: #000000;\n",
       "}\n",
       "#T_e7bcf_row1_col5 {\n",
       "  background-color: #86a9fc;\n",
       "  color: #f1f1f1;\n",
       "}\n",
       "#T_e7bcf_row1_col6 {\n",
       "  background-color: #5e7de7;\n",
       "  color: #f1f1f1;\n",
       "}\n",
       "#T_e7bcf_row1_col7 {\n",
       "  background-color: #8db0fe;\n",
       "  color: #000000;\n",
       "}\n",
       "#T_e7bcf_row1_col8, #T_e7bcf_row4_col3 {\n",
       "  background-color: #c6d6f1;\n",
       "  color: #000000;\n",
       "}\n",
       "#T_e7bcf_row2_col0, #T_e7bcf_row4_col5 {\n",
       "  background-color: #6f92f3;\n",
       "  color: #f1f1f1;\n",
       "}\n",
       "#T_e7bcf_row2_col1 {\n",
       "  background-color: #5470de;\n",
       "  color: #f1f1f1;\n",
       "}\n",
       "#T_e7bcf_row2_col3, #T_e7bcf_row6_col3 {\n",
       "  background-color: #7396f5;\n",
       "  color: #f1f1f1;\n",
       "}\n",
       "#T_e7bcf_row2_col4, #T_e7bcf_row2_col6 {\n",
       "  background-color: #516ddb;\n",
       "  color: #f1f1f1;\n",
       "}\n",
       "#T_e7bcf_row2_col5 {\n",
       "  background-color: #94b6ff;\n",
       "  color: #000000;\n",
       "}\n",
       "#T_e7bcf_row2_col7 {\n",
       "  background-color: #9abbff;\n",
       "  color: #000000;\n",
       "}\n",
       "#T_e7bcf_row2_col8 {\n",
       "  background-color: #4257c9;\n",
       "  color: #f1f1f1;\n",
       "}\n",
       "#T_e7bcf_row3_col0 {\n",
       "  background-color: #485fd1;\n",
       "  color: #f1f1f1;\n",
       "}\n",
       "#T_e7bcf_row3_col2, #T_e7bcf_row5_col4 {\n",
       "  background-color: #6a8bef;\n",
       "  color: #f1f1f1;\n",
       "}\n",
       "#T_e7bcf_row3_col4 {\n",
       "  background-color: #ccd9ed;\n",
       "  color: #000000;\n",
       "}\n",
       "#T_e7bcf_row3_col5 {\n",
       "  background-color: #bfd3f6;\n",
       "  color: #000000;\n",
       "}\n",
       "#T_e7bcf_row3_col6 {\n",
       "  background-color: #80a3fa;\n",
       "  color: #f1f1f1;\n",
       "}\n",
       "#T_e7bcf_row3_col7 {\n",
       "  background-color: #4f69d9;\n",
       "  color: #f1f1f1;\n",
       "}\n",
       "#T_e7bcf_row4_col0 {\n",
       "  background-color: #4b64d5;\n",
       "  color: #f1f1f1;\n",
       "}\n",
       "#T_e7bcf_row4_col1 {\n",
       "  background-color: #93b5fe;\n",
       "  color: #000000;\n",
       "}\n",
       "#T_e7bcf_row4_col2, #T_e7bcf_row8_col2 {\n",
       "  background-color: #3e51c5;\n",
       "  color: #f1f1f1;\n",
       "}\n",
       "#T_e7bcf_row4_col6 {\n",
       "  background-color: #6485ec;\n",
       "  color: #f1f1f1;\n",
       "}\n",
       "#T_e7bcf_row4_col8 {\n",
       "  background-color: #4e68d8;\n",
       "  color: #f1f1f1;\n",
       "}\n",
       "#T_e7bcf_row5_col1 {\n",
       "  background-color: #6e90f2;\n",
       "  color: #f1f1f1;\n",
       "}\n",
       "#T_e7bcf_row5_col2 {\n",
       "  background-color: #7ea1fa;\n",
       "  color: #f1f1f1;\n",
       "}\n",
       "#T_e7bcf_row5_col3 {\n",
       "  background-color: #b6cefa;\n",
       "  color: #000000;\n",
       "}\n",
       "#T_e7bcf_row5_col6 {\n",
       "  background-color: #6687ed;\n",
       "  color: #f1f1f1;\n",
       "}\n",
       "#T_e7bcf_row5_col7, #T_e7bcf_row8_col3 {\n",
       "  background-color: #3f53c6;\n",
       "  color: #f1f1f1;\n",
       "}\n",
       "#T_e7bcf_row5_col8, #T_e7bcf_row8_col7 {\n",
       "  background-color: #8badfd;\n",
       "  color: #000000;\n",
       "}\n",
       "#T_e7bcf_row6_col4 {\n",
       "  background-color: #6282ea;\n",
       "  color: #f1f1f1;\n",
       "}\n",
       "#T_e7bcf_row6_col5 {\n",
       "  background-color: #6788ee;\n",
       "  color: #f1f1f1;\n",
       "}\n",
       "#T_e7bcf_row6_col8 {\n",
       "  background-color: #5a78e4;\n",
       "  color: #f1f1f1;\n",
       "}\n",
       "#T_e7bcf_row7_col0 {\n",
       "  background-color: #e8d6cc;\n",
       "  color: #000000;\n",
       "}\n",
       "#T_e7bcf_row7_col1 {\n",
       "  background-color: #7699f6;\n",
       "  color: #f1f1f1;\n",
       "}\n",
       "#T_e7bcf_row7_col2 {\n",
       "  background-color: #85a8fc;\n",
       "  color: #f1f1f1;\n",
       "}\n",
       "#T_e7bcf_row7_col5 {\n",
       "  background-color: #4055c8;\n",
       "  color: #f1f1f1;\n",
       "}\n",
       "#T_e7bcf_row7_col8 {\n",
       "  background-color: #7a9df8;\n",
       "  color: #f1f1f1;\n",
       "}\n",
       "#T_e7bcf_row8_col0 {\n",
       "  background-color: #7b9ff9;\n",
       "  color: #f1f1f1;\n",
       "}\n",
       "#T_e7bcf_row8_col1 {\n",
       "  background-color: #c3d5f4;\n",
       "  color: #000000;\n",
       "}\n",
       "#T_e7bcf_row8_col4 {\n",
       "  background-color: #5d7ce6;\n",
       "  color: #f1f1f1;\n",
       "}\n",
       "#T_e7bcf_row8_col5 {\n",
       "  background-color: #9dbdff;\n",
       "  color: #000000;\n",
       "}\n",
       "#T_e7bcf_row8_col6 {\n",
       "  background-color: #6c8ff1;\n",
       "  color: #f1f1f1;\n",
       "}\n",
       "</style>\n",
       "<table id=\"T_e7bcf_\">\n",
       "  <thead>\n",
       "    <tr>\n",
       "      <th class=\"blank level0\" >&nbsp;</th>\n",
       "      <th class=\"col_heading level0 col0\" >Pregnancies</th>\n",
       "      <th class=\"col_heading level0 col1\" >Glucose</th>\n",
       "      <th class=\"col_heading level0 col2\" >BloodPressure</th>\n",
       "      <th class=\"col_heading level0 col3\" >SkinThickness</th>\n",
       "      <th class=\"col_heading level0 col4\" >Insulin</th>\n",
       "      <th class=\"col_heading level0 col5\" >BMI</th>\n",
       "      <th class=\"col_heading level0 col6\" >DiabetesPedigreeFunction</th>\n",
       "      <th class=\"col_heading level0 col7\" >Age</th>\n",
       "      <th class=\"col_heading level0 col8\" >Outcome</th>\n",
       "    </tr>\n",
       "  </thead>\n",
       "  <tbody>\n",
       "    <tr>\n",
       "      <th id=\"T_e7bcf_level0_row0\" class=\"row_heading level0 row0\" >Pregnancies</th>\n",
       "      <td id=\"T_e7bcf_row0_col0\" class=\"data row0 col0\" >1.000000</td>\n",
       "      <td id=\"T_e7bcf_row0_col1\" class=\"data row0 col1\" >0.093039</td>\n",
       "      <td id=\"T_e7bcf_row0_col2\" class=\"data row0 col2\" >0.168097</td>\n",
       "      <td id=\"T_e7bcf_row0_col3\" class=\"data row0 col3\" >0.047530</td>\n",
       "      <td id=\"T_e7bcf_row0_col4\" class=\"data row0 col4\" >0.057097</td>\n",
       "      <td id=\"T_e7bcf_row0_col5\" class=\"data row0 col5\" >0.000929</td>\n",
       "      <td id=\"T_e7bcf_row0_col6\" class=\"data row0 col6\" >0.032144</td>\n",
       "      <td id=\"T_e7bcf_row0_col7\" class=\"data row0 col7\" >0.544609</td>\n",
       "      <td id=\"T_e7bcf_row0_col8\" class=\"data row0 col8\" >0.202056</td>\n",
       "    </tr>\n",
       "    <tr>\n",
       "      <th id=\"T_e7bcf_level0_row1\" class=\"row_heading level0 row1\" >Glucose</th>\n",
       "      <td id=\"T_e7bcf_row1_col0\" class=\"data row1 col0\" >0.093039</td>\n",
       "      <td id=\"T_e7bcf_row1_col1\" class=\"data row1 col1\" >1.000000</td>\n",
       "      <td id=\"T_e7bcf_row1_col2\" class=\"data row1 col2\" >0.160912</td>\n",
       "      <td id=\"T_e7bcf_row1_col3\" class=\"data row1 col3\" >0.083365</td>\n",
       "      <td id=\"T_e7bcf_row1_col4\" class=\"data row1 col4\" >0.329625</td>\n",
       "      <td id=\"T_e7bcf_row1_col5\" class=\"data row1 col5\" >0.232418</td>\n",
       "      <td id=\"T_e7bcf_row1_col6\" class=\"data row1 col6\" >0.118010</td>\n",
       "      <td id=\"T_e7bcf_row1_col7\" class=\"data row1 col7\" >0.254244</td>\n",
       "      <td id=\"T_e7bcf_row1_col8\" class=\"data row1 col8\" >0.457302</td>\n",
       "    </tr>\n",
       "    <tr>\n",
       "      <th id=\"T_e7bcf_level0_row2\" class=\"row_heading level0 row2\" >BloodPressure</th>\n",
       "      <td id=\"T_e7bcf_row2_col0\" class=\"data row2 col0\" >0.168097</td>\n",
       "      <td id=\"T_e7bcf_row2_col1\" class=\"data row2 col1\" >0.160912</td>\n",
       "      <td id=\"T_e7bcf_row2_col2\" class=\"data row2 col2\" >1.000000</td>\n",
       "      <td id=\"T_e7bcf_row2_col3\" class=\"data row2 col3\" >0.218637</td>\n",
       "      <td id=\"T_e7bcf_row2_col4\" class=\"data row2 col4\" >0.092753</td>\n",
       "      <td id=\"T_e7bcf_row2_col5\" class=\"data row2 col5\" >0.271864</td>\n",
       "      <td id=\"T_e7bcf_row2_col6\" class=\"data row2 col6\" >0.079467</td>\n",
       "      <td id=\"T_e7bcf_row2_col7\" class=\"data row2 col7\" >0.290721</td>\n",
       "      <td id=\"T_e7bcf_row2_col8\" class=\"data row2 col8\" >0.090455</td>\n",
       "    </tr>\n",
       "    <tr>\n",
       "      <th id=\"T_e7bcf_level0_row3\" class=\"row_heading level0 row3\" >SkinThickness</th>\n",
       "      <td id=\"T_e7bcf_row3_col0\" class=\"data row3 col0\" >0.047530</td>\n",
       "      <td id=\"T_e7bcf_row3_col1\" class=\"data row3 col1\" >0.083365</td>\n",
       "      <td id=\"T_e7bcf_row3_col2\" class=\"data row3 col2\" >0.218637</td>\n",
       "      <td id=\"T_e7bcf_row3_col3\" class=\"data row3 col3\" >1.000000</td>\n",
       "      <td id=\"T_e7bcf_row3_col4\" class=\"data row3 col4\" >0.448532</td>\n",
       "      <td id=\"T_e7bcf_row3_col5\" class=\"data row3 col5\" >0.398029</td>\n",
       "      <td id=\"T_e7bcf_row3_col6\" class=\"data row3 col6\" >0.218336</td>\n",
       "      <td id=\"T_e7bcf_row3_col7\" class=\"data row3 col7\" >0.073993</td>\n",
       "      <td id=\"T_e7bcf_row3_col8\" class=\"data row3 col8\" >0.064986</td>\n",
       "    </tr>\n",
       "    <tr>\n",
       "      <th id=\"T_e7bcf_level0_row4\" class=\"row_heading level0 row4\" >Insulin</th>\n",
       "      <td id=\"T_e7bcf_row4_col0\" class=\"data row4 col0\" >0.057097</td>\n",
       "      <td id=\"T_e7bcf_row4_col1\" class=\"data row4 col1\" >0.329625</td>\n",
       "      <td id=\"T_e7bcf_row4_col2\" class=\"data row4 col2\" >0.092753</td>\n",
       "      <td id=\"T_e7bcf_row4_col3\" class=\"data row4 col3\" >0.448532</td>\n",
       "      <td id=\"T_e7bcf_row4_col4\" class=\"data row4 col4\" >1.000000</td>\n",
       "      <td id=\"T_e7bcf_row4_col5\" class=\"data row4 col5\" >0.165188</td>\n",
       "      <td id=\"T_e7bcf_row4_col6\" class=\"data row4 col6\" >0.140490</td>\n",
       "      <td id=\"T_e7bcf_row4_col7\" class=\"data row4 col7\" >0.016508</td>\n",
       "      <td id=\"T_e7bcf_row4_col8\" class=\"data row4 col8\" >0.125579</td>\n",
       "    </tr>\n",
       "    <tr>\n",
       "      <th id=\"T_e7bcf_level0_row5\" class=\"row_heading level0 row5\" >BMI</th>\n",
       "      <td id=\"T_e7bcf_row5_col0\" class=\"data row5 col0\" >0.000929</td>\n",
       "      <td id=\"T_e7bcf_row5_col1\" class=\"data row5 col1\" >0.232418</td>\n",
       "      <td id=\"T_e7bcf_row5_col2\" class=\"data row5 col2\" >0.271864</td>\n",
       "      <td id=\"T_e7bcf_row5_col3\" class=\"data row5 col3\" >0.398029</td>\n",
       "      <td id=\"T_e7bcf_row5_col4\" class=\"data row5 col4\" >0.165188</td>\n",
       "      <td id=\"T_e7bcf_row5_col5\" class=\"data row5 col5\" >1.000000</td>\n",
       "      <td id=\"T_e7bcf_row5_col6\" class=\"data row5 col6\" >0.143508</td>\n",
       "      <td id=\"T_e7bcf_row5_col7\" class=\"data row5 col7\" >0.021010</td>\n",
       "      <td id=\"T_e7bcf_row5_col8\" class=\"data row5 col8\" >0.294983</td>\n",
       "    </tr>\n",
       "    <tr>\n",
       "      <th id=\"T_e7bcf_level0_row6\" class=\"row_heading level0 row6\" >DiabetesPedigreeFunction</th>\n",
       "      <td id=\"T_e7bcf_row6_col0\" class=\"data row6 col0\" >0.032144</td>\n",
       "      <td id=\"T_e7bcf_row6_col1\" class=\"data row6 col1\" >0.118010</td>\n",
       "      <td id=\"T_e7bcf_row6_col2\" class=\"data row6 col2\" >0.079467</td>\n",
       "      <td id=\"T_e7bcf_row6_col3\" class=\"data row6 col3\" >0.218336</td>\n",
       "      <td id=\"T_e7bcf_row6_col4\" class=\"data row6 col4\" >0.140490</td>\n",
       "      <td id=\"T_e7bcf_row6_col5\" class=\"data row6 col5\" >0.143508</td>\n",
       "      <td id=\"T_e7bcf_row6_col6\" class=\"data row6 col6\" >1.000000</td>\n",
       "      <td id=\"T_e7bcf_row6_col7\" class=\"data row6 col7\" >0.004876</td>\n",
       "      <td id=\"T_e7bcf_row6_col8\" class=\"data row6 col8\" >0.162036</td>\n",
       "    </tr>\n",
       "    <tr>\n",
       "      <th id=\"T_e7bcf_level0_row7\" class=\"row_heading level0 row7\" >Age</th>\n",
       "      <td id=\"T_e7bcf_row7_col0\" class=\"data row7 col0\" >0.544609</td>\n",
       "      <td id=\"T_e7bcf_row7_col1\" class=\"data row7 col1\" >0.254244</td>\n",
       "      <td id=\"T_e7bcf_row7_col2\" class=\"data row7 col2\" >0.290721</td>\n",
       "      <td id=\"T_e7bcf_row7_col3\" class=\"data row7 col3\" >0.073993</td>\n",
       "      <td id=\"T_e7bcf_row7_col4\" class=\"data row7 col4\" >0.016508</td>\n",
       "      <td id=\"T_e7bcf_row7_col5\" class=\"data row7 col5\" >0.021010</td>\n",
       "      <td id=\"T_e7bcf_row7_col6\" class=\"data row7 col6\" >0.004876</td>\n",
       "      <td id=\"T_e7bcf_row7_col7\" class=\"data row7 col7\" >1.000000</td>\n",
       "      <td id=\"T_e7bcf_row7_col8\" class=\"data row7 col8\" >0.249283</td>\n",
       "    </tr>\n",
       "    <tr>\n",
       "      <th id=\"T_e7bcf_level0_row8\" class=\"row_heading level0 row8\" >Outcome</th>\n",
       "      <td id=\"T_e7bcf_row8_col0\" class=\"data row8 col0\" >0.202056</td>\n",
       "      <td id=\"T_e7bcf_row8_col1\" class=\"data row8 col1\" >0.457302</td>\n",
       "      <td id=\"T_e7bcf_row8_col2\" class=\"data row8 col2\" >0.090455</td>\n",
       "      <td id=\"T_e7bcf_row8_col3\" class=\"data row8 col3\" >0.064986</td>\n",
       "      <td id=\"T_e7bcf_row8_col4\" class=\"data row8 col4\" >0.125579</td>\n",
       "      <td id=\"T_e7bcf_row8_col5\" class=\"data row8 col5\" >0.294983</td>\n",
       "      <td id=\"T_e7bcf_row8_col6\" class=\"data row8 col6\" >0.162036</td>\n",
       "      <td id=\"T_e7bcf_row8_col7\" class=\"data row8 col7\" >0.249283</td>\n",
       "      <td id=\"T_e7bcf_row8_col8\" class=\"data row8 col8\" >1.000000</td>\n",
       "    </tr>\n",
       "  </tbody>\n",
       "</table>\n"
      ],
      "text/plain": [
       "<pandas.io.formats.style.Styler at 0x7f8641b34810>"
      ]
     },
     "execution_count": 5,
     "metadata": {},
     "output_type": "execute_result"
    }
   ],
   "source": [
    "corr_matrix = df_norm.corr().abs()\n",
    "corr_matrix.style.background_gradient(cmap='coolwarm')"
   ]
  },
  {
   "cell_type": "code",
   "execution_count": 6,
   "id": "a87aa97f",
   "metadata": {
    "execution": {
     "iopub.execute_input": "2023-04-09T11:55:33.256152Z",
     "iopub.status.busy": "2023-04-09T11:55:33.255839Z",
     "iopub.status.idle": "2023-04-09T11:55:33.264182Z",
     "shell.execute_reply": "2023-04-09T11:55:33.263095Z"
    },
    "papermill": {
     "duration": 0.018777,
     "end_time": "2023-04-09T11:55:33.266368",
     "exception": false,
     "start_time": "2023-04-09T11:55:33.247591",
     "status": "completed"
    },
    "tags": []
   },
   "outputs": [],
   "source": [
    "df_norm[\"Pregnancies/Age\"] = df_norm[\"Pregnancies\"] / df_norm[\"Age\"]\n",
    "df_norm[\"Blood/Age\"] = df_norm[\"BloodPressure\"] / df_norm[\"Age\"]\n",
    "df_norm[\"Glucose/Age\"] = df_norm[\"Glucose\"] / df_norm[\"Age\"]"
   ]
  },
  {
   "cell_type": "code",
   "execution_count": 7,
   "id": "085bc63c",
   "metadata": {
    "execution": {
     "iopub.execute_input": "2023-04-09T11:55:33.282273Z",
     "iopub.status.busy": "2023-04-09T11:55:33.281231Z",
     "iopub.status.idle": "2023-04-09T11:55:33.296861Z",
     "shell.execute_reply": "2023-04-09T11:55:33.295853Z"
    },
    "papermill": {
     "duration": 0.025653,
     "end_time": "2023-04-09T11:55:33.298948",
     "exception": false,
     "start_time": "2023-04-09T11:55:33.273295",
     "status": "completed"
    },
    "tags": []
   },
   "outputs": [
    {
     "data": {
      "text/plain": [
       "Outcome                     1.000000\n",
       "Glucose                     0.457302\n",
       "BMI                         0.294983\n",
       "Age                         0.249283\n",
       "Pregnancies                 0.202056\n",
       "DiabetesPedigreeFunction    0.162036\n",
       "Blood/Age                   0.161360\n",
       "Pregnancies/Age             0.143879\n",
       "Insulin                     0.125579\n",
       "Glucose/Age                 0.093819\n",
       "BloodPressure               0.090455\n",
       "SkinThickness               0.064986\n",
       "dtype: float64"
      ]
     },
     "execution_count": 7,
     "metadata": {},
     "output_type": "execute_result"
    }
   ],
   "source": [
    "df_norm.corrwith(df_norm['Outcome']).abs().sort_values(ascending=False)"
   ]
  },
  {
   "cell_type": "markdown",
   "id": "12a991c1",
   "metadata": {
    "papermill": {
     "duration": 0.006674,
     "end_time": "2023-04-09T11:55:33.312656",
     "exception": false,
     "start_time": "2023-04-09T11:55:33.305982",
     "status": "completed"
    },
    "tags": []
   },
   "source": [
    "<h1 style=\"padding:30px; color: black; background-color:green; display:inline-block\">Machine Learning.</h1>"
   ]
  },
  {
   "cell_type": "code",
   "execution_count": 8,
   "id": "5cf10150",
   "metadata": {
    "execution": {
     "iopub.execute_input": "2023-04-09T11:55:33.328047Z",
     "iopub.status.busy": "2023-04-09T11:55:33.327079Z",
     "iopub.status.idle": "2023-04-09T11:55:33.334958Z",
     "shell.execute_reply": "2023-04-09T11:55:33.334002Z"
    },
    "papermill": {
     "duration": 0.017724,
     "end_time": "2023-04-09T11:55:33.337088",
     "exception": false,
     "start_time": "2023-04-09T11:55:33.319364",
     "status": "completed"
    },
    "tags": []
   },
   "outputs": [],
   "source": [
    "X = df_norm.drop('Outcome', axis=1).values\n",
    "y = df_norm['Outcome']\n",
    "scaler = StandardScaler()\n",
    "X = scaler.fit_transform(X)"
   ]
  },
  {
   "cell_type": "code",
   "execution_count": 9,
   "id": "1bbb1322",
   "metadata": {
    "execution": {
     "iopub.execute_input": "2023-04-09T11:55:33.352529Z",
     "iopub.status.busy": "2023-04-09T11:55:33.351630Z",
     "iopub.status.idle": "2023-04-09T11:55:33.509984Z",
     "shell.execute_reply": "2023-04-09T11:55:33.508723Z"
    },
    "papermill": {
     "duration": 0.169182,
     "end_time": "2023-04-09T11:55:33.513098",
     "exception": false,
     "start_time": "2023-04-09T11:55:33.343916",
     "status": "completed"
    },
    "tags": []
   },
   "outputs": [
    {
     "data": {
      "text/plain": [
       "KNeighborsClassifier(n_neighbors=17)"
      ]
     },
     "execution_count": 9,
     "metadata": {},
     "output_type": "execute_result"
    }
   ],
   "source": [
    "X_train, X_test, y_train, y_test = train_test_split(X,y, test_size=0.2, random_state=12)\n",
    "\n",
    "# k-NN\n",
    "from sklearn.neighbors import KNeighborsClassifier\n",
    "knn = KNeighborsClassifier(n_neighbors=17) # k-ni qiymati\n",
    "\n",
    "knn.fit(X_train, y_train)"
   ]
  },
  {
   "cell_type": "code",
   "execution_count": 10,
   "id": "63a3e35c",
   "metadata": {
    "execution": {
     "iopub.execute_input": "2023-04-09T11:55:33.528806Z",
     "iopub.status.busy": "2023-04-09T11:55:33.528487Z",
     "iopub.status.idle": "2023-04-09T11:55:33.537836Z",
     "shell.execute_reply": "2023-04-09T11:55:33.536822Z"
    },
    "papermill": {
     "duration": 0.01979,
     "end_time": "2023-04-09T11:55:33.540316",
     "exception": false,
     "start_time": "2023-04-09T11:55:33.520526",
     "status": "completed"
    },
    "tags": []
   },
   "outputs": [],
   "source": [
    "y_predict = knn.predict(X_test)"
   ]
  },
  {
   "cell_type": "markdown",
   "id": "161a32c3",
   "metadata": {
    "papermill": {
     "duration": 0.006709,
     "end_time": "2023-04-09T11:55:33.554236",
     "exception": false,
     "start_time": "2023-04-09T11:55:33.547527",
     "status": "completed"
    },
    "tags": []
   },
   "source": [
    "<h1 style=\"padding:30px; color: black; background-color:green; display:inline-block\">Evaluation.</h1>\n",
    "<h3>Jaccard index</h3>"
   ]
  },
  {
   "cell_type": "code",
   "execution_count": 11,
   "id": "8d42ea9c",
   "metadata": {
    "execution": {
     "iopub.execute_input": "2023-04-09T11:55:33.569268Z",
     "iopub.status.busy": "2023-04-09T11:55:33.568904Z",
     "iopub.status.idle": "2023-04-09T11:55:33.578263Z",
     "shell.execute_reply": "2023-04-09T11:55:33.577220Z"
    },
    "papermill": {
     "duration": 0.019312,
     "end_time": "2023-04-09T11:55:33.580366",
     "exception": false,
     "start_time": "2023-04-09T11:55:33.561054",
     "status": "completed"
    },
    "tags": []
   },
   "outputs": [
    {
     "data": {
      "text/plain": [
       "0.5873015873015873"
      ]
     },
     "execution_count": 11,
     "metadata": {},
     "output_type": "execute_result"
    }
   ],
   "source": [
    "jaccard_score(y_test, y_predict)"
   ]
  },
  {
   "cell_type": "markdown",
   "id": "3c3eac53",
   "metadata": {
    "papermill": {
     "duration": 0.006747,
     "end_time": "2023-04-09T11:55:33.594329",
     "exception": false,
     "start_time": "2023-04-09T11:55:33.587582",
     "status": "completed"
    },
    "tags": []
   },
   "source": [
    "<h3>Confusion matrix</h3>"
   ]
  },
  {
   "cell_type": "code",
   "execution_count": 12,
   "id": "57ede951",
   "metadata": {
    "execution": {
     "iopub.execute_input": "2023-04-09T11:55:33.610223Z",
     "iopub.status.busy": "2023-04-09T11:55:33.609085Z",
     "iopub.status.idle": "2023-04-09T11:55:33.853292Z",
     "shell.execute_reply": "2023-04-09T11:55:33.852220Z"
    },
    "papermill": {
     "duration": 0.254566,
     "end_time": "2023-04-09T11:55:33.855595",
     "exception": false,
     "start_time": "2023-04-09T11:55:33.601029",
     "status": "completed"
    },
    "tags": []
   },
   "outputs": [
    {
     "data": {
      "image/png": "[encoded data removed]",
      "text/plain": [
       "<Figure size 640x480 with 2 Axes>"
      ]
     },
     "metadata": {},
     "output_type": "display_data"
    }
   ],
   "source": [
    "sns.heatmap(confusion_matrix(y_test, y_predict), annot=True)\n",
    "plt.show()"
   ]
  },
  {
   "cell_type": "code",
   "execution_count": 13,
   "id": "070b1e5b",
   "metadata": {
    "execution": {
     "iopub.execute_input": "2023-04-09T11:55:33.872297Z",
     "iopub.status.busy": "2023-04-09T11:55:33.871374Z",
     "iopub.status.idle": "2023-04-09T11:55:33.879900Z",
     "shell.execute_reply": "2023-04-09T11:55:33.878797Z"
    },
    "papermill": {
     "duration": 0.019156,
     "end_time": "2023-04-09T11:55:33.882211",
     "exception": false,
     "start_time": "2023-04-09T11:55:33.863055",
     "status": "completed"
    },
    "tags": []
   },
   "outputs": [
    {
     "data": {
      "text/plain": [
       "array([[45, 13],\n",
       "       [13, 37]])"
      ]
     },
     "execution_count": 13,
     "metadata": {},
     "output_type": "execute_result"
    }
   ],
   "source": [
    "confusion_matrix(y_test, y_predict)"
   ]
  },
  {
   "cell_type": "markdown",
   "id": "8d0ef083",
   "metadata": {
    "papermill": {
     "duration": 0.007061,
     "end_time": "2023-04-09T11:55:33.896624",
     "exception": false,
     "start_time": "2023-04-09T11:55:33.889563",
     "status": "completed"
    },
    "tags": []
   },
   "source": [
    "Precision, recall, F1"
   ]
  },
  {
   "cell_type": "code",
   "execution_count": 14,
   "id": "806571b4",
   "metadata": {
    "execution": {
     "iopub.execute_input": "2023-04-09T11:55:33.912404Z",
     "iopub.status.busy": "2023-04-09T11:55:33.912037Z",
     "iopub.status.idle": "2023-04-09T11:55:33.923018Z",
     "shell.execute_reply": "2023-04-09T11:55:33.921316Z"
    },
    "papermill": {
     "duration": 0.021546,
     "end_time": "2023-04-09T11:55:33.925256",
     "exception": false,
     "start_time": "2023-04-09T11:55:33.903710",
     "status": "completed"
    },
    "tags": []
   },
   "outputs": [
    {
     "name": "stdout",
     "output_type": "stream",
     "text": [
      "              precision    recall  f1-score   support\n",
      "\n",
      "           0       0.78      0.78      0.78        58\n",
      "           1       0.74      0.74      0.74        50\n",
      "\n",
      "    accuracy                           0.76       108\n",
      "   macro avg       0.76      0.76      0.76       108\n",
      "weighted avg       0.76      0.76      0.76       108\n",
      "\n"
     ]
    }
   ],
   "source": [
    "print(classification_report(y_test, y_predict))"
   ]
  },
  {
   "cell_type": "markdown",
   "id": "02e19daf",
   "metadata": {
    "papermill": {
     "duration": 0.007002,
     "end_time": "2023-04-09T11:55:33.940129",
     "exception": false,
     "start_time": "2023-04-09T11:55:33.933127",
     "status": "completed"
    },
    "tags": []
   },
   "source": [
    "We check using cross-validation"
   ]
  },
  {
   "cell_type": "code",
   "execution_count": 15,
   "id": "6f4c65cf",
   "metadata": {
    "execution": {
     "iopub.execute_input": "2023-04-09T11:55:33.957602Z",
     "iopub.status.busy": "2023-04-09T11:55:33.956495Z",
     "iopub.status.idle": "2023-04-09T11:55:33.994380Z",
     "shell.execute_reply": "2023-04-09T11:55:33.993350Z"
    },
    "papermill": {
     "duration": 0.04938,
     "end_time": "2023-04-09T11:55:33.996863",
     "exception": false,
     "start_time": "2023-04-09T11:55:33.947483",
     "status": "completed"
    },
    "tags": []
   },
   "outputs": [
    {
     "name": "stdout",
     "output_type": "stream",
     "text": [
      "Classification Report: \n",
      "               precision    recall  f1-score   support\n",
      "\n",
      "           0       0.70      0.70      0.70       268\n",
      "           1       0.70      0.70      0.70       268\n",
      "\n",
      "    accuracy                           0.70       536\n",
      "   macro avg       0.70      0.70      0.70       536\n",
      "weighted avg       0.70      0.70      0.70       536\n",
      "\n"
     ]
    }
   ],
   "source": [
    "predict = cross_val_predict(estimator = knn, X = X, y = y, cv = 5)\n",
    "\n",
    "# Modelni baholash\n",
    "from sklearn.metrics import classification_report\n",
    "print(\"Classification Report: \\n\",classification_report(y, predict))"
   ]
  },
  {
   "cell_type": "markdown",
   "id": "cc3ec4e5",
   "metadata": {
    "papermill": {
     "duration": 0.007318,
     "end_time": "2023-04-09T11:55:34.011928",
     "exception": false,
     "start_time": "2023-04-09T11:55:34.004610",
     "status": "completed"
    },
    "tags": []
   },
   "source": [
    "Finding the best k"
   ]
  },
  {
   "cell_type": "code",
   "execution_count": 16,
   "id": "5ee9d8a7",
   "metadata": {
    "execution": {
     "iopub.execute_input": "2023-04-09T11:55:34.028276Z",
     "iopub.status.busy": "2023-04-09T11:55:34.027882Z",
     "iopub.status.idle": "2023-04-09T11:55:34.417072Z",
     "shell.execute_reply": "2023-04-09T11:55:34.416105Z"
    },
    "papermill": {
     "duration": 0.401185,
     "end_time": "2023-04-09T11:55:34.420475",
     "exception": false,
     "start_time": "2023-04-09T11:55:34.019290",
     "status": "completed"
    },
    "tags": []
   },
   "outputs": [
    {
     "data": {
      "image/png": "[encoded data removed]",
      "text/plain": [
       "<Figure size 1000x600 with 1 Axes>"
      ]
     },
     "metadata": {},
     "output_type": "display_data"
    }
   ],
   "source": [
    "f1 = []\n",
    "for k in range(1,25):\n",
    "    knn = KNeighborsClassifier(n_neighbors=k) # k-ni qiymati\n",
    "    knn.fit(X_train, y_train)\n",
    "    y_predict = knn.predict(X_test)\n",
    "    f1.append(f1_score(y_test, y_predict))\n",
    "\n",
    "plt.figure(figsize=(10,6))\n",
    "plt.plot(range(1,25),f1)\n",
    "plt.xticks(range(1,25))\n",
    "plt.grid()\n",
    "plt.show()"
   ]
  },
  {
   "cell_type": "markdown",
   "id": "bbb9ac01",
   "metadata": {
    "papermill": {
     "duration": 0.007891,
     "end_time": "2023-04-09T11:55:34.437230",
     "exception": false,
     "start_time": "2023-04-09T11:55:34.429339",
     "status": "completed"
    },
    "tags": []
   },
   "source": [
    "Grid Search"
   ]
  },
  {
   "cell_type": "code",
   "execution_count": 17,
   "id": "7038ebe8",
   "metadata": {
    "execution": {
     "iopub.execute_input": "2023-04-09T11:55:34.455207Z",
     "iopub.status.busy": "2023-04-09T11:55:34.454170Z",
     "iopub.status.idle": "2023-04-09T11:55:35.086377Z",
     "shell.execute_reply": "2023-04-09T11:55:35.085224Z"
    },
    "papermill": {
     "duration": 0.644281,
     "end_time": "2023-04-09T11:55:35.089337",
     "exception": false,
     "start_time": "2023-04-09T11:55:34.445056",
     "status": "completed"
    },
    "tags": []
   },
   "outputs": [
    {
     "data": {
      "text/plain": [
       "GridSearchCV(cv=5, estimator=KNeighborsClassifier(n_neighbors=24),\n",
       "             param_grid={'n_neighbors': array([ 1,  2,  3,  4,  5,  6,  7,  8,  9, 10, 11, 12, 13, 14, 15, 16, 17,\n",
       "       18, 19, 20, 21, 22, 23, 24])})"
      ]
     },
     "execution_count": 17,
     "metadata": {},
     "output_type": "execute_result"
    }
   ],
   "source": [
    "param_grid = {'n_neighbors': np.arange(1, 25)}\n",
    "\n",
    "knn_gscv = GridSearchCV(knn, param_grid, cv=5)\n",
    "\n",
    "knn_gscv.fit(X, y)"
   ]
  },
  {
   "cell_type": "code",
   "execution_count": 18,
   "id": "397a3ba4",
   "metadata": {
    "execution": {
     "iopub.execute_input": "2023-04-09T11:55:35.107137Z",
     "iopub.status.busy": "2023-04-09T11:55:35.106815Z",
     "iopub.status.idle": "2023-04-09T11:55:35.113368Z",
     "shell.execute_reply": "2023-04-09T11:55:35.112334Z"
    },
    "papermill": {
     "duration": 0.017956,
     "end_time": "2023-04-09T11:55:35.115579",
     "exception": false,
     "start_time": "2023-04-09T11:55:35.097623",
     "status": "completed"
    },
    "tags": []
   },
   "outputs": [
    {
     "data": {
      "text/plain": [
       "array([24, 23,  6, 20, 21, 22, 18, 15,  1,  4,  5, 10,  7,  9,  8, 14, 13,\n",
       "        2,  3, 17, 11, 12, 16, 19], dtype=int32)"
      ]
     },
     "execution_count": 18,
     "metadata": {},
     "output_type": "execute_result"
    }
   ],
   "source": [
    "knn_gscv.cv_results_['rank_test_score']"
   ]
  },
  {
   "cell_type": "code",
   "execution_count": 19,
   "id": "9165e261",
   "metadata": {
    "execution": {
     "iopub.execute_input": "2023-04-09T11:55:35.133107Z",
     "iopub.status.busy": "2023-04-09T11:55:35.132796Z",
     "iopub.status.idle": "2023-04-09T11:55:35.138800Z",
     "shell.execute_reply": "2023-04-09T11:55:35.137815Z"
    },
    "papermill": {
     "duration": 0.017292,
     "end_time": "2023-04-09T11:55:35.140935",
     "exception": false,
     "start_time": "2023-04-09T11:55:35.123643",
     "status": "completed"
    },
    "tags": []
   },
   "outputs": [
    {
     "data": {
      "text/plain": [
       "{'n_neighbors': 9}"
      ]
     },
     "execution_count": 19,
     "metadata": {},
     "output_type": "execute_result"
    }
   ],
   "source": [
    "knn_gscv.best_params_"
   ]
  },
  {
   "cell_type": "code",
   "execution_count": 20,
   "id": "7e39fb51",
   "metadata": {
    "execution": {
     "iopub.execute_input": "2023-04-09T11:55:35.159329Z",
     "iopub.status.busy": "2023-04-09T11:55:35.158317Z",
     "iopub.status.idle": "2023-04-09T11:55:35.165120Z",
     "shell.execute_reply": "2023-04-09T11:55:35.164087Z"
    },
    "papermill": {
     "duration": 0.018104,
     "end_time": "2023-04-09T11:55:35.167207",
     "exception": false,
     "start_time": "2023-04-09T11:55:35.149103",
     "status": "completed"
    },
    "tags": []
   },
   "outputs": [
    {
     "data": {
      "text/plain": [
       "0.7164935964001384"
      ]
     },
     "execution_count": 20,
     "metadata": {},
     "output_type": "execute_result"
    }
   ],
   "source": [
    "knn_gscv.best_score_"
   ]
  },
  {
   "cell_type": "code",
   "execution_count": 21,
   "id": "7d782ff8",
   "metadata": {
    "execution": {
     "iopub.execute_input": "2023-04-09T11:55:35.185665Z",
     "iopub.status.busy": "2023-04-09T11:55:35.184765Z",
     "iopub.status.idle": "2023-04-09T11:55:35.457082Z",
     "shell.execute_reply": "2023-04-09T11:55:35.456080Z"
    },
    "papermill": {
     "duration": 0.284054,
     "end_time": "2023-04-09T11:55:35.459551",
     "exception": false,
     "start_time": "2023-04-09T11:55:35.175497",
     "status": "completed"
    },
    "tags": []
   },
   "outputs": [
    {
     "data": {
      "image/png": "[encoded data removed]",
      "text/plain": [
       "<Figure size 1000x600 with 1 Axes>"
      ]
     },
     "metadata": {},
     "output_type": "display_data"
    }
   ],
   "source": [
    "plt.figure(figsize=(10,6))\n",
    "plt.plot(param_grid['n_neighbors'], knn_gscv.cv_results_['rank_test_score'])\n",
    "plt.xticks(param_grid['n_neighbors'])\n",
    "plt.xlabel(\"k\")\n",
    "plt.ylabel(\"Xatolik reytingi\")\n",
    "plt.grid()\n",
    "plt.show()"
   ]
  }
 ],
 "metadata": {
  "kernelspec": {
   "display_name": "Python 3",
   "language": "python",
   "name": "python3"
  },
  "language_info": {
   "codemirror_mode": {
    "name": "ipython",
    "version": 3
   },
   "file_extension": ".py",
   "mimetype": "text/x-python",
   "name": "python",
   "nbconvert_exporter": "python",
   "pygments_lexer": "ipython3",
   "version": "3.7.12"
  },
  "papermill": {
   "default_parameters": {},
   "duration": 13.707053,
   "end_time": "2023-04-09T11:55:36.189518",
   "environment_variables": {},
   "exception": null,
   "input_path": "__notebook__.ipynb",
   "output_path": "__notebook__.ipynb",
   "parameters": {},
   "start_time": "2023-04-09T11:55:22.482465",
   "version": "2.4.0"
  }
 },
 "nbformat": 4,
 "nbformat_minor": 5
}
