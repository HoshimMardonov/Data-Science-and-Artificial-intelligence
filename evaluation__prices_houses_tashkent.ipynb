{
 "cells": [
  {
   "cell_type": "code",
   "execution_count": 1,
   "id": "87b8b754",
   "metadata": {
    "_cell_guid": "b1076dfc-b9ad-4769-8c92-a6c4dae69d19",
    "_uuid": "8f2839f25d086af736a60e9eeb907d3b93b6e0e5",
    "execution": {
     "iopub.execute_input": "2023-04-07T11:21:21.940607Z",
     "iopub.status.busy": "2023-04-07T11:21:21.939464Z",
     "iopub.status.idle": "2023-04-07T11:21:22.949906Z",
     "shell.execute_reply": "2023-04-07T11:21:22.948741Z"
    },
    "papermill": {
     "duration": 1.03466,
     "end_time": "2023-04-07T11:21:22.953034",
     "exception": false,
     "start_time": "2023-04-07T11:21:21.918374",
     "status": "completed"
    },
    "tags": []
   },
   "outputs": [],
   "source": [
    "import pandas as pd\n",
    "import numpy as np\n",
    "import sklearn # scikit-learn kutubxonasi\n",
    "import matplotlib.pyplot as plt\n",
    "import seaborn as sns"
   ]
  },
  {
   "cell_type": "code",
   "execution_count": 2,
   "id": "68df2800",
   "metadata": {
    "execution": {
     "iopub.execute_input": "2023-04-07T11:21:23.000948Z",
     "iopub.status.busy": "2023-04-07T11:21:23.000590Z",
     "iopub.status.idle": "2023-04-07T11:21:23.803597Z",
     "shell.execute_reply": "2023-04-07T11:21:23.802507Z"
    },
    "papermill": {
     "duration": 0.826343,
     "end_time": "2023-04-07T11:21:23.807312",
     "exception": false,
     "start_time": "2023-04-07T11:21:22.980969",
     "status": "completed"
    },
    "tags": []
   },
   "outputs": [
    {
     "data": {
      "text/html": [
       "<div>\n",
       "<style scoped>\n",
       "    .dataframe tbody tr th:only-of-type {\n",
       "        vertical-align: middle;\n",
       "    }\n",
       "\n",
       "    .dataframe tbody tr th {\n",
       "        vertical-align: top;\n",
       "    }\n",
       "\n",
       "    .dataframe thead th {\n",
       "        text-align: right;\n",
       "    }\n",
       "</style>\n",
       "<table border=\"1\" class=\"dataframe\">\n",
       "  <thead>\n",
       "    <tr style=\"text-align: right;\">\n",
       "      <th></th>\n",
       "      <th>location</th>\n",
       "      <th>district</th>\n",
       "      <th>rooms</th>\n",
       "      <th>size</th>\n",
       "      <th>level</th>\n",
       "      <th>max_levels</th>\n",
       "      <th>price</th>\n",
       "    </tr>\n",
       "  </thead>\n",
       "  <tbody>\n",
       "    <tr>\n",
       "      <th>0</th>\n",
       "      <td>город Ташкент, Юнусабадский район, Юнусабад 8-...</td>\n",
       "      <td>Юнусабадский</td>\n",
       "      <td>3</td>\n",
       "      <td>57</td>\n",
       "      <td>4</td>\n",
       "      <td>4</td>\n",
       "      <td>52000</td>\n",
       "    </tr>\n",
       "    <tr>\n",
       "      <th>1</th>\n",
       "      <td>город Ташкент, Яккасарайский район, 1-й тупик ...</td>\n",
       "      <td>Яккасарайский</td>\n",
       "      <td>2</td>\n",
       "      <td>52</td>\n",
       "      <td>4</td>\n",
       "      <td>5</td>\n",
       "      <td>56000</td>\n",
       "    </tr>\n",
       "    <tr>\n",
       "      <th>2</th>\n",
       "      <td>город Ташкент, Чиланзарский район, Чиланзар 2-...</td>\n",
       "      <td>Чиланзарский</td>\n",
       "      <td>2</td>\n",
       "      <td>42</td>\n",
       "      <td>4</td>\n",
       "      <td>4</td>\n",
       "      <td>37000</td>\n",
       "    </tr>\n",
       "    <tr>\n",
       "      <th>3</th>\n",
       "      <td>город Ташкент, Чиланзарский район, Чиланзар 9-...</td>\n",
       "      <td>Чиланзарский</td>\n",
       "      <td>3</td>\n",
       "      <td>65</td>\n",
       "      <td>1</td>\n",
       "      <td>4</td>\n",
       "      <td>49500</td>\n",
       "    </tr>\n",
       "    <tr>\n",
       "      <th>4</th>\n",
       "      <td>город Ташкент, Чиланзарский район, площадь Актепа</td>\n",
       "      <td>Чиланзарский</td>\n",
       "      <td>3</td>\n",
       "      <td>70</td>\n",
       "      <td>3</td>\n",
       "      <td>5</td>\n",
       "      <td>55000</td>\n",
       "    </tr>\n",
       "  </tbody>\n",
       "</table>\n",
       "</div>"
      ],
      "text/plain": [
       "                                            location       district  rooms  \\\n",
       "0  город Ташкент, Юнусабадский район, Юнусабад 8-...   Юнусабадский      3   \n",
       "1  город Ташкент, Яккасарайский район, 1-й тупик ...  Яккасарайский      2   \n",
       "2  город Ташкент, Чиланзарский район, Чиланзар 2-...   Чиланзарский      2   \n",
       "3  город Ташкент, Чиланзарский район, Чиланзар 9-...   Чиланзарский      3   \n",
       "4  город Ташкент, Чиланзарский район, площадь Актепа   Чиланзарский      3   \n",
       "\n",
       "  size  level  max_levels  price  \n",
       "0   57      4           4  52000  \n",
       "1   52      4           5  56000  \n",
       "2   42      4           4  37000  \n",
       "3   65      1           4  49500  \n",
       "4   70      3           5  55000  "
      ]
     },
     "execution_count": 2,
     "metadata": {},
     "output_type": "execute_result"
    }
   ],
   "source": [
    "df = pd.read_csv('https://raw.githubusercontent.com/anvarnarz/praktikum_datasets/main/housing_data_08-02-2021.csv')\n",
    "df.head()"
   ]
  },
  {
   "cell_type": "markdown",
   "id": "f16b8020",
   "metadata": {
    "papermill": {
     "duration": 0.017877,
     "end_time": "2023-04-07T11:21:23.843013",
     "exception": false,
     "start_time": "2023-04-07T11:21:23.825136",
     "status": "completed"
    },
    "tags": []
   },
   "source": [
    "<h1 style=\"color:white; padding: 20px; background-color: blue;\">Creating a model that predicts the prices of houses in Tashkent</h1>"
   ]
  },
  {
   "cell_type": "markdown",
   "id": "66573c07",
   "metadata": {
    "papermill": {
     "duration": 0.017838,
     "end_time": "2023-04-07T11:21:23.879221",
     "exception": false,
     "start_time": "2023-04-07T11:21:23.861383",
     "status": "completed"
    },
    "tags": []
   },
   "source": [
    "<h1 style=\"color:white; padding: 20px; background-color: green; display:inline-block\">Defining an analytical approach</h1>\n",
    "\n",
    "**Supervised learning** - because we have a label in the data. This is the median price in the area. We want to predict exactly this price.\n",
    "\n",
    "**Regression** - Did we say \"prediction\" (prognosis) is solved using regression algorithms\n",
    "\n",
    "**Offline** - because the data has already been given to us once. There is no constant data flow."
   ]
  },
  {
   "cell_type": "markdown",
   "id": "da5c02e0",
   "metadata": {
    "papermill": {
     "duration": 0.017575,
     "end_time": "2023-04-07T11:21:23.914452",
     "exception": false,
     "start_time": "2023-04-07T11:21:23.896877",
     "status": "completed"
    },
    "tags": []
   },
   "source": [
    "<h1 style=\"color:white; padding: 20px; background-color: green; display:inline-block\">Data analys</h1>\n",
    "\n"
   ]
  },
  {
   "cell_type": "markdown",
   "id": "e74a9686",
   "metadata": {
    "papermill": {
     "duration": 0.017436,
     "end_time": "2023-04-07T11:21:23.949412",
     "exception": false,
     "start_time": "2023-04-07T11:21:23.931976",
     "status": "completed"
    },
    "tags": []
   },
   "source": [
    "*  **location** - the address of the house for sale\n",
    "*  **district** - the district where the house is located\n",
    "*  **rooms** - the number of rooms\n",
    "*  **size** - house area (sq.m)\n",
    "*  **level** - the floor where the house is located\n",
    "*  **max_levels** - the total number of levels\n",
    "*  **price** - house price"
   ]
  },
  {
   "cell_type": "code",
   "execution_count": 3,
   "id": "a47cf8ad",
   "metadata": {
    "execution": {
     "iopub.execute_input": "2023-04-07T11:21:23.986757Z",
     "iopub.status.busy": "2023-04-07T11:21:23.986393Z",
     "iopub.status.idle": "2023-04-07T11:21:24.008040Z",
     "shell.execute_reply": "2023-04-07T11:21:24.006865Z"
    },
    "papermill": {
     "duration": 0.04357,
     "end_time": "2023-04-07T11:21:24.010777",
     "exception": false,
     "start_time": "2023-04-07T11:21:23.967207",
     "status": "completed"
    },
    "tags": []
   },
   "outputs": [
    {
     "name": "stdout",
     "output_type": "stream",
     "text": [
      "<class 'pandas.core.frame.DataFrame'>\n",
      "RangeIndex: 7565 entries, 0 to 7564\n",
      "Data columns (total 7 columns):\n",
      " #   Column      Non-Null Count  Dtype \n",
      "---  ------      --------------  ----- \n",
      " 0   location    7565 non-null   object\n",
      " 1   district    7565 non-null   object\n",
      " 2   rooms       7565 non-null   int64 \n",
      " 3   size        7565 non-null   object\n",
      " 4   level       7565 non-null   int64 \n",
      " 5   max_levels  7565 non-null   int64 \n",
      " 6   price       7565 non-null   object\n",
      "dtypes: int64(3), object(4)\n",
      "memory usage: 413.8+ KB\n"
     ]
    }
   ],
   "source": [
    "df.info()"
   ]
  },
  {
   "cell_type": "markdown",
   "id": "ba84747d",
   "metadata": {
    "papermill": {
     "duration": 0.017867,
     "end_time": "2023-04-07T11:21:24.046757",
     "exception": false,
     "start_time": "2023-04-07T11:21:24.028890",
     "status": "completed"
    },
    "tags": []
   },
   "source": [
    "Conclusions from the above result:\n",
    "\n",
    "*   The dataset consists of 7565 rows (each row is a separate house).\n",
    "*   Although the *size* and *price* columns are numerical, the data type of these columns is object\n",
    "\n",
    "We will analyze the *size* and *price* columns.\n",
    "we try to convert the size column to float64 data type."
   ]
  },
  {
   "cell_type": "code",
   "execution_count": 4,
   "id": "3e38a282",
   "metadata": {
    "execution": {
     "iopub.execute_input": "2023-04-07T11:21:24.083915Z",
     "iopub.status.busy": "2023-04-07T11:21:24.083563Z",
     "iopub.status.idle": "2023-04-07T11:21:24.089414Z",
     "shell.execute_reply": "2023-04-07T11:21:24.088500Z"
    },
    "papermill": {
     "duration": 0.026995,
     "end_time": "2023-04-07T11:21:24.091620",
     "exception": false,
     "start_time": "2023-04-07T11:21:24.064625",
     "status": "completed"
    },
    "tags": []
   },
   "outputs": [],
   "source": [
    "# df['size'].astype(\"float64\")"
   ]
  },
  {
   "cell_type": "markdown",
   "id": "eea59285",
   "metadata": {
    "papermill": {
     "duration": 0.017365,
     "end_time": "2023-04-07T11:21:24.126820",
     "exception": false,
     "start_time": "2023-04-07T11:21:24.109455",
     "status": "completed"
    },
    "tags": []
   },
   "source": [
    "As we can see, we have found that the wrong information named **\"Площадьземли:1сот\"** has been entered in the size column.\n",
    "\n",
    "Let's define this line"
   ]
  },
  {
   "cell_type": "code",
   "execution_count": 5,
   "id": "59c82c7b",
   "metadata": {
    "execution": {
     "iopub.execute_input": "2023-04-07T11:21:24.163977Z",
     "iopub.status.busy": "2023-04-07T11:21:24.163645Z",
     "iopub.status.idle": "2023-04-07T11:21:24.176337Z",
     "shell.execute_reply": "2023-04-07T11:21:24.175257Z"
    },
    "papermill": {
     "duration": 0.035156,
     "end_time": "2023-04-07T11:21:24.179726",
     "exception": false,
     "start_time": "2023-04-07T11:21:24.144570",
     "status": "completed"
    },
    "tags": []
   },
   "outputs": [
    {
     "data": {
      "text/html": [
       "<div>\n",
       "<style scoped>\n",
       "    .dataframe tbody tr th:only-of-type {\n",
       "        vertical-align: middle;\n",
       "    }\n",
       "\n",
       "    .dataframe tbody tr th {\n",
       "        vertical-align: top;\n",
       "    }\n",
       "\n",
       "    .dataframe thead th {\n",
       "        text-align: right;\n",
       "    }\n",
       "</style>\n",
       "<table border=\"1\" class=\"dataframe\">\n",
       "  <thead>\n",
       "    <tr style=\"text-align: right;\">\n",
       "      <th></th>\n",
       "      <th>location</th>\n",
       "      <th>district</th>\n",
       "      <th>rooms</th>\n",
       "      <th>size</th>\n",
       "      <th>level</th>\n",
       "      <th>max_levels</th>\n",
       "      <th>price</th>\n",
       "    </tr>\n",
       "  </thead>\n",
       "  <tbody>\n",
       "    <tr>\n",
       "      <th>5347</th>\n",
       "      <td>город Ташкент, Яшнободский район, Дархон</td>\n",
       "      <td>Яшнободский</td>\n",
       "      <td>4</td>\n",
       "      <td>Площадьземли:1сот</td>\n",
       "      <td>3</td>\n",
       "      <td>5</td>\n",
       "      <td>150000</td>\n",
       "    </tr>\n",
       "  </tbody>\n",
       "</table>\n",
       "</div>"
      ],
      "text/plain": [
       "                                      location     district  rooms  \\\n",
       "5347  город Ташкент, Яшнободский район, Дархон  Яшнободский      4   \n",
       "\n",
       "                   size  level  max_levels   price  \n",
       "5347  Площадьземли:1сот      3           5  150000  "
      ]
     },
     "execution_count": 5,
     "metadata": {},
     "output_type": "execute_result"
    }
   ],
   "source": [
    "df[df['size'] == \"Площадьземли:1сот\"]"
   ]
  },
  {
   "cell_type": "markdown",
   "id": "f7c836da",
   "metadata": {
    "papermill": {
     "duration": 0.017735,
     "end_time": "2023-04-07T11:21:24.215314",
     "exception": false,
     "start_time": "2023-04-07T11:21:24.197579",
     "status": "completed"
    },
    "tags": []
   },
   "source": [
    "Since 1 sotix is 100 m2, we change this value to 100"
   ]
  },
  {
   "cell_type": "code",
   "execution_count": 6,
   "id": "a8f5ee19",
   "metadata": {
    "execution": {
     "iopub.execute_input": "2023-04-07T11:21:24.253125Z",
     "iopub.status.busy": "2023-04-07T11:21:24.252194Z",
     "iopub.status.idle": "2023-04-07T11:21:24.266269Z",
     "shell.execute_reply": "2023-04-07T11:21:24.265237Z"
    },
    "papermill": {
     "duration": 0.034991,
     "end_time": "2023-04-07T11:21:24.268346",
     "exception": false,
     "start_time": "2023-04-07T11:21:24.233355",
     "status": "completed"
    },
    "tags": []
   },
   "outputs": [
    {
     "data": {
      "text/html": [
       "<div>\n",
       "<style scoped>\n",
       "    .dataframe tbody tr th:only-of-type {\n",
       "        vertical-align: middle;\n",
       "    }\n",
       "\n",
       "    .dataframe tbody tr th {\n",
       "        vertical-align: top;\n",
       "    }\n",
       "\n",
       "    .dataframe thead th {\n",
       "        text-align: right;\n",
       "    }\n",
       "</style>\n",
       "<table border=\"1\" class=\"dataframe\">\n",
       "  <thead>\n",
       "    <tr style=\"text-align: right;\">\n",
       "      <th></th>\n",
       "      <th>location</th>\n",
       "      <th>district</th>\n",
       "      <th>rooms</th>\n",
       "      <th>size</th>\n",
       "      <th>level</th>\n",
       "      <th>max_levels</th>\n",
       "      <th>price</th>\n",
       "    </tr>\n",
       "  </thead>\n",
       "  <tbody>\n",
       "    <tr>\n",
       "      <th>5347</th>\n",
       "      <td>город Ташкент, Яшнободский район, Дархон</td>\n",
       "      <td>Яшнободский</td>\n",
       "      <td>4</td>\n",
       "      <td>100</td>\n",
       "      <td>3</td>\n",
       "      <td>5</td>\n",
       "      <td>150000</td>\n",
       "    </tr>\n",
       "  </tbody>\n",
       "</table>\n",
       "</div>"
      ],
      "text/plain": [
       "                                      location     district  rooms size  \\\n",
       "5347  город Ташкент, Яшнободский район, Дархон  Яшнободский      4  100   \n",
       "\n",
       "      level  max_levels   price  \n",
       "5347      3           5  150000  "
      ]
     },
     "execution_count": 6,
     "metadata": {},
     "output_type": "execute_result"
    }
   ],
   "source": [
    "df1 = df.replace(\"Площадьземли:1сот\", 100)\n",
    "df1.iloc[[5347]]"
   ]
  },
  {
   "cell_type": "markdown",
   "id": "f99c8e52",
   "metadata": {
    "papermill": {
     "duration": 0.017915,
     "end_time": "2023-04-07T11:21:24.304246",
     "exception": false,
     "start_time": "2023-04-07T11:21:24.286331",
     "status": "completed"
    },
    "tags": []
   },
   "source": [
    "Now we try to convert the **\"price\"** column to *float64* data type."
   ]
  },
  {
   "cell_type": "code",
   "execution_count": 7,
   "id": "b333ecd9",
   "metadata": {
    "execution": {
     "iopub.execute_input": "2023-04-07T11:21:24.341394Z",
     "iopub.status.busy": "2023-04-07T11:21:24.341072Z",
     "iopub.status.idle": "2023-04-07T11:21:24.345431Z",
     "shell.execute_reply": "2023-04-07T11:21:24.344344Z"
    },
    "papermill": {
     "duration": 0.025568,
     "end_time": "2023-04-07T11:21:24.347806",
     "exception": false,
     "start_time": "2023-04-07T11:21:24.322238",
     "status": "completed"
    },
    "tags": []
   },
   "outputs": [],
   "source": [
    "# df1['price'].astype(\"float64\")"
   ]
  },
  {
   "cell_type": "markdown",
   "id": "403e8b9d",
   "metadata": {
    "papermill": {
     "duration": 0.017792,
     "end_time": "2023-04-07T11:21:24.384205",
     "exception": false,
     "start_time": "2023-04-07T11:21:24.366413",
     "status": "completed"
    },
    "tags": []
   },
   "source": [
    "As we can see, we have found that the information named **\"Договорная\"** has been entered in the **price** column.\n",
    "\n",
    "Let's define this lines"
   ]
  },
  {
   "cell_type": "code",
   "execution_count": 8,
   "id": "7428d626",
   "metadata": {
    "execution": {
     "iopub.execute_input": "2023-04-07T11:21:24.421757Z",
     "iopub.status.busy": "2023-04-07T11:21:24.421405Z",
     "iopub.status.idle": "2023-04-07T11:21:24.441718Z",
     "shell.execute_reply": "2023-04-07T11:21:24.440840Z"
    },
    "papermill": {
     "duration": 0.04166,
     "end_time": "2023-04-07T11:21:24.443951",
     "exception": false,
     "start_time": "2023-04-07T11:21:24.402291",
     "status": "completed"
    },
    "tags": []
   },
   "outputs": [
    {
     "data": {
      "text/html": [
       "<div>\n",
       "<style scoped>\n",
       "    .dataframe tbody tr th:only-of-type {\n",
       "        vertical-align: middle;\n",
       "    }\n",
       "\n",
       "    .dataframe tbody tr th {\n",
       "        vertical-align: top;\n",
       "    }\n",
       "\n",
       "    .dataframe thead th {\n",
       "        text-align: right;\n",
       "    }\n",
       "</style>\n",
       "<table border=\"1\" class=\"dataframe\">\n",
       "  <thead>\n",
       "    <tr style=\"text-align: right;\">\n",
       "      <th></th>\n",
       "      <th>location</th>\n",
       "      <th>district</th>\n",
       "      <th>rooms</th>\n",
       "      <th>size</th>\n",
       "      <th>level</th>\n",
       "      <th>max_levels</th>\n",
       "      <th>price</th>\n",
       "    </tr>\n",
       "  </thead>\n",
       "  <tbody>\n",
       "    <tr>\n",
       "      <th>202</th>\n",
       "      <td>город Ташкент, Яккасарайский район, Баходыра</td>\n",
       "      <td>Яккасарайский</td>\n",
       "      <td>3</td>\n",
       "      <td>119</td>\n",
       "      <td>3</td>\n",
       "      <td>9</td>\n",
       "      <td>Договорная</td>\n",
       "    </tr>\n",
       "    <tr>\n",
       "      <th>411</th>\n",
       "      <td>город Ташкент, Яккасарайский район, Баходыра</td>\n",
       "      <td>Яккасарайский</td>\n",
       "      <td>4</td>\n",
       "      <td>160</td>\n",
       "      <td>4</td>\n",
       "      <td>9</td>\n",
       "      <td>Договорная</td>\n",
       "    </tr>\n",
       "    <tr>\n",
       "      <th>439</th>\n",
       "      <td>город Ташкент, Мирзо-Улугбекский район, улица ...</td>\n",
       "      <td>Мирзо-Улугбекский</td>\n",
       "      <td>3</td>\n",
       "      <td>105</td>\n",
       "      <td>5</td>\n",
       "      <td>6</td>\n",
       "      <td>Договорная</td>\n",
       "    </tr>\n",
       "    <tr>\n",
       "      <th>460</th>\n",
       "      <td>город Ташкент, Чиланзарский район, Чиланзар 1-...</td>\n",
       "      <td>Чиланзарский</td>\n",
       "      <td>3</td>\n",
       "      <td>90</td>\n",
       "      <td>6</td>\n",
       "      <td>8</td>\n",
       "      <td>Договорная</td>\n",
       "    </tr>\n",
       "    <tr>\n",
       "      <th>507</th>\n",
       "      <td>город Ташкент, Яшнободский район, 1-й проезд А...</td>\n",
       "      <td>Яшнободский</td>\n",
       "      <td>2</td>\n",
       "      <td>48</td>\n",
       "      <td>4</td>\n",
       "      <td>4</td>\n",
       "      <td>Договорная</td>\n",
       "    </tr>\n",
       "    <tr>\n",
       "      <th>...</th>\n",
       "      <td>...</td>\n",
       "      <td>...</td>\n",
       "      <td>...</td>\n",
       "      <td>...</td>\n",
       "      <td>...</td>\n",
       "      <td>...</td>\n",
       "      <td>...</td>\n",
       "    </tr>\n",
       "    <tr>\n",
       "      <th>7039</th>\n",
       "      <td>город Ташкент, Яшнободский район, Городок Авиа...</td>\n",
       "      <td>Яшнободский</td>\n",
       "      <td>1</td>\n",
       "      <td>38.70</td>\n",
       "      <td>3</td>\n",
       "      <td>8</td>\n",
       "      <td>Договорная</td>\n",
       "    </tr>\n",
       "    <tr>\n",
       "      <th>7196</th>\n",
       "      <td>город Ташкент, Чиланзарский район, Чиланзар-16</td>\n",
       "      <td>Чиланзарский</td>\n",
       "      <td>2</td>\n",
       "      <td>51</td>\n",
       "      <td>3</td>\n",
       "      <td>4</td>\n",
       "      <td>Договорная</td>\n",
       "    </tr>\n",
       "    <tr>\n",
       "      <th>7323</th>\n",
       "      <td>город Ташкент, Мирзо-Улугбекский район, жилой ...</td>\n",
       "      <td>Мирзо-Улугбекский</td>\n",
       "      <td>6</td>\n",
       "      <td>208</td>\n",
       "      <td>1</td>\n",
       "      <td>7</td>\n",
       "      <td>Договорная</td>\n",
       "    </tr>\n",
       "    <tr>\n",
       "      <th>7403</th>\n",
       "      <td>город Ташкент, Учтепинский район, Чиланзар 14-...</td>\n",
       "      <td>Учтепинский</td>\n",
       "      <td>2</td>\n",
       "      <td>35</td>\n",
       "      <td>2</td>\n",
       "      <td>9</td>\n",
       "      <td>Договорная</td>\n",
       "    </tr>\n",
       "    <tr>\n",
       "      <th>7404</th>\n",
       "      <td>город Ташкент, Учтепинский район, Чиланзар 14-...</td>\n",
       "      <td>Учтепинский</td>\n",
       "      <td>2</td>\n",
       "      <td>35</td>\n",
       "      <td>2</td>\n",
       "      <td>9</td>\n",
       "      <td>Договорная</td>\n",
       "    </tr>\n",
       "  </tbody>\n",
       "</table>\n",
       "<p>99 rows × 7 columns</p>\n",
       "</div>"
      ],
      "text/plain": [
       "                                               location           district  \\\n",
       "202        город Ташкент, Яккасарайский район, Баходыра      Яккасарайский   \n",
       "411        город Ташкент, Яккасарайский район, Баходыра      Яккасарайский   \n",
       "439   город Ташкент, Мирзо-Улугбекский район, улица ...  Мирзо-Улугбекский   \n",
       "460   город Ташкент, Чиланзарский район, Чиланзар 1-...       Чиланзарский   \n",
       "507   город Ташкент, Яшнободский район, 1-й проезд А...        Яшнободский   \n",
       "...                                                 ...                ...   \n",
       "7039  город Ташкент, Яшнободский район, Городок Авиа...        Яшнободский   \n",
       "7196     город Ташкент, Чиланзарский район, Чиланзар-16       Чиланзарский   \n",
       "7323  город Ташкент, Мирзо-Улугбекский район, жилой ...  Мирзо-Улугбекский   \n",
       "7403  город Ташкент, Учтепинский район, Чиланзар 14-...        Учтепинский   \n",
       "7404  город Ташкент, Учтепинский район, Чиланзар 14-...        Учтепинский   \n",
       "\n",
       "      rooms   size  level  max_levels       price  \n",
       "202       3    119      3           9  Договорная  \n",
       "411       4    160      4           9  Договорная  \n",
       "439       3    105      5           6  Договорная  \n",
       "460       3     90      6           8  Договорная  \n",
       "507       2     48      4           4  Договорная  \n",
       "...     ...    ...    ...         ...         ...  \n",
       "7039      1  38.70      3           8  Договорная  \n",
       "7196      2     51      3           4  Договорная  \n",
       "7323      6    208      1           7  Договорная  \n",
       "7403      2     35      2           9  Договорная  \n",
       "7404      2     35      2           9  Договорная  \n",
       "\n",
       "[99 rows x 7 columns]"
      ]
     },
     "execution_count": 8,
     "metadata": {},
     "output_type": "execute_result"
    }
   ],
   "source": [
    "df1[df1['price'] == \"Договорная\"]"
   ]
  },
  {
   "cell_type": "markdown",
   "id": "4d315965",
   "metadata": {
    "papermill": {
     "duration": 0.018361,
     "end_time": "2023-04-07T11:21:24.480847",
     "exception": false,
     "start_time": "2023-04-07T11:21:24.462486",
     "status": "completed"
    },
    "tags": []
   },
   "source": [
    "Since we don't have enough data, we replace the **\"Договорная\"** value in these rows without discarding them.\n",
    "\n",
    "To do this, we find a column that has a strong correlation with the **\"price\"** column."
   ]
  },
  {
   "cell_type": "code",
   "execution_count": 9,
   "id": "1c32b30b",
   "metadata": {
    "execution": {
     "iopub.execute_input": "2023-04-07T11:21:24.521023Z",
     "iopub.status.busy": "2023-04-07T11:21:24.520015Z",
     "iopub.status.idle": "2023-04-07T11:21:24.532877Z",
     "shell.execute_reply": "2023-04-07T11:21:24.531682Z"
    },
    "papermill": {
     "duration": 0.03553,
     "end_time": "2023-04-07T11:21:24.535258",
     "exception": false,
     "start_time": "2023-04-07T11:21:24.499728",
     "status": "completed"
    },
    "tags": []
   },
   "outputs": [],
   "source": [
    "df2 = df1[df1['price'] != \"Договорная\"]\n",
    "df3 = df2.astype({'price': 'int64'})\n",
    "df4 = df3.astype({'size': 'float64'})"
   ]
  },
  {
   "cell_type": "code",
   "execution_count": 10,
   "id": "65890c69",
   "metadata": {
    "execution": {
     "iopub.execute_input": "2023-04-07T11:21:24.574893Z",
     "iopub.status.busy": "2023-04-07T11:21:24.573977Z",
     "iopub.status.idle": "2023-04-07T11:21:24.590181Z",
     "shell.execute_reply": "2023-04-07T11:21:24.588990Z"
    },
    "papermill": {
     "duration": 0.038635,
     "end_time": "2023-04-07T11:21:24.592836",
     "exception": false,
     "start_time": "2023-04-07T11:21:24.554201",
     "status": "completed"
    },
    "tags": []
   },
   "outputs": [
    {
     "data": {
      "text/html": [
       "<div>\n",
       "<style scoped>\n",
       "    .dataframe tbody tr th:only-of-type {\n",
       "        vertical-align: middle;\n",
       "    }\n",
       "\n",
       "    .dataframe tbody tr th {\n",
       "        vertical-align: top;\n",
       "    }\n",
       "\n",
       "    .dataframe thead th {\n",
       "        text-align: right;\n",
       "    }\n",
       "</style>\n",
       "<table border=\"1\" class=\"dataframe\">\n",
       "  <thead>\n",
       "    <tr style=\"text-align: right;\">\n",
       "      <th></th>\n",
       "      <th>rooms</th>\n",
       "      <th>size</th>\n",
       "      <th>level</th>\n",
       "      <th>max_levels</th>\n",
       "      <th>price</th>\n",
       "    </tr>\n",
       "  </thead>\n",
       "  <tbody>\n",
       "    <tr>\n",
       "      <th>rooms</th>\n",
       "      <td>1.000000</td>\n",
       "      <td>0.027772</td>\n",
       "      <td>0.136021</td>\n",
       "      <td>0.178758</td>\n",
       "      <td>0.056176</td>\n",
       "    </tr>\n",
       "    <tr>\n",
       "      <th>size</th>\n",
       "      <td>0.027772</td>\n",
       "      <td>1.000000</td>\n",
       "      <td>-0.011049</td>\n",
       "      <td>-0.011141</td>\n",
       "      <td>0.001106</td>\n",
       "    </tr>\n",
       "    <tr>\n",
       "      <th>level</th>\n",
       "      <td>0.136021</td>\n",
       "      <td>-0.011049</td>\n",
       "      <td>1.000000</td>\n",
       "      <td>0.593700</td>\n",
       "      <td>-0.003454</td>\n",
       "    </tr>\n",
       "    <tr>\n",
       "      <th>max_levels</th>\n",
       "      <td>0.178758</td>\n",
       "      <td>-0.011141</td>\n",
       "      <td>0.593700</td>\n",
       "      <td>1.000000</td>\n",
       "      <td>0.011168</td>\n",
       "    </tr>\n",
       "    <tr>\n",
       "      <th>price</th>\n",
       "      <td>0.056176</td>\n",
       "      <td>0.001106</td>\n",
       "      <td>-0.003454</td>\n",
       "      <td>0.011168</td>\n",
       "      <td>1.000000</td>\n",
       "    </tr>\n",
       "  </tbody>\n",
       "</table>\n",
       "</div>"
      ],
      "text/plain": [
       "               rooms      size     level  max_levels     price\n",
       "rooms       1.000000  0.027772  0.136021    0.178758  0.056176\n",
       "size        0.027772  1.000000 -0.011049   -0.011141  0.001106\n",
       "level       0.136021 -0.011049  1.000000    0.593700 -0.003454\n",
       "max_levels  0.178758 -0.011141  0.593700    1.000000  0.011168\n",
       "price       0.056176  0.001106 -0.003454    0.011168  1.000000"
      ]
     },
     "execution_count": 10,
     "metadata": {},
     "output_type": "execute_result"
    }
   ],
   "source": [
    "df4.corr()"
   ]
  },
  {
   "cell_type": "markdown",
   "id": "1c6e1a60",
   "metadata": {
    "papermill": {
     "duration": 0.018542,
     "end_time": "2023-04-07T11:21:24.630076",
     "exception": false,
     "start_time": "2023-04-07T11:21:24.611534",
     "status": "completed"
    },
    "tags": []
   },
   "source": [
    "As we can see, there is no **correlation** between the **\"price\"** column and almost any other columns.\n",
    "\n",
    "This cannot be.\n",
    "\n",
    "Let's find out why. For this, we use the *pair plot* graph of the **seaborn** library."
   ]
  },
  {
   "cell_type": "code",
   "execution_count": 11,
   "id": "76047862",
   "metadata": {
    "execution": {
     "iopub.execute_input": "2023-04-07T11:21:24.668760Z",
     "iopub.status.busy": "2023-04-07T11:21:24.668188Z",
     "iopub.status.idle": "2023-04-07T11:21:24.672658Z",
     "shell.execute_reply": "2023-04-07T11:21:24.671574Z"
    },
    "papermill": {
     "duration": 0.026819,
     "end_time": "2023-04-07T11:21:24.675285",
     "exception": false,
     "start_time": "2023-04-07T11:21:24.648466",
     "status": "completed"
    },
    "tags": []
   },
   "outputs": [],
   "source": [
    "# cols = ['price','size','rooms','level', 'max_levels']\n",
    "# sns.pairplot(df4[cols], height=5)\n",
    "# plt.show()"
   ]
  },
  {
   "cell_type": "markdown",
   "id": "f756e595",
   "metadata": {
    "papermill": {
     "duration": 0.018228,
     "end_time": "2023-04-07T11:21:24.711793",
     "exception": false,
     "start_time": "2023-04-07T11:21:24.693565",
     "status": "completed"
    },
    "tags": []
   },
   "source": [
    "As we can see, the values in the *size* column are entered by mistake. We analyze them."
   ]
  },
  {
   "cell_type": "code",
   "execution_count": 12,
   "id": "5f73cb16",
   "metadata": {
    "execution": {
     "iopub.execute_input": "2023-04-07T11:21:24.750642Z",
     "iopub.status.busy": "2023-04-07T11:21:24.749806Z",
     "iopub.status.idle": "2023-04-07T11:21:24.771308Z",
     "shell.execute_reply": "2023-04-07T11:21:24.770237Z"
    },
    "papermill": {
     "duration": 0.043871,
     "end_time": "2023-04-07T11:21:24.774035",
     "exception": false,
     "start_time": "2023-04-07T11:21:24.730164",
     "status": "completed"
    },
    "tags": []
   },
   "outputs": [
    {
     "data": {
      "text/html": [
       "<div>\n",
       "<style scoped>\n",
       "    .dataframe tbody tr th:only-of-type {\n",
       "        vertical-align: middle;\n",
       "    }\n",
       "\n",
       "    .dataframe tbody tr th {\n",
       "        vertical-align: top;\n",
       "    }\n",
       "\n",
       "    .dataframe thead th {\n",
       "        text-align: right;\n",
       "    }\n",
       "</style>\n",
       "<table border=\"1\" class=\"dataframe\">\n",
       "  <thead>\n",
       "    <tr style=\"text-align: right;\">\n",
       "      <th></th>\n",
       "      <th>location</th>\n",
       "      <th>district</th>\n",
       "      <th>rooms</th>\n",
       "      <th>size</th>\n",
       "      <th>level</th>\n",
       "      <th>max_levels</th>\n",
       "      <th>price</th>\n",
       "    </tr>\n",
       "  </thead>\n",
       "  <tbody>\n",
       "    <tr>\n",
       "      <th>262</th>\n",
       "      <td>город Ташкент, Мирабадский район, Нукус</td>\n",
       "      <td>Мирабадский</td>\n",
       "      <td>8</td>\n",
       "      <td>350.0</td>\n",
       "      <td>2</td>\n",
       "      <td>12</td>\n",
       "      <td>260000</td>\n",
       "    </tr>\n",
       "    <tr>\n",
       "      <th>981</th>\n",
       "      <td>город Ташкент, Мирабадский район, Массив Куйлю...</td>\n",
       "      <td>Мирабадский</td>\n",
       "      <td>3</td>\n",
       "      <td>7359.0</td>\n",
       "      <td>2</td>\n",
       "      <td>4</td>\n",
       "      <td>46500</td>\n",
       "    </tr>\n",
       "    <tr>\n",
       "      <th>1557</th>\n",
       "      <td>город Ташкент, Юнусабадский район, Минор</td>\n",
       "      <td>Юнусабадский</td>\n",
       "      <td>10</td>\n",
       "      <td>448.0</td>\n",
       "      <td>7</td>\n",
       "      <td>7</td>\n",
       "      <td>425600</td>\n",
       "    </tr>\n",
       "    <tr>\n",
       "      <th>1675</th>\n",
       "      <td>город Ташкент, Мирабадский район, Нукус</td>\n",
       "      <td>Мирабадский</td>\n",
       "      <td>8</td>\n",
       "      <td>350.0</td>\n",
       "      <td>2</td>\n",
       "      <td>12</td>\n",
       "      <td>260000</td>\n",
       "    </tr>\n",
       "    <tr>\n",
       "      <th>1693</th>\n",
       "      <td>город Ташкент, Яшнободский район, Садыка Азимо...</td>\n",
       "      <td>Яшнободский</td>\n",
       "      <td>4</td>\n",
       "      <td>456.0</td>\n",
       "      <td>8</td>\n",
       "      <td>8</td>\n",
       "      <td>230000</td>\n",
       "    </tr>\n",
       "    <tr>\n",
       "      <th>1695</th>\n",
       "      <td>город Ташкент, Мирабадский район, Фидокор (Чех...</td>\n",
       "      <td>Мирабадский</td>\n",
       "      <td>10</td>\n",
       "      <td>456.0</td>\n",
       "      <td>3</td>\n",
       "      <td>7</td>\n",
       "      <td>800000</td>\n",
       "    </tr>\n",
       "    <tr>\n",
       "      <th>1696</th>\n",
       "      <td>город Ташкент, Мирзо-Улугбекский район, Тимура...</td>\n",
       "      <td>Мирзо-Улугбекский</td>\n",
       "      <td>10</td>\n",
       "      <td>330.0</td>\n",
       "      <td>1</td>\n",
       "      <td>4</td>\n",
       "      <td>130000</td>\n",
       "    </tr>\n",
       "    <tr>\n",
       "      <th>1799</th>\n",
       "      <td>город Ташкент, Шайхантахурский район, Хувайдо ...</td>\n",
       "      <td>Шайхантахурский</td>\n",
       "      <td>5</td>\n",
       "      <td>317.0</td>\n",
       "      <td>1</td>\n",
       "      <td>4</td>\n",
       "      <td>250000</td>\n",
       "    </tr>\n",
       "    <tr>\n",
       "      <th>1827</th>\n",
       "      <td>город Ташкент, Мирзо-Улугбекский район, Хирмон...</td>\n",
       "      <td>Мирзо-Улугбекский</td>\n",
       "      <td>6</td>\n",
       "      <td>400.0</td>\n",
       "      <td>1</td>\n",
       "      <td>2</td>\n",
       "      <td>2000</td>\n",
       "    </tr>\n",
       "    <tr>\n",
       "      <th>1831</th>\n",
       "      <td>город Ташкент, Сергелийский район, 7</td>\n",
       "      <td>Сергелийский</td>\n",
       "      <td>5</td>\n",
       "      <td>310.0</td>\n",
       "      <td>9</td>\n",
       "      <td>9</td>\n",
       "      <td>57500</td>\n",
       "    </tr>\n",
       "    <tr>\n",
       "      <th>2268</th>\n",
       "      <td>город Ташкент, Мирзо-Улугбекский район, Ахмад ...</td>\n",
       "      <td>Мирзо-Улугбекский</td>\n",
       "      <td>1</td>\n",
       "      <td>24500.0</td>\n",
       "      <td>2</td>\n",
       "      <td>5</td>\n",
       "      <td>24500</td>\n",
       "    </tr>\n",
       "    <tr>\n",
       "      <th>2382</th>\n",
       "      <td>город Ташкент, Мирзо-Улугбекский район, Ирригатор</td>\n",
       "      <td>Мирзо-Улугбекский</td>\n",
       "      <td>6</td>\n",
       "      <td>347.0</td>\n",
       "      <td>3</td>\n",
       "      <td>9</td>\n",
       "      <td>240000</td>\n",
       "    </tr>\n",
       "    <tr>\n",
       "      <th>2547</th>\n",
       "      <td>город Ташкент, Юнусабадский район, Киёт</td>\n",
       "      <td>Юнусабадский</td>\n",
       "      <td>3</td>\n",
       "      <td>70000.0</td>\n",
       "      <td>2</td>\n",
       "      <td>4</td>\n",
       "      <td>76000</td>\n",
       "    </tr>\n",
       "    <tr>\n",
       "      <th>2662</th>\n",
       "      <td>город Ташкент, Учтепинский район, Учтепинский ...</td>\n",
       "      <td>Учтепинский</td>\n",
       "      <td>1</td>\n",
       "      <td>3448.0</td>\n",
       "      <td>5</td>\n",
       "      <td>5</td>\n",
       "      <td>25000</td>\n",
       "    </tr>\n",
       "    <tr>\n",
       "      <th>2965</th>\n",
       "      <td>город Ташкент, Яшнободский район, Садыка Азимова</td>\n",
       "      <td>Яшнободский</td>\n",
       "      <td>7</td>\n",
       "      <td>360.0</td>\n",
       "      <td>5</td>\n",
       "      <td>6</td>\n",
       "      <td>300000</td>\n",
       "    </tr>\n",
       "    <tr>\n",
       "      <th>3089</th>\n",
       "      <td>город Ташкент, Мирзо-Улугбекский район, Карасу...</td>\n",
       "      <td>Мирзо-Улугбекский</td>\n",
       "      <td>2</td>\n",
       "      <td>44000.0</td>\n",
       "      <td>3</td>\n",
       "      <td>4</td>\n",
       "      <td>44000</td>\n",
       "    </tr>\n",
       "    <tr>\n",
       "      <th>3656</th>\n",
       "      <td>город Ташкент, Мирзо-Улугбекский район, Дархан</td>\n",
       "      <td>Мирзо-Улугбекский</td>\n",
       "      <td>5</td>\n",
       "      <td>336.0</td>\n",
       "      <td>8</td>\n",
       "      <td>9</td>\n",
       "      <td>504000</td>\n",
       "    </tr>\n",
       "    <tr>\n",
       "      <th>3977</th>\n",
       "      <td>город Ташкент, Мирабадский район, Сайхун</td>\n",
       "      <td>Мирабадский</td>\n",
       "      <td>3</td>\n",
       "      <td>313.0</td>\n",
       "      <td>5</td>\n",
       "      <td>5</td>\n",
       "      <td>65000</td>\n",
       "    </tr>\n",
       "    <tr>\n",
       "      <th>4089</th>\n",
       "      <td>город Ташкент, Шайхантахурский район, Актепа</td>\n",
       "      <td>Шайхантахурский</td>\n",
       "      <td>6</td>\n",
       "      <td>500.0</td>\n",
       "      <td>2</td>\n",
       "      <td>2</td>\n",
       "      <td>1800</td>\n",
       "    </tr>\n",
       "    <tr>\n",
       "      <th>4411</th>\n",
       "      <td>город Ташкент, Яшнободский район, Эльбека</td>\n",
       "      <td>Яшнободский</td>\n",
       "      <td>5</td>\n",
       "      <td>321.0</td>\n",
       "      <td>1</td>\n",
       "      <td>1</td>\n",
       "      <td>48000</td>\n",
       "    </tr>\n",
       "    <tr>\n",
       "      <th>4615</th>\n",
       "      <td>город Ташкент, Олмазорский район, Метро Тынчлик</td>\n",
       "      <td>Олмазорский</td>\n",
       "      <td>4</td>\n",
       "      <td>69000.0</td>\n",
       "      <td>3</td>\n",
       "      <td>4</td>\n",
       "      <td>69000</td>\n",
       "    </tr>\n",
       "    <tr>\n",
       "      <th>4784</th>\n",
       "      <td>город Ташкент, Мирабадский район, Массив Куйлюк1</td>\n",
       "      <td>Мирабадский</td>\n",
       "      <td>3</td>\n",
       "      <td>7359.0</td>\n",
       "      <td>2</td>\n",
       "      <td>4</td>\n",
       "      <td>46500</td>\n",
       "    </tr>\n",
       "    <tr>\n",
       "      <th>5111</th>\n",
       "      <td>город Ташкент, Шайхантахурский район, Хувайдо</td>\n",
       "      <td>Шайхантахурский</td>\n",
       "      <td>7</td>\n",
       "      <td>320.0</td>\n",
       "      <td>7</td>\n",
       "      <td>7</td>\n",
       "      <td>130000</td>\n",
       "    </tr>\n",
       "    <tr>\n",
       "      <th>5118</th>\n",
       "      <td>город Ташкент, Мирабадский район, Фидокор (Чех...</td>\n",
       "      <td>Мирабадский</td>\n",
       "      <td>10</td>\n",
       "      <td>456.0</td>\n",
       "      <td>3</td>\n",
       "      <td>7</td>\n",
       "      <td>800000</td>\n",
       "    </tr>\n",
       "    <tr>\n",
       "      <th>5197</th>\n",
       "      <td>город Ташкент, Шайхантахурский район, Хадра</td>\n",
       "      <td>Шайхантахурский</td>\n",
       "      <td>6</td>\n",
       "      <td>420.0</td>\n",
       "      <td>7</td>\n",
       "      <td>7</td>\n",
       "      <td>200000</td>\n",
       "    </tr>\n",
       "    <tr>\n",
       "      <th>5456</th>\n",
       "      <td>город Ташкент, Мирзо-Улугбекский район, Карасу...</td>\n",
       "      <td>Мирзо-Улугбекский</td>\n",
       "      <td>3</td>\n",
       "      <td>67000.0</td>\n",
       "      <td>2</td>\n",
       "      <td>5</td>\n",
       "      <td>67000</td>\n",
       "    </tr>\n",
       "    <tr>\n",
       "      <th>5874</th>\n",
       "      <td>город Ташкент, Юнусабадский район, Минор</td>\n",
       "      <td>Юнусабадский</td>\n",
       "      <td>10</td>\n",
       "      <td>448.0</td>\n",
       "      <td>7</td>\n",
       "      <td>7</td>\n",
       "      <td>425600</td>\n",
       "    </tr>\n",
       "    <tr>\n",
       "      <th>5974</th>\n",
       "      <td>город Ташкент, Яшнободский район, Элбека</td>\n",
       "      <td>Яшнободский</td>\n",
       "      <td>4</td>\n",
       "      <td>320.0</td>\n",
       "      <td>4</td>\n",
       "      <td>4</td>\n",
       "      <td>255000</td>\n",
       "    </tr>\n",
       "    <tr>\n",
       "      <th>5976</th>\n",
       "      <td>город Ташкент, Яшнободский район, Эльбека</td>\n",
       "      <td>Яшнободский</td>\n",
       "      <td>4</td>\n",
       "      <td>320.0</td>\n",
       "      <td>4</td>\n",
       "      <td>4</td>\n",
       "      <td>255000</td>\n",
       "    </tr>\n",
       "    <tr>\n",
       "      <th>6545</th>\n",
       "      <td>город Ташкент, Шайхантахурский район, Хувайдо</td>\n",
       "      <td>Шайхантахурский</td>\n",
       "      <td>7</td>\n",
       "      <td>320.0</td>\n",
       "      <td>7</td>\n",
       "      <td>7</td>\n",
       "      <td>130000</td>\n",
       "    </tr>\n",
       "    <tr>\n",
       "      <th>6851</th>\n",
       "      <td>город Ташкент, Шайхантахурский район, метро Чорсу</td>\n",
       "      <td>Шайхантахурский</td>\n",
       "      <td>6</td>\n",
       "      <td>341.0</td>\n",
       "      <td>2</td>\n",
       "      <td>3</td>\n",
       "      <td>250000</td>\n",
       "    </tr>\n",
       "    <tr>\n",
       "      <th>7043</th>\n",
       "      <td>город Ташкент, Олмазорский район, Олмазорский ...</td>\n",
       "      <td>Олмазорский</td>\n",
       "      <td>4</td>\n",
       "      <td>7407.0</td>\n",
       "      <td>4</td>\n",
       "      <td>4</td>\n",
       "      <td>44000</td>\n",
       "    </tr>\n",
       "    <tr>\n",
       "      <th>7421</th>\n",
       "      <td>город Ташкент, Юнусабадский район, Хасанбой</td>\n",
       "      <td>Юнусабадский</td>\n",
       "      <td>8</td>\n",
       "      <td>2100.0</td>\n",
       "      <td>1</td>\n",
       "      <td>1</td>\n",
       "      <td>265000</td>\n",
       "    </tr>\n",
       "  </tbody>\n",
       "</table>\n",
       "</div>"
      ],
      "text/plain": [
       "                                               location           district  \\\n",
       "262             город Ташкент, Мирабадский район, Нукус        Мирабадский   \n",
       "981   город Ташкент, Мирабадский район, Массив Куйлю...        Мирабадский   \n",
       "1557           город Ташкент, Юнусабадский район, Минор       Юнусабадский   \n",
       "1675            город Ташкент, Мирабадский район, Нукус        Мирабадский   \n",
       "1693  город Ташкент, Яшнободский район, Садыка Азимо...        Яшнободский   \n",
       "1695  город Ташкент, Мирабадский район, Фидокор (Чех...        Мирабадский   \n",
       "1696  город Ташкент, Мирзо-Улугбекский район, Тимура...  Мирзо-Улугбекский   \n",
       "1799  город Ташкент, Шайхантахурский район, Хувайдо ...    Шайхантахурский   \n",
       "1827  город Ташкент, Мирзо-Улугбекский район, Хирмон...  Мирзо-Улугбекский   \n",
       "1831               город Ташкент, Сергелийский район, 7       Сергелийский   \n",
       "2268  город Ташкент, Мирзо-Улугбекский район, Ахмад ...  Мирзо-Улугбекский   \n",
       "2382  город Ташкент, Мирзо-Улугбекский район, Ирригатор  Мирзо-Улугбекский   \n",
       "2547            город Ташкент, Юнусабадский район, Киёт       Юнусабадский   \n",
       "2662  город Ташкент, Учтепинский район, Учтепинский ...        Учтепинский   \n",
       "2965   город Ташкент, Яшнободский район, Садыка Азимова        Яшнободский   \n",
       "3089  город Ташкент, Мирзо-Улугбекский район, Карасу...  Мирзо-Улугбекский   \n",
       "3656     город Ташкент, Мирзо-Улугбекский район, Дархан  Мирзо-Улугбекский   \n",
       "3977           город Ташкент, Мирабадский район, Сайхун        Мирабадский   \n",
       "4089       город Ташкент, Шайхантахурский район, Актепа    Шайхантахурский   \n",
       "4411          город Ташкент, Яшнободский район, Эльбека        Яшнободский   \n",
       "4615    город Ташкент, Олмазорский район, Метро Тынчлик        Олмазорский   \n",
       "4784   город Ташкент, Мирабадский район, Массив Куйлюк1        Мирабадский   \n",
       "5111      город Ташкент, Шайхантахурский район, Хувайдо    Шайхантахурский   \n",
       "5118  город Ташкент, Мирабадский район, Фидокор (Чех...        Мирабадский   \n",
       "5197        город Ташкент, Шайхантахурский район, Хадра    Шайхантахурский   \n",
       "5456  город Ташкент, Мирзо-Улугбекский район, Карасу...  Мирзо-Улугбекский   \n",
       "5874           город Ташкент, Юнусабадский район, Минор       Юнусабадский   \n",
       "5974           город Ташкент, Яшнободский район, Элбека        Яшнободский   \n",
       "5976          город Ташкент, Яшнободский район, Эльбека        Яшнободский   \n",
       "6545      город Ташкент, Шайхантахурский район, Хувайдо    Шайхантахурский   \n",
       "6851  город Ташкент, Шайхантахурский район, метро Чорсу    Шайхантахурский   \n",
       "7043  город Ташкент, Олмазорский район, Олмазорский ...        Олмазорский   \n",
       "7421        город Ташкент, Юнусабадский район, Хасанбой       Юнусабадский   \n",
       "\n",
       "      rooms     size  level  max_levels   price  \n",
       "262       8    350.0      2          12  260000  \n",
       "981       3   7359.0      2           4   46500  \n",
       "1557     10    448.0      7           7  425600  \n",
       "1675      8    350.0      2          12  260000  \n",
       "1693      4    456.0      8           8  230000  \n",
       "1695     10    456.0      3           7  800000  \n",
       "1696     10    330.0      1           4  130000  \n",
       "1799      5    317.0      1           4  250000  \n",
       "1827      6    400.0      1           2    2000  \n",
       "1831      5    310.0      9           9   57500  \n",
       "2268      1  24500.0      2           5   24500  \n",
       "2382      6    347.0      3           9  240000  \n",
       "2547      3  70000.0      2           4   76000  \n",
       "2662      1   3448.0      5           5   25000  \n",
       "2965      7    360.0      5           6  300000  \n",
       "3089      2  44000.0      3           4   44000  \n",
       "3656      5    336.0      8           9  504000  \n",
       "3977      3    313.0      5           5   65000  \n",
       "4089      6    500.0      2           2    1800  \n",
       "4411      5    321.0      1           1   48000  \n",
       "4615      4  69000.0      3           4   69000  \n",
       "4784      3   7359.0      2           4   46500  \n",
       "5111      7    320.0      7           7  130000  \n",
       "5118     10    456.0      3           7  800000  \n",
       "5197      6    420.0      7           7  200000  \n",
       "5456      3  67000.0      2           5   67000  \n",
       "5874     10    448.0      7           7  425600  \n",
       "5974      4    320.0      4           4  255000  \n",
       "5976      4    320.0      4           4  255000  \n",
       "6545      7    320.0      7           7  130000  \n",
       "6851      6    341.0      2           3  250000  \n",
       "7043      4   7407.0      4           4   44000  \n",
       "7421      8   2100.0      1           1  265000  "
      ]
     },
     "execution_count": 12,
     "metadata": {},
     "output_type": "execute_result"
    }
   ],
   "source": [
    "df4[df4['size'] > 300]"
   ]
  },
  {
   "cell_type": "markdown",
   "id": "5d2425a5",
   "metadata": {
    "papermill": {
     "duration": 0.018655,
     "end_time": "2023-04-07T11:21:24.811725",
     "exception": false,
     "start_time": "2023-04-07T11:21:24.793070",
     "status": "completed"
    },
    "tags": []
   },
   "source": [
    "Since the values at index 1827, 2268, 2547, 3089, 4089, 4411, 4615, 5456, 7421 are entered incorrectly, we discard these rows."
   ]
  },
  {
   "cell_type": "code",
   "execution_count": 13,
   "id": "134966b4",
   "metadata": {
    "execution": {
     "iopub.execute_input": "2023-04-07T11:21:24.850987Z",
     "iopub.status.busy": "2023-04-07T11:21:24.850628Z",
     "iopub.status.idle": "2023-04-07T11:21:24.856674Z",
     "shell.execute_reply": "2023-04-07T11:21:24.855701Z"
    },
    "papermill": {
     "duration": 0.028248,
     "end_time": "2023-04-07T11:21:24.858705",
     "exception": false,
     "start_time": "2023-04-07T11:21:24.830457",
     "status": "completed"
    },
    "tags": []
   },
   "outputs": [
    {
     "data": {
      "text/plain": [
       "(7466, 7)"
      ]
     },
     "execution_count": 13,
     "metadata": {},
     "output_type": "execute_result"
    }
   ],
   "source": [
    "df4.shape"
   ]
  },
  {
   "cell_type": "code",
   "execution_count": 14,
   "id": "40b37c50",
   "metadata": {
    "execution": {
     "iopub.execute_input": "2023-04-07T11:21:24.900501Z",
     "iopub.status.busy": "2023-04-07T11:21:24.900181Z",
     "iopub.status.idle": "2023-04-07T11:21:24.906631Z",
     "shell.execute_reply": "2023-04-07T11:21:24.905647Z"
    },
    "papermill": {
     "duration": 0.03026,
     "end_time": "2023-04-07T11:21:24.908742",
     "exception": false,
     "start_time": "2023-04-07T11:21:24.878482",
     "status": "completed"
    },
    "tags": []
   },
   "outputs": [],
   "source": [
    "df5 = df4.drop([1827, 2268, 2547, 3089, 4089, 4411, 4615, 5456, 7421,1831])\n"
   ]
  },
  {
   "cell_type": "code",
   "execution_count": 15,
   "id": "ba58a987",
   "metadata": {
    "execution": {
     "iopub.execute_input": "2023-04-07T11:21:24.948105Z",
     "iopub.status.busy": "2023-04-07T11:21:24.947759Z",
     "iopub.status.idle": "2023-04-07T11:21:24.953744Z",
     "shell.execute_reply": "2023-04-07T11:21:24.952776Z"
    },
    "papermill": {
     "duration": 0.027998,
     "end_time": "2023-04-07T11:21:24.955764",
     "exception": false,
     "start_time": "2023-04-07T11:21:24.927766",
     "status": "completed"
    },
    "tags": []
   },
   "outputs": [
    {
     "data": {
      "text/plain": [
       "(7456, 7)"
      ]
     },
     "execution_count": 15,
     "metadata": {},
     "output_type": "execute_result"
    }
   ],
   "source": [
    "df5.shape"
   ]
  },
  {
   "cell_type": "markdown",
   "id": "339a896b",
   "metadata": {
    "papermill": {
     "duration": 0.018907,
     "end_time": "2023-04-07T11:21:24.993697",
     "exception": false,
     "start_time": "2023-04-07T11:21:24.974790",
     "status": "completed"
    },
    "tags": []
   },
   "source": [
    "Since the values in the index 981, 1831, 2662, 4784, 7043 are entered as multiples of 100, we divide these values by 100."
   ]
  },
  {
   "cell_type": "code",
   "execution_count": 16,
   "id": "3b26509e",
   "metadata": {
    "execution": {
     "iopub.execute_input": "2023-04-07T11:21:25.035196Z",
     "iopub.status.busy": "2023-04-07T11:21:25.034126Z",
     "iopub.status.idle": "2023-04-07T11:21:25.044884Z",
     "shell.execute_reply": "2023-04-07T11:21:25.043452Z"
    },
    "papermill": {
     "duration": 0.033775,
     "end_time": "2023-04-07T11:21:25.047045",
     "exception": false,
     "start_time": "2023-04-07T11:21:25.013270",
     "status": "completed"
    },
    "tags": []
   },
   "outputs": [
    {
     "name": "stderr",
     "output_type": "stream",
     "text": [
      "/opt/conda/lib/python3.7/site-packages/ipykernel_launcher.py:1: SettingWithCopyWarning: \n",
      "A value is trying to be set on a copy of a slice from a DataFrame\n",
      "\n",
      "See the caveats in the documentation: https://pandas.pydata.org/pandas-docs/stable/user_guide/indexing.html#returning-a-view-versus-a-copy\n",
      "  \"\"\"Entry point for launching an IPython kernel.\n"
     ]
    }
   ],
   "source": [
    "df5['size'][[981, 2662, 4784, 7043]] = df5['size'][[981, 2662, 4784, 7043]].map(lambda x: x / 100)\n",
    "df5 = df4.drop([1827, 2268, 2547, 3089, 4089, 4411, 4615, 5456, 7421,1831])"
   ]
  },
  {
   "cell_type": "code",
   "execution_count": 17,
   "id": "bb750115",
   "metadata": {
    "execution": {
     "iopub.execute_input": "2023-04-07T11:21:25.087324Z",
     "iopub.status.busy": "2023-04-07T11:21:25.086399Z",
     "iopub.status.idle": "2023-04-07T11:21:25.091103Z",
     "shell.execute_reply": "2023-04-07T11:21:25.090183Z"
    },
    "papermill": {
     "duration": 0.026709,
     "end_time": "2023-04-07T11:21:25.093023",
     "exception": false,
     "start_time": "2023-04-07T11:21:25.066314",
     "status": "completed"
    },
    "tags": []
   },
   "outputs": [],
   "source": [
    "# cols = ['price','size','rooms','level', 'max_levels']\n",
    "# sns.pairplot(df5[cols], height=5)\n",
    "# plt.show()"
   ]
  },
  {
   "cell_type": "code",
   "execution_count": 18,
   "id": "6c6a8c3f",
   "metadata": {
    "execution": {
     "iopub.execute_input": "2023-04-07T11:21:25.133588Z",
     "iopub.status.busy": "2023-04-07T11:21:25.132563Z",
     "iopub.status.idle": "2023-04-07T11:21:25.146053Z",
     "shell.execute_reply": "2023-04-07T11:21:25.144991Z"
    },
    "papermill": {
     "duration": 0.035633,
     "end_time": "2023-04-07T11:21:25.148128",
     "exception": false,
     "start_time": "2023-04-07T11:21:25.112495",
     "status": "completed"
    },
    "tags": []
   },
   "outputs": [
    {
     "data": {
      "text/html": [
       "<div>\n",
       "<style scoped>\n",
       "    .dataframe tbody tr th:only-of-type {\n",
       "        vertical-align: middle;\n",
       "    }\n",
       "\n",
       "    .dataframe tbody tr th {\n",
       "        vertical-align: top;\n",
       "    }\n",
       "\n",
       "    .dataframe thead th {\n",
       "        text-align: right;\n",
       "    }\n",
       "</style>\n",
       "<table border=\"1\" class=\"dataframe\">\n",
       "  <thead>\n",
       "    <tr style=\"text-align: right;\">\n",
       "      <th></th>\n",
       "      <th>location</th>\n",
       "      <th>district</th>\n",
       "      <th>rooms</th>\n",
       "      <th>size</th>\n",
       "      <th>level</th>\n",
       "      <th>max_levels</th>\n",
       "      <th>price</th>\n",
       "    </tr>\n",
       "  </thead>\n",
       "  <tbody>\n",
       "    <tr>\n",
       "      <th>330</th>\n",
       "      <td>город Ташкент, Яшнободский район, 1-й переулок...</td>\n",
       "      <td>Яшнободский</td>\n",
       "      <td>2</td>\n",
       "      <td>68.0</td>\n",
       "      <td>5</td>\n",
       "      <td>8</td>\n",
       "      <td>1666000</td>\n",
       "    </tr>\n",
       "    <tr>\n",
       "      <th>1744</th>\n",
       "      <td>город Ташкент, Олмазорский район, Toshmi</td>\n",
       "      <td>Олмазорский</td>\n",
       "      <td>3</td>\n",
       "      <td>84.0</td>\n",
       "      <td>1</td>\n",
       "      <td>5</td>\n",
       "      <td>3780000</td>\n",
       "    </tr>\n",
       "    <tr>\n",
       "      <th>5903</th>\n",
       "      <td>город Ташкент, Учтепинский район, Chtepa Fozil...</td>\n",
       "      <td>Учтепинский</td>\n",
       "      <td>4</td>\n",
       "      <td>72.0</td>\n",
       "      <td>2</td>\n",
       "      <td>5</td>\n",
       "      <td>52000000</td>\n",
       "    </tr>\n",
       "    <tr>\n",
       "      <th>6133</th>\n",
       "      <td>город Ташкент, Юнусабадский район, город Ташке...</td>\n",
       "      <td>Юнусабадский</td>\n",
       "      <td>3</td>\n",
       "      <td>42.0</td>\n",
       "      <td>3</td>\n",
       "      <td>4</td>\n",
       "      <td>1344000</td>\n",
       "    </tr>\n",
       "    <tr>\n",
       "      <th>6517</th>\n",
       "      <td>город Ташкент, Юнусабадский район, Юнусабад 5к...</td>\n",
       "      <td>Юнусабадский</td>\n",
       "      <td>3</td>\n",
       "      <td>80.0</td>\n",
       "      <td>8</td>\n",
       "      <td>9</td>\n",
       "      <td>4240000</td>\n",
       "    </tr>\n",
       "    <tr>\n",
       "      <th>6952</th>\n",
       "      <td>город Ташкент, Шайхантахурский район, Алишера ...</td>\n",
       "      <td>Шайхантахурский</td>\n",
       "      <td>3</td>\n",
       "      <td>114.0</td>\n",
       "      <td>5</td>\n",
       "      <td>7</td>\n",
       "      <td>15504000</td>\n",
       "    </tr>\n",
       "    <tr>\n",
       "      <th>7081</th>\n",
       "      <td>город Ташкент, Чиланзарский район, Тирсакобод</td>\n",
       "      <td>Чиланзарский</td>\n",
       "      <td>2</td>\n",
       "      <td>85.0</td>\n",
       "      <td>2</td>\n",
       "      <td>3</td>\n",
       "      <td>6630000</td>\n",
       "    </tr>\n",
       "    <tr>\n",
       "      <th>7296</th>\n",
       "      <td>город Ташкент, Яшнободский район, Садыка Азимо...</td>\n",
       "      <td>Яшнободский</td>\n",
       "      <td>4</td>\n",
       "      <td>96.0</td>\n",
       "      <td>2</td>\n",
       "      <td>5</td>\n",
       "      <td>5568000</td>\n",
       "    </tr>\n",
       "    <tr>\n",
       "      <th>7466</th>\n",
       "      <td>город Ташкент, Чиланзарский район, 1-й проезд ...</td>\n",
       "      <td>Чиланзарский</td>\n",
       "      <td>2</td>\n",
       "      <td>42.0</td>\n",
       "      <td>1</td>\n",
       "      <td>3</td>\n",
       "      <td>1470000</td>\n",
       "    </tr>\n",
       "  </tbody>\n",
       "</table>\n",
       "</div>"
      ],
      "text/plain": [
       "                                               location         district  \\\n",
       "330   город Ташкент, Яшнободский район, 1-й переулок...      Яшнободский   \n",
       "1744           город Ташкент, Олмазорский район, Toshmi      Олмазорский   \n",
       "5903  город Ташкент, Учтепинский район, Chtepa Fozil...      Учтепинский   \n",
       "6133  город Ташкент, Юнусабадский район, город Ташке...     Юнусабадский   \n",
       "6517  город Ташкент, Юнусабадский район, Юнусабад 5к...     Юнусабадский   \n",
       "6952  город Ташкент, Шайхантахурский район, Алишера ...  Шайхантахурский   \n",
       "7081      город Ташкент, Чиланзарский район, Тирсакобод     Чиланзарский   \n",
       "7296  город Ташкент, Яшнободский район, Садыка Азимо...      Яшнободский   \n",
       "7466  город Ташкент, Чиланзарский район, 1-й проезд ...     Чиланзарский   \n",
       "\n",
       "      rooms   size  level  max_levels     price  \n",
       "330       2   68.0      5           8   1666000  \n",
       "1744      3   84.0      1           5   3780000  \n",
       "5903      4   72.0      2           5  52000000  \n",
       "6133      3   42.0      3           4   1344000  \n",
       "6517      3   80.0      8           9   4240000  \n",
       "6952      3  114.0      5           7  15504000  \n",
       "7081      2   85.0      2           3   6630000  \n",
       "7296      4   96.0      2           5   5568000  \n",
       "7466      2   42.0      1           3   1470000  "
      ]
     },
     "execution_count": 18,
     "metadata": {},
     "output_type": "execute_result"
    }
   ],
   "source": [
    "df5[df5['price'] > 1000_000]"
   ]
  },
  {
   "cell_type": "markdown",
   "id": "60fa6642",
   "metadata": {
    "papermill": {
     "duration": 0.019467,
     "end_time": "2023-04-07T11:21:25.187165",
     "exception": false,
     "start_time": "2023-04-07T11:21:25.167698",
     "status": "completed"
    },
    "tags": []
   },
   "source": [
    "If we analyze the price column, this column also contains errors in excess of **1,000,000** US dollars.\n",
    "We throw them away."
   ]
  },
  {
   "cell_type": "code",
   "execution_count": 19,
   "id": "b5005444",
   "metadata": {
    "execution": {
     "iopub.execute_input": "2023-04-07T11:21:25.228008Z",
     "iopub.status.busy": "2023-04-07T11:21:25.227016Z",
     "iopub.status.idle": "2023-04-07T11:21:25.233427Z",
     "shell.execute_reply": "2023-04-07T11:21:25.232479Z"
    },
    "papermill": {
     "duration": 0.028939,
     "end_time": "2023-04-07T11:21:25.235454",
     "exception": false,
     "start_time": "2023-04-07T11:21:25.206515",
     "status": "completed"
    },
    "tags": []
   },
   "outputs": [],
   "source": [
    "df6 = df5[df5['price'] < 1000_000]"
   ]
  },
  {
   "cell_type": "markdown",
   "id": "9ee4d47e",
   "metadata": {
    "papermill": {
     "duration": 0.019413,
     "end_time": "2023-04-07T11:21:25.274277",
     "exception": false,
     "start_time": "2023-04-07T11:21:25.254864",
     "status": "completed"
    },
    "tags": []
   },
   "source": [
    "Now let's see the **correlation**."
   ]
  },
  {
   "cell_type": "code",
   "execution_count": 20,
   "id": "0a936b9d",
   "metadata": {
    "execution": {
     "iopub.execute_input": "2023-04-07T11:21:25.314938Z",
     "iopub.status.busy": "2023-04-07T11:21:25.314608Z",
     "iopub.status.idle": "2023-04-07T11:21:25.327516Z",
     "shell.execute_reply": "2023-04-07T11:21:25.326473Z"
    },
    "papermill": {
     "duration": 0.036091,
     "end_time": "2023-04-07T11:21:25.329620",
     "exception": false,
     "start_time": "2023-04-07T11:21:25.293529",
     "status": "completed"
    },
    "tags": []
   },
   "outputs": [
    {
     "data": {
      "text/html": [
       "<div>\n",
       "<style scoped>\n",
       "    .dataframe tbody tr th:only-of-type {\n",
       "        vertical-align: middle;\n",
       "    }\n",
       "\n",
       "    .dataframe tbody tr th {\n",
       "        vertical-align: top;\n",
       "    }\n",
       "\n",
       "    .dataframe thead th {\n",
       "        text-align: right;\n",
       "    }\n",
       "</style>\n",
       "<table border=\"1\" class=\"dataframe\">\n",
       "  <thead>\n",
       "    <tr style=\"text-align: right;\">\n",
       "      <th></th>\n",
       "      <th>rooms</th>\n",
       "      <th>size</th>\n",
       "      <th>level</th>\n",
       "      <th>max_levels</th>\n",
       "      <th>price</th>\n",
       "    </tr>\n",
       "  </thead>\n",
       "  <tbody>\n",
       "    <tr>\n",
       "      <th>rooms</th>\n",
       "      <td>1.000000</td>\n",
       "      <td>0.193439</td>\n",
       "      <td>0.138136</td>\n",
       "      <td>0.182642</td>\n",
       "      <td>0.552652</td>\n",
       "    </tr>\n",
       "    <tr>\n",
       "      <th>size</th>\n",
       "      <td>0.193439</td>\n",
       "      <td>1.000000</td>\n",
       "      <td>0.031107</td>\n",
       "      <td>0.050018</td>\n",
       "      <td>0.177167</td>\n",
       "    </tr>\n",
       "    <tr>\n",
       "      <th>level</th>\n",
       "      <td>0.138136</td>\n",
       "      <td>0.031107</td>\n",
       "      <td>1.000000</td>\n",
       "      <td>0.592929</td>\n",
       "      <td>0.059356</td>\n",
       "    </tr>\n",
       "    <tr>\n",
       "      <th>max_levels</th>\n",
       "      <td>0.182642</td>\n",
       "      <td>0.050018</td>\n",
       "      <td>0.592929</td>\n",
       "      <td>1.000000</td>\n",
       "      <td>0.218754</td>\n",
       "    </tr>\n",
       "    <tr>\n",
       "      <th>price</th>\n",
       "      <td>0.552652</td>\n",
       "      <td>0.177167</td>\n",
       "      <td>0.059356</td>\n",
       "      <td>0.218754</td>\n",
       "      <td>1.000000</td>\n",
       "    </tr>\n",
       "  </tbody>\n",
       "</table>\n",
       "</div>"
      ],
      "text/plain": [
       "               rooms      size     level  max_levels     price\n",
       "rooms       1.000000  0.193439  0.138136    0.182642  0.552652\n",
       "size        0.193439  1.000000  0.031107    0.050018  0.177167\n",
       "level       0.138136  0.031107  1.000000    0.592929  0.059356\n",
       "max_levels  0.182642  0.050018  0.592929    1.000000  0.218754\n",
       "price       0.552652  0.177167  0.059356    0.218754  1.000000"
      ]
     },
     "execution_count": 20,
     "metadata": {},
     "output_type": "execute_result"
    }
   ],
   "source": [
    "df6.corr()"
   ]
  },
  {
   "cell_type": "code",
   "execution_count": 21,
   "id": "22ce5693",
   "metadata": {
    "execution": {
     "iopub.execute_input": "2023-04-07T11:21:25.370984Z",
     "iopub.status.busy": "2023-04-07T11:21:25.369961Z",
     "iopub.status.idle": "2023-04-07T11:21:25.374827Z",
     "shell.execute_reply": "2023-04-07T11:21:25.373948Z"
    },
    "papermill": {
     "duration": 0.027599,
     "end_time": "2023-04-07T11:21:25.376774",
     "exception": false,
     "start_time": "2023-04-07T11:21:25.349175",
     "status": "completed"
    },
    "tags": []
   },
   "outputs": [],
   "source": [
    "# cols = ['price','size','rooms','level', 'max_levels']\n",
    "# sns.pairplot(df6[cols], height=5)\n",
    "# plt.show()"
   ]
  },
  {
   "cell_type": "markdown",
   "id": "408858a6",
   "metadata": {
    "papermill": {
     "duration": 0.019149,
     "end_time": "2023-04-07T11:21:25.415452",
     "exception": false,
     "start_time": "2023-04-07T11:21:25.396303",
     "status": "completed"
    },
    "tags": []
   },
   "source": [
    "As we can see, the **strongest correlation** with the *price column* is in the *size column*."
   ]
  },
  {
   "cell_type": "code",
   "execution_count": 22,
   "id": "ba2db63f",
   "metadata": {
    "execution": {
     "iopub.execute_input": "2023-04-07T11:21:25.455771Z",
     "iopub.status.busy": "2023-04-07T11:21:25.455452Z",
     "iopub.status.idle": "2023-04-07T11:21:25.462848Z",
     "shell.execute_reply": "2023-04-07T11:21:25.461969Z"
    },
    "papermill": {
     "duration": 0.030212,
     "end_time": "2023-04-07T11:21:25.464966",
     "exception": false,
     "start_time": "2023-04-07T11:21:25.434754",
     "status": "completed"
    },
    "tags": []
   },
   "outputs": [],
   "source": [
    "df9 = df6.drop(df6[(df6['size'] < 20) & (df6['rooms'] > 1)].index)"
   ]
  },
  {
   "cell_type": "code",
   "execution_count": 23,
   "id": "85268567",
   "metadata": {
    "execution": {
     "iopub.execute_input": "2023-04-07T11:21:25.505578Z",
     "iopub.status.busy": "2023-04-07T11:21:25.505242Z",
     "iopub.status.idle": "2023-04-07T11:21:25.758161Z",
     "shell.execute_reply": "2023-04-07T11:21:25.757169Z"
    },
    "papermill": {
     "duration": 0.275901,
     "end_time": "2023-04-07T11:21:25.760426",
     "exception": false,
     "start_time": "2023-04-07T11:21:25.484525",
     "status": "completed"
    },
    "tags": []
   },
   "outputs": [
    {
     "data": {
      "image/png": "[encoded data removed]",
      "text/plain": [
       "<Figure size 600x400 with 1 Axes>"
      ]
     },
     "metadata": {},
     "output_type": "display_data"
    }
   ],
   "source": [
    "df9.plot(kind='scatter', x=\"size\", y=\"price\", alpha = 0.5, figsize=(6,4))\n",
    "plt.show()"
   ]
  },
  {
   "cell_type": "markdown",
   "id": "672e6ca1",
   "metadata": {
    "papermill": {
     "duration": 0.020026,
     "end_time": "2023-04-07T11:21:25.801985",
     "exception": false,
     "start_time": "2023-04-07T11:21:25.781959",
     "status": "completed"
    },
    "tags": []
   },
   "source": [
    "Now we change the value **\"Dogovornaya\"** in the df1 dataframe."
   ]
  },
  {
   "cell_type": "code",
   "execution_count": 24,
   "id": "6657c6c7",
   "metadata": {
    "execution": {
     "iopub.execute_input": "2023-04-07T11:21:25.845093Z",
     "iopub.status.busy": "2023-04-07T11:21:25.844700Z",
     "iopub.status.idle": "2023-04-07T11:21:25.851194Z",
     "shell.execute_reply": "2023-04-07T11:21:25.850257Z"
    },
    "papermill": {
     "duration": 0.02979,
     "end_time": "2023-04-07T11:21:25.853240",
     "exception": false,
     "start_time": "2023-04-07T11:21:25.823450",
     "status": "completed"
    },
    "tags": []
   },
   "outputs": [],
   "source": [
    "df7 = df1.replace(\"Договорная\", np.NaN)"
   ]
  },
  {
   "cell_type": "code",
   "execution_count": 25,
   "id": "6698ce8e",
   "metadata": {
    "execution": {
     "iopub.execute_input": "2023-04-07T11:21:25.895393Z",
     "iopub.status.busy": "2023-04-07T11:21:25.895093Z",
     "iopub.status.idle": "2023-04-07T11:21:25.905607Z",
     "shell.execute_reply": "2023-04-07T11:21:25.904695Z"
    },
    "papermill": {
     "duration": 0.034375,
     "end_time": "2023-04-07T11:21:25.907602",
     "exception": false,
     "start_time": "2023-04-07T11:21:25.873227",
     "status": "completed"
    },
    "tags": []
   },
   "outputs": [],
   "source": [
    "df8 = df7.astype({'size': 'float64'})\n",
    "df91 = df8.sort_values(by=['size'])"
   ]
  },
  {
   "cell_type": "code",
   "execution_count": 26,
   "id": "44559eb7",
   "metadata": {
    "execution": {
     "iopub.execute_input": "2023-04-07T11:21:25.955840Z",
     "iopub.status.busy": "2023-04-07T11:21:25.954787Z",
     "iopub.status.idle": "2023-04-07T11:21:25.964848Z",
     "shell.execute_reply": "2023-04-07T11:21:25.963856Z"
    },
    "papermill": {
     "duration": 0.036953,
     "end_time": "2023-04-07T11:21:25.967297",
     "exception": false,
     "start_time": "2023-04-07T11:21:25.930344",
     "status": "completed"
    },
    "tags": []
   },
   "outputs": [],
   "source": [
    "df10 = df91.fillna(method='ffill')"
   ]
  },
  {
   "cell_type": "code",
   "execution_count": 27,
   "id": "c4106584",
   "metadata": {
    "execution": {
     "iopub.execute_input": "2023-04-07T11:21:26.016794Z",
     "iopub.status.busy": "2023-04-07T11:21:26.016414Z",
     "iopub.status.idle": "2023-04-07T11:21:26.036560Z",
     "shell.execute_reply": "2023-04-07T11:21:26.034996Z"
    },
    "papermill": {
     "duration": 0.04726,
     "end_time": "2023-04-07T11:21:26.038707",
     "exception": false,
     "start_time": "2023-04-07T11:21:25.991447",
     "status": "completed"
    },
    "tags": []
   },
   "outputs": [
    {
     "name": "stdout",
     "output_type": "stream",
     "text": [
      "<class 'pandas.core.frame.DataFrame'>\n",
      "Int64Index: 7565 entries, 1588 to 2547\n",
      "Data columns (total 7 columns):\n",
      " #   Column      Non-Null Count  Dtype  \n",
      "---  ------      --------------  -----  \n",
      " 0   location    7565 non-null   object \n",
      " 1   district    7565 non-null   object \n",
      " 2   rooms       7565 non-null   int64  \n",
      " 3   size        7565 non-null   float64\n",
      " 4   level       7565 non-null   int64  \n",
      " 5   max_levels  7565 non-null   int64  \n",
      " 6   price       7565 non-null   int64  \n",
      "dtypes: float64(1), int64(4), object(2)\n",
      "memory usage: 472.8+ KB\n"
     ]
    }
   ],
   "source": [
    "df11 = df10.astype({'price': 'int64'})\n",
    "df11.info()"
   ]
  },
  {
   "cell_type": "markdown",
   "id": "48400f58",
   "metadata": {
    "papermill": {
     "duration": 0.01989,
     "end_time": "2023-04-07T11:21:26.079338",
     "exception": false,
     "start_time": "2023-04-07T11:21:26.059448",
     "status": "completed"
    },
    "tags": []
   },
   "source": [
    "Drop duplicates"
   ]
  },
  {
   "cell_type": "code",
   "execution_count": 28,
   "id": "043b9d5b",
   "metadata": {
    "execution": {
     "iopub.execute_input": "2023-04-07T11:21:26.122091Z",
     "iopub.status.busy": "2023-04-07T11:21:26.121377Z",
     "iopub.status.idle": "2023-04-07T11:21:26.134649Z",
     "shell.execute_reply": "2023-04-07T11:21:26.133693Z"
    },
    "papermill": {
     "duration": 0.036745,
     "end_time": "2023-04-07T11:21:26.136811",
     "exception": false,
     "start_time": "2023-04-07T11:21:26.100066",
     "status": "completed"
    },
    "tags": []
   },
   "outputs": [],
   "source": [
    "df12 = df11.drop_duplicates()"
   ]
  },
  {
   "cell_type": "code",
   "execution_count": 29,
   "id": "ff7bcff5",
   "metadata": {
    "execution": {
     "iopub.execute_input": "2023-04-07T11:21:26.180099Z",
     "iopub.status.busy": "2023-04-07T11:21:26.178288Z",
     "iopub.status.idle": "2023-04-07T11:21:26.192142Z",
     "shell.execute_reply": "2023-04-07T11:21:26.190654Z"
    },
    "papermill": {
     "duration": 0.03719,
     "end_time": "2023-04-07T11:21:26.194321",
     "exception": false,
     "start_time": "2023-04-07T11:21:26.157131",
     "status": "completed"
    },
    "tags": []
   },
   "outputs": [
    {
     "name": "stderr",
     "output_type": "stream",
     "text": [
      "/opt/conda/lib/python3.7/site-packages/ipykernel_launcher.py:2: SettingWithCopyWarning: \n",
      "A value is trying to be set on a copy of a slice from a DataFrame\n",
      "\n",
      "See the caveats in the documentation: https://pandas.pydata.org/pandas-docs/stable/user_guide/indexing.html#returning-a-view-versus-a-copy\n",
      "  \n"
     ]
    }
   ],
   "source": [
    "df13 = df12.drop([1827, 2268, 2547, 3089, 4089, 4411, 4615, 5456, 7421,1831])\n",
    "df13['size'][[981, 2662, 4784, 7043]] = df13['size'][[981, 2662, 4784, 7043]].map(lambda x: x / 100)\n",
    "df14 = df13[(df13['price'] < 600_000)]\n",
    "df15 = df14[df14['size'] < 300]"
   ]
  },
  {
   "cell_type": "code",
   "execution_count": 30,
   "id": "7f7fdb37",
   "metadata": {
    "execution": {
     "iopub.execute_input": "2023-04-07T11:21:26.236911Z",
     "iopub.status.busy": "2023-04-07T11:21:26.236273Z",
     "iopub.status.idle": "2023-04-07T11:21:26.253468Z",
     "shell.execute_reply": "2023-04-07T11:21:26.252421Z"
    },
    "papermill": {
     "duration": 0.041063,
     "end_time": "2023-04-07T11:21:26.255822",
     "exception": false,
     "start_time": "2023-04-07T11:21:26.214759",
     "status": "completed"
    },
    "tags": []
   },
   "outputs": [
    {
     "data": {
      "text/html": [
       "<div>\n",
       "<style scoped>\n",
       "    .dataframe tbody tr th:only-of-type {\n",
       "        vertical-align: middle;\n",
       "    }\n",
       "\n",
       "    .dataframe tbody tr th {\n",
       "        vertical-align: top;\n",
       "    }\n",
       "\n",
       "    .dataframe thead th {\n",
       "        text-align: right;\n",
       "    }\n",
       "</style>\n",
       "<table border=\"1\" class=\"dataframe\">\n",
       "  <thead>\n",
       "    <tr style=\"text-align: right;\">\n",
       "      <th></th>\n",
       "      <th>location</th>\n",
       "      <th>district</th>\n",
       "      <th>rooms</th>\n",
       "      <th>size</th>\n",
       "      <th>level</th>\n",
       "      <th>max_levels</th>\n",
       "      <th>price</th>\n",
       "    </tr>\n",
       "  </thead>\n",
       "  <tbody>\n",
       "    <tr>\n",
       "      <th>1588</th>\n",
       "      <td>город Ташкент, Янгихаётский район, Yangi hayot...</td>\n",
       "      <td>Янгихаётский</td>\n",
       "      <td>5</td>\n",
       "      <td>1.00</td>\n",
       "      <td>6</td>\n",
       "      <td>9</td>\n",
       "      <td>45000</td>\n",
       "    </tr>\n",
       "    <tr>\n",
       "      <th>5496</th>\n",
       "      <td>город Ташкент, Учтепинский район, Чиланзар 25-...</td>\n",
       "      <td>Учтепинский</td>\n",
       "      <td>2</td>\n",
       "      <td>1.00</td>\n",
       "      <td>2</td>\n",
       "      <td>5</td>\n",
       "      <td>35000</td>\n",
       "    </tr>\n",
       "    <tr>\n",
       "      <th>2363</th>\n",
       "      <td>город Ташкент, Мирабадский район, Nurli zamin ...</td>\n",
       "      <td>Мирабадский</td>\n",
       "      <td>4</td>\n",
       "      <td>3.00</td>\n",
       "      <td>1</td>\n",
       "      <td>1</td>\n",
       "      <td>50000</td>\n",
       "    </tr>\n",
       "    <tr>\n",
       "      <th>4690</th>\n",
       "      <td>город Ташкент, Мирабадский район, 1-й проезд Х...</td>\n",
       "      <td>Мирабадский</td>\n",
       "      <td>5</td>\n",
       "      <td>3.80</td>\n",
       "      <td>2</td>\n",
       "      <td>2</td>\n",
       "      <td>90000</td>\n",
       "    </tr>\n",
       "    <tr>\n",
       "      <th>4053</th>\n",
       "      <td>город Ташкент, Мирзо-Улугбекский район, Элобод</td>\n",
       "      <td>Мирзо-Улугбекский</td>\n",
       "      <td>2</td>\n",
       "      <td>4.00</td>\n",
       "      <td>1</td>\n",
       "      <td>3</td>\n",
       "      <td>26000</td>\n",
       "    </tr>\n",
       "    <tr>\n",
       "      <th>...</th>\n",
       "      <td>...</td>\n",
       "      <td>...</td>\n",
       "      <td>...</td>\n",
       "      <td>...</td>\n",
       "      <td>...</td>\n",
       "      <td>...</td>\n",
       "      <td>...</td>\n",
       "    </tr>\n",
       "    <tr>\n",
       "      <th>4622</th>\n",
       "      <td>город Ташкент, Яккасарайский район, Ракат</td>\n",
       "      <td>Яккасарайский</td>\n",
       "      <td>3</td>\n",
       "      <td>290.00</td>\n",
       "      <td>1</td>\n",
       "      <td>5</td>\n",
       "      <td>270000</td>\n",
       "    </tr>\n",
       "    <tr>\n",
       "      <th>2662</th>\n",
       "      <td>город Ташкент, Учтепинский район, Учтепинский ...</td>\n",
       "      <td>Учтепинский</td>\n",
       "      <td>1</td>\n",
       "      <td>34.48</td>\n",
       "      <td>5</td>\n",
       "      <td>5</td>\n",
       "      <td>25000</td>\n",
       "    </tr>\n",
       "    <tr>\n",
       "      <th>981</th>\n",
       "      <td>город Ташкент, Мирабадский район, Массив Куйлю...</td>\n",
       "      <td>Мирабадский</td>\n",
       "      <td>3</td>\n",
       "      <td>73.59</td>\n",
       "      <td>2</td>\n",
       "      <td>4</td>\n",
       "      <td>46500</td>\n",
       "    </tr>\n",
       "    <tr>\n",
       "      <th>4784</th>\n",
       "      <td>город Ташкент, Мирабадский район, Массив Куйлюк1</td>\n",
       "      <td>Мирабадский</td>\n",
       "      <td>3</td>\n",
       "      <td>73.59</td>\n",
       "      <td>2</td>\n",
       "      <td>4</td>\n",
       "      <td>46500</td>\n",
       "    </tr>\n",
       "    <tr>\n",
       "      <th>7043</th>\n",
       "      <td>город Ташкент, Олмазорский район, Олмазорский ...</td>\n",
       "      <td>Олмазорский</td>\n",
       "      <td>4</td>\n",
       "      <td>74.07</td>\n",
       "      <td>4</td>\n",
       "      <td>4</td>\n",
       "      <td>44000</td>\n",
       "    </tr>\n",
       "  </tbody>\n",
       "</table>\n",
       "<p>6830 rows × 7 columns</p>\n",
       "</div>"
      ],
      "text/plain": [
       "                                               location           district  \\\n",
       "1588  город Ташкент, Янгихаётский район, Yangi hayot...       Янгихаётский   \n",
       "5496  город Ташкент, Учтепинский район, Чиланзар 25-...        Учтепинский   \n",
       "2363  город Ташкент, Мирабадский район, Nurli zamin ...        Мирабадский   \n",
       "4690  город Ташкент, Мирабадский район, 1-й проезд Х...        Мирабадский   \n",
       "4053     город Ташкент, Мирзо-Улугбекский район, Элобод  Мирзо-Улугбекский   \n",
       "...                                                 ...                ...   \n",
       "4622          город Ташкент, Яккасарайский район, Ракат      Яккасарайский   \n",
       "2662  город Ташкент, Учтепинский район, Учтепинский ...        Учтепинский   \n",
       "981   город Ташкент, Мирабадский район, Массив Куйлю...        Мирабадский   \n",
       "4784   город Ташкент, Мирабадский район, Массив Куйлюк1        Мирабадский   \n",
       "7043  город Ташкент, Олмазорский район, Олмазорский ...        Олмазорский   \n",
       "\n",
       "      rooms    size  level  max_levels   price  \n",
       "1588      5    1.00      6           9   45000  \n",
       "5496      2    1.00      2           5   35000  \n",
       "2363      4    3.00      1           1   50000  \n",
       "4690      5    3.80      2           2   90000  \n",
       "4053      2    4.00      1           3   26000  \n",
       "...     ...     ...    ...         ...     ...  \n",
       "4622      3  290.00      1           5  270000  \n",
       "2662      1   34.48      5           5   25000  \n",
       "981       3   73.59      2           4   46500  \n",
       "4784      3   73.59      2           4   46500  \n",
       "7043      4   74.07      4           4   44000  \n",
       "\n",
       "[6830 rows x 7 columns]"
      ]
     },
     "execution_count": 30,
     "metadata": {},
     "output_type": "execute_result"
    }
   ],
   "source": [
    "df15"
   ]
  },
  {
   "cell_type": "markdown",
   "id": "ac980e5f",
   "metadata": {
    "papermill": {
     "duration": 0.02011,
     "end_time": "2023-04-07T11:21:26.296668",
     "exception": false,
     "start_time": "2023-04-07T11:21:26.276558",
     "status": "completed"
    },
    "tags": []
   },
   "source": []
  },
  {
   "cell_type": "code",
   "execution_count": 31,
   "id": "d3dedc82",
   "metadata": {
    "execution": {
     "iopub.execute_input": "2023-04-07T11:21:26.339746Z",
     "iopub.status.busy": "2023-04-07T11:21:26.338813Z",
     "iopub.status.idle": "2023-04-07T11:21:26.552953Z",
     "shell.execute_reply": "2023-04-07T11:21:26.551879Z"
    },
    "papermill": {
     "duration": 0.23797,
     "end_time": "2023-04-07T11:21:26.555294",
     "exception": false,
     "start_time": "2023-04-07T11:21:26.317324",
     "status": "completed"
    },
    "tags": []
   },
   "outputs": [
    {
     "data": {
      "image/png": "[encoded data removed]",
      "text/plain": [
       "<Figure size 600x400 with 1 Axes>"
      ]
     },
     "metadata": {},
     "output_type": "display_data"
    }
   ],
   "source": [
    "df15.plot(kind='scatter', x=\"size\", y=\"price\", alpha = 0.5, figsize=(6,4))\n",
    "plt.show()"
   ]
  },
  {
   "cell_type": "markdown",
   "id": "e80cf901",
   "metadata": {
    "papermill": {
     "duration": 0.020961,
     "end_time": "2023-04-07T11:21:26.597732",
     "exception": false,
     "start_time": "2023-04-07T11:21:26.576771",
     "status": "completed"
    },
    "tags": []
   },
   "source": [
    "We continue the visualization"
   ]
  },
  {
   "cell_type": "code",
   "execution_count": 32,
   "id": "91abc810",
   "metadata": {
    "execution": {
     "iopub.execute_input": "2023-04-07T11:21:26.641886Z",
     "iopub.status.busy": "2023-04-07T11:21:26.640897Z",
     "iopub.status.idle": "2023-04-07T11:21:27.258764Z",
     "shell.execute_reply": "2023-04-07T11:21:27.257741Z"
    },
    "papermill": {
     "duration": 0.642743,
     "end_time": "2023-04-07T11:21:27.261408",
     "exception": false,
     "start_time": "2023-04-07T11:21:26.618665",
     "status": "completed"
    },
    "tags": []
   },
   "outputs": [
    {
     "data": {
      "image/png": "[encoded data removed]",
      "text/plain": [
       "<Figure size 1200x900 with 1 Axes>"
      ]
     },
     "metadata": {},
     "output_type": "display_data"
    }
   ],
   "source": [
    "plt.figure(figsize=(12,9))\n",
    "sns.barplot(x=df15.district, y=df15['price'])\n",
    "\n",
    "plt.title(\"Price of houses of the Tashkent city\")\n",
    "plt.xlabel(\"Disctrict\")\n",
    "plt.ylabel(\"Price\")\n",
    "plt.grid() # Chizmaga gorizontal va vertikal chiziqlar (setka) qo'shish\n",
    "plt.xticks(rotation=30)\n",
    "plt.show()"
   ]
  },
  {
   "cell_type": "markdown",
   "id": "b4771e3f",
   "metadata": {
    "papermill": {
     "duration": 0.025065,
     "end_time": "2023-04-07T11:21:27.309695",
     "exception": false,
     "start_time": "2023-04-07T11:21:27.284630",
     "status": "completed"
    },
    "tags": []
   },
   "source": [
    "We analyze the balance in the Size column."
   ]
  },
  {
   "cell_type": "code",
   "execution_count": 33,
   "id": "f0590d7a",
   "metadata": {
    "execution": {
     "iopub.execute_input": "2023-04-07T11:21:27.356872Z",
     "iopub.status.busy": "2023-04-07T11:21:27.356504Z",
     "iopub.status.idle": "2023-04-07T11:21:27.577795Z",
     "shell.execute_reply": "2023-04-07T11:21:27.576873Z"
    },
    "papermill": {
     "duration": 0.24683,
     "end_time": "2023-04-07T11:21:27.580014",
     "exception": false,
     "start_time": "2023-04-07T11:21:27.333184",
     "status": "completed"
    },
    "tags": []
   },
   "outputs": [
    {
     "name": "stderr",
     "output_type": "stream",
     "text": [
      "/opt/conda/lib/python3.7/site-packages/ipykernel_launcher.py:1: SettingWithCopyWarning: \n",
      "A value is trying to be set on a copy of a slice from a DataFrame.\n",
      "Try using .loc[row_indexer,col_indexer] = value instead\n",
      "\n",
      "See the caveats in the documentation: https://pandas.pydata.org/pandas-docs/stable/user_guide/indexing.html#returning-a-view-versus-a-copy\n",
      "  \"\"\"Entry point for launching an IPython kernel.\n"
     ]
    },
    {
     "data": {
      "image/png": "[encoded data removed]",
      "text/plain": [
       "<Figure size 900x600 with 1 Axes>"
      ]
     },
     "metadata": {},
     "output_type": "display_data"
    }
   ],
   "source": [
    "df15['size_cat'] = pd.cut(df15['size'], bins=[0., 25.0, 50.0, 75.0, 100.0, np.inf], labels=[1,2,3,4,5])\n",
    "df15['size_cat'].hist(figsize=(9,6))\n",
    "plt.show()"
   ]
  },
  {
   "cell_type": "markdown",
   "id": "2e6e1a5f",
   "metadata": {
    "papermill": {
     "duration": 0.022168,
     "end_time": "2023-04-07T11:21:27.625163",
     "exception": false,
     "start_time": "2023-04-07T11:21:27.602995",
     "status": "completed"
    },
    "tags": []
   },
   "source": [
    "<h4>We divide the data into a **balanced** *train* and a *test* set.</h4>"
   ]
  },
  {
   "cell_type": "code",
   "execution_count": 34,
   "id": "4b647cb8",
   "metadata": {
    "execution": {
     "iopub.execute_input": "2023-04-07T11:21:27.672129Z",
     "iopub.status.busy": "2023-04-07T11:21:27.671725Z",
     "iopub.status.idle": "2023-04-07T11:21:27.759096Z",
     "shell.execute_reply": "2023-04-07T11:21:27.757903Z"
    },
    "papermill": {
     "duration": 0.114463,
     "end_time": "2023-04-07T11:21:27.762256",
     "exception": false,
     "start_time": "2023-04-07T11:21:27.647793",
     "status": "completed"
    },
    "tags": []
   },
   "outputs": [
    {
     "name": "stderr",
     "output_type": "stream",
     "text": [
      "/opt/conda/lib/python3.7/site-packages/pandas/core/frame.py:4913: SettingWithCopyWarning: \n",
      "A value is trying to be set on a copy of a slice from a DataFrame\n",
      "\n",
      "See the caveats in the documentation: https://pandas.pydata.org/pandas-docs/stable/user_guide/indexing.html#returning-a-view-versus-a-copy\n",
      "  errors=errors,\n"
     ]
    }
   ],
   "source": [
    "from sklearn.model_selection import StratifiedShuffleSplit\n",
    "stratified_split = StratifiedShuffleSplit(n_splits=1, test_size=0.2, random_state=42)\n",
    "# stratified_split.split funksiyasi indekslar qaytaradi\n",
    "for train_index, test_index in stratified_split.split(df15,df15['size_cat']):\n",
    "    strat_train_set = df15.iloc[train_index]\n",
    "    strat_test_set = df15.iloc[test_index]\n",
    "    \n",
    "strat_train_set.drop('size_cat', axis=1, inplace=True)\n",
    "strat_test_set.drop('size_cat', axis=1, inplace=True)"
   ]
  },
  {
   "cell_type": "code",
   "execution_count": 35,
   "id": "1be42911",
   "metadata": {
    "execution": {
     "iopub.execute_input": "2023-04-07T11:21:27.809859Z",
     "iopub.status.busy": "2023-04-07T11:21:27.808893Z",
     "iopub.status.idle": "2023-04-07T11:21:27.816294Z",
     "shell.execute_reply": "2023-04-07T11:21:27.815354Z"
    },
    "papermill": {
     "duration": 0.033672,
     "end_time": "2023-04-07T11:21:27.818713",
     "exception": false,
     "start_time": "2023-04-07T11:21:27.785041",
     "status": "completed"
    },
    "tags": []
   },
   "outputs": [],
   "source": [
    "strat_train_set.drop(\"location\", axis=1, inplace=True)\n",
    "strat_test_set.drop(\"location\", axis=1, inplace=True)"
   ]
  },
  {
   "cell_type": "code",
   "execution_count": 36,
   "id": "8e31af6d",
   "metadata": {
    "execution": {
     "iopub.execute_input": "2023-04-07T11:21:27.866144Z",
     "iopub.status.busy": "2023-04-07T11:21:27.865148Z",
     "iopub.status.idle": "2023-04-07T11:21:27.881348Z",
     "shell.execute_reply": "2023-04-07T11:21:27.880244Z"
    },
    "papermill": {
     "duration": 0.042256,
     "end_time": "2023-04-07T11:21:27.883516",
     "exception": false,
     "start_time": "2023-04-07T11:21:27.841260",
     "status": "completed"
    },
    "tags": []
   },
   "outputs": [
    {
     "data": {
      "text/html": [
       "<div>\n",
       "<style scoped>\n",
       "    .dataframe tbody tr th:only-of-type {\n",
       "        vertical-align: middle;\n",
       "    }\n",
       "\n",
       "    .dataframe tbody tr th {\n",
       "        vertical-align: top;\n",
       "    }\n",
       "\n",
       "    .dataframe thead th {\n",
       "        text-align: right;\n",
       "    }\n",
       "</style>\n",
       "<table border=\"1\" class=\"dataframe\">\n",
       "  <thead>\n",
       "    <tr style=\"text-align: right;\">\n",
       "      <th></th>\n",
       "      <th>district</th>\n",
       "      <th>rooms</th>\n",
       "      <th>size</th>\n",
       "      <th>level</th>\n",
       "      <th>max_levels</th>\n",
       "      <th>price</th>\n",
       "    </tr>\n",
       "  </thead>\n",
       "  <tbody>\n",
       "    <tr>\n",
       "      <th>3867</th>\n",
       "      <td>Мирабадский</td>\n",
       "      <td>3</td>\n",
       "      <td>105.0</td>\n",
       "      <td>7</td>\n",
       "      <td>9</td>\n",
       "      <td>125000</td>\n",
       "    </tr>\n",
       "    <tr>\n",
       "      <th>264</th>\n",
       "      <td>Мирзо-Улугбекский</td>\n",
       "      <td>4</td>\n",
       "      <td>91.0</td>\n",
       "      <td>1</td>\n",
       "      <td>5</td>\n",
       "      <td>75000</td>\n",
       "    </tr>\n",
       "    <tr>\n",
       "      <th>2787</th>\n",
       "      <td>Мирабадский</td>\n",
       "      <td>4</td>\n",
       "      <td>100.0</td>\n",
       "      <td>7</td>\n",
       "      <td>9</td>\n",
       "      <td>105000</td>\n",
       "    </tr>\n",
       "    <tr>\n",
       "      <th>1253</th>\n",
       "      <td>Чиланзарский</td>\n",
       "      <td>4</td>\n",
       "      <td>100.0</td>\n",
       "      <td>9</td>\n",
       "      <td>9</td>\n",
       "      <td>48000</td>\n",
       "    </tr>\n",
       "    <tr>\n",
       "      <th>4707</th>\n",
       "      <td>Юнусабадский</td>\n",
       "      <td>2</td>\n",
       "      <td>55.0</td>\n",
       "      <td>1</td>\n",
       "      <td>9</td>\n",
       "      <td>41000</td>\n",
       "    </tr>\n",
       "    <tr>\n",
       "      <th>...</th>\n",
       "      <td>...</td>\n",
       "      <td>...</td>\n",
       "      <td>...</td>\n",
       "      <td>...</td>\n",
       "      <td>...</td>\n",
       "      <td>...</td>\n",
       "    </tr>\n",
       "    <tr>\n",
       "      <th>7481</th>\n",
       "      <td>Сергелийский</td>\n",
       "      <td>3</td>\n",
       "      <td>82.0</td>\n",
       "      <td>2</td>\n",
       "      <td>9</td>\n",
       "      <td>33000</td>\n",
       "    </tr>\n",
       "    <tr>\n",
       "      <th>1203</th>\n",
       "      <td>Чиланзарский</td>\n",
       "      <td>2</td>\n",
       "      <td>46.0</td>\n",
       "      <td>2</td>\n",
       "      <td>4</td>\n",
       "      <td>35000</td>\n",
       "    </tr>\n",
       "    <tr>\n",
       "      <th>2487</th>\n",
       "      <td>Чиланзарский</td>\n",
       "      <td>3</td>\n",
       "      <td>70.0</td>\n",
       "      <td>3</td>\n",
       "      <td>3</td>\n",
       "      <td>40000</td>\n",
       "    </tr>\n",
       "    <tr>\n",
       "      <th>7460</th>\n",
       "      <td>Сергелийский</td>\n",
       "      <td>3</td>\n",
       "      <td>78.0</td>\n",
       "      <td>5</td>\n",
       "      <td>5</td>\n",
       "      <td>42000</td>\n",
       "    </tr>\n",
       "    <tr>\n",
       "      <th>6627</th>\n",
       "      <td>Шайхантахурский</td>\n",
       "      <td>5</td>\n",
       "      <td>185.0</td>\n",
       "      <td>2</td>\n",
       "      <td>5</td>\n",
       "      <td>135000</td>\n",
       "    </tr>\n",
       "  </tbody>\n",
       "</table>\n",
       "<p>1366 rows × 6 columns</p>\n",
       "</div>"
      ],
      "text/plain": [
       "               district  rooms   size  level  max_levels   price\n",
       "3867        Мирабадский      3  105.0      7           9  125000\n",
       "264   Мирзо-Улугбекский      4   91.0      1           5   75000\n",
       "2787        Мирабадский      4  100.0      7           9  105000\n",
       "1253       Чиланзарский      4  100.0      9           9   48000\n",
       "4707       Юнусабадский      2   55.0      1           9   41000\n",
       "...                 ...    ...    ...    ...         ...     ...\n",
       "7481       Сергелийский      3   82.0      2           9   33000\n",
       "1203       Чиланзарский      2   46.0      2           4   35000\n",
       "2487       Чиланзарский      3   70.0      3           3   40000\n",
       "7460       Сергелийский      3   78.0      5           5   42000\n",
       "6627    Шайхантахурский      5  185.0      2           5  135000\n",
       "\n",
       "[1366 rows x 6 columns]"
      ]
     },
     "execution_count": 36,
     "metadata": {},
     "output_type": "execute_result"
    }
   ],
   "source": [
    "strat_test_set"
   ]
  },
  {
   "cell_type": "markdown",
   "id": "0b70b40b",
   "metadata": {
    "papermill": {
     "duration": 0.022188,
     "end_time": "2023-04-07T11:21:27.929018",
     "exception": false,
     "start_time": "2023-04-07T11:21:27.906830",
     "status": "completed"
    },
    "tags": []
   },
   "source": [
    "We choose *balanced sets* for work.\n",
    "\n",
    "This time we separate the *price* column (which we need to optimize) as well. This is because the changes applied to the rest of the columns are not applied to the label."
   ]
  },
  {
   "cell_type": "code",
   "execution_count": 37,
   "id": "c9d0e453",
   "metadata": {
    "execution": {
     "iopub.execute_input": "2023-04-07T11:21:27.975829Z",
     "iopub.status.busy": "2023-04-07T11:21:27.975156Z",
     "iopub.status.idle": "2023-04-07T11:21:27.981553Z",
     "shell.execute_reply": "2023-04-07T11:21:27.980571Z"
    },
    "papermill": {
     "duration": 0.032148,
     "end_time": "2023-04-07T11:21:27.983661",
     "exception": false,
     "start_time": "2023-04-07T11:21:27.951513",
     "status": "completed"
    },
    "tags": []
   },
   "outputs": [],
   "source": [
    "housing = strat_train_set.drop(\"price\", axis=1)\n",
    "housing_labels = strat_train_set[\"price\"].copy()"
   ]
  },
  {
   "cell_type": "markdown",
   "id": "402ee544",
   "metadata": {
    "papermill": {
     "duration": 0.022645,
     "end_time": "2023-04-07T11:21:28.028719",
     "exception": false,
     "start_time": "2023-04-07T11:21:28.006074",
     "status": "completed"
    },
    "tags": []
   },
   "source": [
    "<h1 style=\"color:white; padding: 20px; background-color: green; display:inline-block\">Changing the shape of text columns</h1>\n",
    "\n",
    "The ocean_proximity column of our dataset is a text column. \n",
    "\n",
    "Let's break down this column to get started."
   ]
  },
  {
   "cell_type": "code",
   "execution_count": 38,
   "id": "be35e57f",
   "metadata": {
    "execution": {
     "iopub.execute_input": "2023-04-07T11:21:28.077070Z",
     "iopub.status.busy": "2023-04-07T11:21:28.076067Z",
     "iopub.status.idle": "2023-04-07T11:21:28.083009Z",
     "shell.execute_reply": "2023-04-07T11:21:28.082070Z"
    },
    "papermill": {
     "duration": 0.033468,
     "end_time": "2023-04-07T11:21:28.085102",
     "exception": false,
     "start_time": "2023-04-07T11:21:28.051634",
     "status": "completed"
    },
    "tags": []
   },
   "outputs": [],
   "source": [
    "housing_cat = housing[['district']]\n",
    "housing_num = housing.drop(\"district\", axis=1)"
   ]
  },
  {
   "cell_type": "markdown",
   "id": "6996f795",
   "metadata": {
    "papermill": {
     "duration": 0.022063,
     "end_time": "2023-04-07T11:21:28.129616",
     "exception": false,
     "start_time": "2023-04-07T11:21:28.107553",
     "status": "completed"
    },
    "tags": []
   },
   "source": [
    "Using the OneHotEncoder method, each unique value becomes a separate column and we put 1 in the corresponding column and 0 in the rest."
   ]
  },
  {
   "cell_type": "code",
   "execution_count": 39,
   "id": "04a47159",
   "metadata": {
    "execution": {
     "iopub.execute_input": "2023-04-07T11:21:28.176010Z",
     "iopub.status.busy": "2023-04-07T11:21:28.175634Z",
     "iopub.status.idle": "2023-04-07T11:21:28.186344Z",
     "shell.execute_reply": "2023-04-07T11:21:28.185323Z"
    },
    "papermill": {
     "duration": 0.036334,
     "end_time": "2023-04-07T11:21:28.188415",
     "exception": false,
     "start_time": "2023-04-07T11:21:28.152081",
     "status": "completed"
    },
    "tags": []
   },
   "outputs": [
    {
     "data": {
      "text/plain": [
       "array([[0., 0., 1., ..., 0., 0., 0.],\n",
       "       [0., 1., 0., ..., 0., 0., 0.],\n",
       "       [0., 0., 0., ..., 0., 0., 0.],\n",
       "       ...,\n",
       "       [0., 0., 0., ..., 0., 0., 0.],\n",
       "       [0., 0., 0., ..., 0., 0., 0.],\n",
       "       [0., 0., 1., ..., 0., 0., 0.]])"
      ]
     },
     "execution_count": 39,
     "metadata": {},
     "output_type": "execute_result"
    }
   ],
   "source": [
    "from sklearn.preprocessing import OneHotEncoder\n",
    "cat_encoder = OneHotEncoder()\n",
    "housing_cat_1hot = cat_encoder.fit_transform(housing_cat)\n",
    "housing_cat_1hot.toarray()"
   ]
  },
  {
   "cell_type": "code",
   "execution_count": 40,
   "id": "3d6889e3",
   "metadata": {
    "execution": {
     "iopub.execute_input": "2023-04-07T11:21:28.236129Z",
     "iopub.status.busy": "2023-04-07T11:21:28.235037Z",
     "iopub.status.idle": "2023-04-07T11:21:28.249887Z",
     "shell.execute_reply": "2023-04-07T11:21:28.248764Z"
    },
    "papermill": {
     "duration": 0.041353,
     "end_time": "2023-04-07T11:21:28.252499",
     "exception": false,
     "start_time": "2023-04-07T11:21:28.211146",
     "status": "completed"
    },
    "tags": []
   },
   "outputs": [
    {
     "data": {
      "text/html": [
       "<div>\n",
       "<style scoped>\n",
       "    .dataframe tbody tr th:only-of-type {\n",
       "        vertical-align: middle;\n",
       "    }\n",
       "\n",
       "    .dataframe tbody tr th {\n",
       "        vertical-align: top;\n",
       "    }\n",
       "\n",
       "    .dataframe thead th {\n",
       "        text-align: right;\n",
       "    }\n",
       "</style>\n",
       "<table border=\"1\" class=\"dataframe\">\n",
       "  <thead>\n",
       "    <tr style=\"text-align: right;\">\n",
       "      <th></th>\n",
       "      <th>district</th>\n",
       "      <th>rooms</th>\n",
       "      <th>size</th>\n",
       "      <th>level</th>\n",
       "      <th>max_levels</th>\n",
       "    </tr>\n",
       "  </thead>\n",
       "  <tbody>\n",
       "    <tr>\n",
       "      <th>928</th>\n",
       "      <td>Мирзо-Улугбекский</td>\n",
       "      <td>2</td>\n",
       "      <td>60.0</td>\n",
       "      <td>7</td>\n",
       "      <td>9</td>\n",
       "    </tr>\n",
       "    <tr>\n",
       "      <th>2664</th>\n",
       "      <td>Мирабадский</td>\n",
       "      <td>3</td>\n",
       "      <td>100.0</td>\n",
       "      <td>7</td>\n",
       "      <td>8</td>\n",
       "    </tr>\n",
       "    <tr>\n",
       "      <th>7080</th>\n",
       "      <td>Чиланзарский</td>\n",
       "      <td>2</td>\n",
       "      <td>48.0</td>\n",
       "      <td>2</td>\n",
       "      <td>4</td>\n",
       "    </tr>\n",
       "    <tr>\n",
       "      <th>4281</th>\n",
       "      <td>Мирзо-Улугбекский</td>\n",
       "      <td>3</td>\n",
       "      <td>105.0</td>\n",
       "      <td>5</td>\n",
       "      <td>6</td>\n",
       "    </tr>\n",
       "    <tr>\n",
       "      <th>6504</th>\n",
       "      <td>Мирзо-Улугбекский</td>\n",
       "      <td>2</td>\n",
       "      <td>46.0</td>\n",
       "      <td>4</td>\n",
       "      <td>4</td>\n",
       "    </tr>\n",
       "    <tr>\n",
       "      <th>...</th>\n",
       "      <td>...</td>\n",
       "      <td>...</td>\n",
       "      <td>...</td>\n",
       "      <td>...</td>\n",
       "      <td>...</td>\n",
       "    </tr>\n",
       "    <tr>\n",
       "      <th>3355</th>\n",
       "      <td>Мирзо-Улугбекский</td>\n",
       "      <td>2</td>\n",
       "      <td>70.0</td>\n",
       "      <td>3</td>\n",
       "      <td>6</td>\n",
       "    </tr>\n",
       "    <tr>\n",
       "      <th>3633</th>\n",
       "      <td>Чиланзарский</td>\n",
       "      <td>3</td>\n",
       "      <td>100.0</td>\n",
       "      <td>6</td>\n",
       "      <td>9</td>\n",
       "    </tr>\n",
       "    <tr>\n",
       "      <th>1593</th>\n",
       "      <td>Чиланзарский</td>\n",
       "      <td>4</td>\n",
       "      <td>120.0</td>\n",
       "      <td>5</td>\n",
       "      <td>5</td>\n",
       "    </tr>\n",
       "    <tr>\n",
       "      <th>3742</th>\n",
       "      <td>Чиланзарский</td>\n",
       "      <td>1</td>\n",
       "      <td>42.0</td>\n",
       "      <td>3</td>\n",
       "      <td>4</td>\n",
       "    </tr>\n",
       "    <tr>\n",
       "      <th>3301</th>\n",
       "      <td>Мирзо-Улугбекский</td>\n",
       "      <td>2</td>\n",
       "      <td>53.0</td>\n",
       "      <td>3</td>\n",
       "      <td>4</td>\n",
       "    </tr>\n",
       "  </tbody>\n",
       "</table>\n",
       "<p>5464 rows × 5 columns</p>\n",
       "</div>"
      ],
      "text/plain": [
       "               district  rooms   size  level  max_levels\n",
       "928   Мирзо-Улугбекский      2   60.0      7           9\n",
       "2664        Мирабадский      3  100.0      7           8\n",
       "7080       Чиланзарский      2   48.0      2           4\n",
       "4281  Мирзо-Улугбекский      3  105.0      5           6\n",
       "6504  Мирзо-Улугбекский      2   46.0      4           4\n",
       "...                 ...    ...    ...    ...         ...\n",
       "3355  Мирзо-Улугбекский      2   70.0      3           6\n",
       "3633       Чиланзарский      3  100.0      6           9\n",
       "1593       Чиланзарский      4  120.0      5           5\n",
       "3742       Чиланзарский      1   42.0      3           4\n",
       "3301  Мирзо-Улугбекский      2   53.0      3           4\n",
       "\n",
       "[5464 rows x 5 columns]"
      ]
     },
     "execution_count": 40,
     "metadata": {},
     "output_type": "execute_result"
    }
   ],
   "source": [
    "housing"
   ]
  },
  {
   "cell_type": "markdown",
   "id": "be74c197",
   "metadata": {
    "papermill": {
     "duration": 0.022834,
     "end_time": "2023-04-07T11:21:28.302512",
     "exception": false,
     "start_time": "2023-04-07T11:21:28.279678",
     "status": "completed"
    },
    "tags": []
   },
   "source": [
    "We can make a **ransformer**"
   ]
  },
  {
   "cell_type": "code",
   "execution_count": 41,
   "id": "6d0bd4b8",
   "metadata": {
    "execution": {
     "iopub.execute_input": "2023-04-07T11:21:28.350057Z",
     "iopub.status.busy": "2023-04-07T11:21:28.349652Z",
     "iopub.status.idle": "2023-04-07T11:21:28.357231Z",
     "shell.execute_reply": "2023-04-07T11:21:28.356118Z"
    },
    "papermill": {
     "duration": 0.03387,
     "end_time": "2023-04-07T11:21:28.359365",
     "exception": false,
     "start_time": "2023-04-07T11:21:28.325495",
     "status": "completed"
    },
    "tags": []
   },
   "outputs": [],
   "source": [
    "from sklearn.base import BaseEstimator, TransformerMixin\n",
    "\n",
    "\n",
    "rooms_ix, size_ix, level_ix, max_levels_ix = 0, 1, 2, 3\n",
    "\n",
    "class CombinedAttributesAdder(BaseEstimator, TransformerMixin):\n",
    "    def __init__(self, add_size_of_per_room = True):\n",
    "        self.add_size_of_per_room = add_size_of_per_room\n",
    "    def fit(self, X, y=None):\n",
    "        return self # bizni funksiyamiz faqat transformer. estimator emas\n",
    "    def transform(self, X):\n",
    "        percent_of_levels = X[:, level_ix] * 100 / X[:, max_levels_ix]\n",
    "        if self.add_size_of_per_room: # add_bedrooms_per_room ustuni ixtiyoriy bo'ladi\n",
    "            size_of_per_room = X[:, size_ix] / X[:, rooms_ix]\n",
    "            return np.c_[X, percent_of_levels, size_of_per_room]\n",
    "        else:\n",
    "            return np.c_[X, percent_of_levels]"
   ]
  },
  {
   "cell_type": "code",
   "execution_count": 42,
   "id": "70e655d9",
   "metadata": {
    "execution": {
     "iopub.execute_input": "2023-04-07T11:21:28.406517Z",
     "iopub.status.busy": "2023-04-07T11:21:28.406155Z",
     "iopub.status.idle": "2023-04-07T11:21:28.415231Z",
     "shell.execute_reply": "2023-04-07T11:21:28.414092Z"
    },
    "papermill": {
     "duration": 0.03527,
     "end_time": "2023-04-07T11:21:28.417320",
     "exception": false,
     "start_time": "2023-04-07T11:21:28.382050",
     "status": "completed"
    },
    "tags": []
   },
   "outputs": [
    {
     "data": {
      "text/plain": [
       "array([ 2.        , 60.        ,  7.        ,  9.        , 77.77777778,\n",
       "       30.        ])"
      ]
     },
     "execution_count": 42,
     "metadata": {},
     "output_type": "execute_result"
    }
   ],
   "source": [
    "attr_adder = CombinedAttributesAdder(add_size_of_per_room=True)\n",
    "housing_extra_attribs = attr_adder.transform(housing_num.values)\n",
    "housing_extra_attribs[0,:]"
   ]
  },
  {
   "cell_type": "code",
   "execution_count": 43,
   "id": "dd3b40cf",
   "metadata": {
    "execution": {
     "iopub.execute_input": "2023-04-07T11:21:28.465033Z",
     "iopub.status.busy": "2023-04-07T11:21:28.464685Z",
     "iopub.status.idle": "2023-04-07T11:21:28.472858Z",
     "shell.execute_reply": "2023-04-07T11:21:28.471761Z"
    },
    "papermill": {
     "duration": 0.034649,
     "end_time": "2023-04-07T11:21:28.475142",
     "exception": false,
     "start_time": "2023-04-07T11:21:28.440493",
     "status": "completed"
    },
    "tags": []
   },
   "outputs": [
    {
     "data": {
      "text/plain": [
       "array([ 2.        , 60.        ,  7.        ,  9.        , 77.77777778])"
      ]
     },
     "execution_count": 43,
     "metadata": {},
     "output_type": "execute_result"
    }
   ],
   "source": [
    "attr_adder = CombinedAttributesAdder(add_size_of_per_room=False)\n",
    "housing_extra_attribs = attr_adder.transform(housing_num.values)\n",
    "housing_extra_attribs[0,:]"
   ]
  },
  {
   "cell_type": "markdown",
   "id": "da3cb79d",
   "metadata": {
    "papermill": {
     "duration": 0.022906,
     "end_time": "2023-04-07T11:21:28.521601",
     "exception": false,
     "start_time": "2023-04-07T11:21:28.498695",
     "status": "completed"
    },
    "tags": []
   },
   "source": [
    "<h1 style=\"color:white; padding: 20px; background-color: green; display:inline-block\">Standard Scaler</h1>\n"
   ]
  },
  {
   "cell_type": "code",
   "execution_count": 44,
   "id": "ffe865bc",
   "metadata": {
    "execution": {
     "iopub.execute_input": "2023-04-07T11:21:28.568797Z",
     "iopub.status.busy": "2023-04-07T11:21:28.568469Z",
     "iopub.status.idle": "2023-04-07T11:21:28.579995Z",
     "shell.execute_reply": "2023-04-07T11:21:28.578844Z"
    },
    "papermill": {
     "duration": 0.037831,
     "end_time": "2023-04-07T11:21:28.582122",
     "exception": false,
     "start_time": "2023-04-07T11:21:28.544291",
     "status": "completed"
    },
    "tags": []
   },
   "outputs": [
    {
     "data": {
      "text/plain": [
       "array([[-0.5800993 , -0.37121257,  1.46840629,  1.13235263],\n",
       "       [ 0.36748293,  0.80955487,  1.46840629,  0.74869945],\n",
       "       [-0.5800993 , -0.7254428 , -0.7557363 , -0.78591325],\n",
       "       ...,\n",
       "       [ 1.31506517,  1.39993858,  0.57874925, -0.40226007],\n",
       "       [-1.52768153, -0.90255791, -0.31090778, -0.78591325],\n",
       "       [-0.5800993 , -0.57784687, -0.31090778, -0.78591325]])"
      ]
     },
     "execution_count": 44,
     "metadata": {},
     "output_type": "execute_result"
    }
   ],
   "source": [
    "from sklearn.preprocessing import StandardScaler\n",
    "standart_scaler = StandardScaler()\n",
    "standart_scaler.fit_transform(housing_num)"
   ]
  },
  {
   "cell_type": "code",
   "execution_count": 45,
   "id": "c9ea71d5",
   "metadata": {
    "execution": {
     "iopub.execute_input": "2023-04-07T11:21:28.630526Z",
     "iopub.status.busy": "2023-04-07T11:21:28.629905Z",
     "iopub.status.idle": "2023-04-07T11:21:28.645467Z",
     "shell.execute_reply": "2023-04-07T11:21:28.644309Z"
    },
    "papermill": {
     "duration": 0.041847,
     "end_time": "2023-04-07T11:21:28.647721",
     "exception": false,
     "start_time": "2023-04-07T11:21:28.605874",
     "status": "completed"
    },
    "tags": []
   },
   "outputs": [
    {
     "data": {
      "text/html": [
       "<div>\n",
       "<style scoped>\n",
       "    .dataframe tbody tr th:only-of-type {\n",
       "        vertical-align: middle;\n",
       "    }\n",
       "\n",
       "    .dataframe tbody tr th {\n",
       "        vertical-align: top;\n",
       "    }\n",
       "\n",
       "    .dataframe thead th {\n",
       "        text-align: right;\n",
       "    }\n",
       "</style>\n",
       "<table border=\"1\" class=\"dataframe\">\n",
       "  <thead>\n",
       "    <tr style=\"text-align: right;\">\n",
       "      <th></th>\n",
       "      <th>district</th>\n",
       "      <th>rooms</th>\n",
       "      <th>size</th>\n",
       "      <th>level</th>\n",
       "      <th>max_levels</th>\n",
       "    </tr>\n",
       "  </thead>\n",
       "  <tbody>\n",
       "    <tr>\n",
       "      <th>928</th>\n",
       "      <td>Мирзо-Улугбекский</td>\n",
       "      <td>2</td>\n",
       "      <td>60.0</td>\n",
       "      <td>7</td>\n",
       "      <td>9</td>\n",
       "    </tr>\n",
       "    <tr>\n",
       "      <th>2664</th>\n",
       "      <td>Мирабадский</td>\n",
       "      <td>3</td>\n",
       "      <td>100.0</td>\n",
       "      <td>7</td>\n",
       "      <td>8</td>\n",
       "    </tr>\n",
       "    <tr>\n",
       "      <th>7080</th>\n",
       "      <td>Чиланзарский</td>\n",
       "      <td>2</td>\n",
       "      <td>48.0</td>\n",
       "      <td>2</td>\n",
       "      <td>4</td>\n",
       "    </tr>\n",
       "    <tr>\n",
       "      <th>4281</th>\n",
       "      <td>Мирзо-Улугбекский</td>\n",
       "      <td>3</td>\n",
       "      <td>105.0</td>\n",
       "      <td>5</td>\n",
       "      <td>6</td>\n",
       "    </tr>\n",
       "    <tr>\n",
       "      <th>6504</th>\n",
       "      <td>Мирзо-Улугбекский</td>\n",
       "      <td>2</td>\n",
       "      <td>46.0</td>\n",
       "      <td>4</td>\n",
       "      <td>4</td>\n",
       "    </tr>\n",
       "    <tr>\n",
       "      <th>...</th>\n",
       "      <td>...</td>\n",
       "      <td>...</td>\n",
       "      <td>...</td>\n",
       "      <td>...</td>\n",
       "      <td>...</td>\n",
       "    </tr>\n",
       "    <tr>\n",
       "      <th>3355</th>\n",
       "      <td>Мирзо-Улугбекский</td>\n",
       "      <td>2</td>\n",
       "      <td>70.0</td>\n",
       "      <td>3</td>\n",
       "      <td>6</td>\n",
       "    </tr>\n",
       "    <tr>\n",
       "      <th>3633</th>\n",
       "      <td>Чиланзарский</td>\n",
       "      <td>3</td>\n",
       "      <td>100.0</td>\n",
       "      <td>6</td>\n",
       "      <td>9</td>\n",
       "    </tr>\n",
       "    <tr>\n",
       "      <th>1593</th>\n",
       "      <td>Чиланзарский</td>\n",
       "      <td>4</td>\n",
       "      <td>120.0</td>\n",
       "      <td>5</td>\n",
       "      <td>5</td>\n",
       "    </tr>\n",
       "    <tr>\n",
       "      <th>3742</th>\n",
       "      <td>Чиланзарский</td>\n",
       "      <td>1</td>\n",
       "      <td>42.0</td>\n",
       "      <td>3</td>\n",
       "      <td>4</td>\n",
       "    </tr>\n",
       "    <tr>\n",
       "      <th>3301</th>\n",
       "      <td>Мирзо-Улугбекский</td>\n",
       "      <td>2</td>\n",
       "      <td>53.0</td>\n",
       "      <td>3</td>\n",
       "      <td>4</td>\n",
       "    </tr>\n",
       "  </tbody>\n",
       "</table>\n",
       "<p>5464 rows × 5 columns</p>\n",
       "</div>"
      ],
      "text/plain": [
       "               district  rooms   size  level  max_levels\n",
       "928   Мирзо-Улугбекский      2   60.0      7           9\n",
       "2664        Мирабадский      3  100.0      7           8\n",
       "7080       Чиланзарский      2   48.0      2           4\n",
       "4281  Мирзо-Улугбекский      3  105.0      5           6\n",
       "6504  Мирзо-Улугбекский      2   46.0      4           4\n",
       "...                 ...    ...    ...    ...         ...\n",
       "3355  Мирзо-Улугбекский      2   70.0      3           6\n",
       "3633       Чиланзарский      3  100.0      6           9\n",
       "1593       Чиланзарский      4  120.0      5           5\n",
       "3742       Чиланзарский      1   42.0      3           4\n",
       "3301  Мирзо-Улугбекский      2   53.0      3           4\n",
       "\n",
       "[5464 rows x 5 columns]"
      ]
     },
     "execution_count": 45,
     "metadata": {},
     "output_type": "execute_result"
    }
   ],
   "source": [
    "housing"
   ]
  },
  {
   "cell_type": "code",
   "execution_count": 46,
   "id": "d9c5e94a",
   "metadata": {
    "execution": {
     "iopub.execute_input": "2023-04-07T11:21:28.695899Z",
     "iopub.status.busy": "2023-04-07T11:21:28.695595Z",
     "iopub.status.idle": "2023-04-07T11:21:28.710378Z",
     "shell.execute_reply": "2023-04-07T11:21:28.709332Z"
    },
    "papermill": {
     "duration": 0.041405,
     "end_time": "2023-04-07T11:21:28.712471",
     "exception": false,
     "start_time": "2023-04-07T11:21:28.671066",
     "status": "completed"
    },
    "tags": []
   },
   "outputs": [
    {
     "data": {
      "text/html": [
       "<div>\n",
       "<style scoped>\n",
       "    .dataframe tbody tr th:only-of-type {\n",
       "        vertical-align: middle;\n",
       "    }\n",
       "\n",
       "    .dataframe tbody tr th {\n",
       "        vertical-align: top;\n",
       "    }\n",
       "\n",
       "    .dataframe thead th {\n",
       "        text-align: right;\n",
       "    }\n",
       "</style>\n",
       "<table border=\"1\" class=\"dataframe\">\n",
       "  <thead>\n",
       "    <tr style=\"text-align: right;\">\n",
       "      <th></th>\n",
       "      <th>Бектемирский</th>\n",
       "      <th>Мирабадский</th>\n",
       "      <th>Мирзо-Улугбекский</th>\n",
       "      <th>Олмазорский</th>\n",
       "      <th>Сергелийский</th>\n",
       "      <th>Учтепинский</th>\n",
       "      <th>Чиланзарский</th>\n",
       "      <th>Шайхантахурский</th>\n",
       "      <th>Юнусабадский</th>\n",
       "      <th>Яккасарайский</th>\n",
       "      <th>Янгихаётский</th>\n",
       "      <th>Яшнободский</th>\n",
       "    </tr>\n",
       "  </thead>\n",
       "  <tbody>\n",
       "    <tr>\n",
       "      <th>928</th>\n",
       "      <td>0</td>\n",
       "      <td>0</td>\n",
       "      <td>1</td>\n",
       "      <td>0</td>\n",
       "      <td>0</td>\n",
       "      <td>0</td>\n",
       "      <td>0</td>\n",
       "      <td>0</td>\n",
       "      <td>0</td>\n",
       "      <td>0</td>\n",
       "      <td>0</td>\n",
       "      <td>0</td>\n",
       "    </tr>\n",
       "    <tr>\n",
       "      <th>2664</th>\n",
       "      <td>0</td>\n",
       "      <td>1</td>\n",
       "      <td>0</td>\n",
       "      <td>0</td>\n",
       "      <td>0</td>\n",
       "      <td>0</td>\n",
       "      <td>0</td>\n",
       "      <td>0</td>\n",
       "      <td>0</td>\n",
       "      <td>0</td>\n",
       "      <td>0</td>\n",
       "      <td>0</td>\n",
       "    </tr>\n",
       "    <tr>\n",
       "      <th>7080</th>\n",
       "      <td>0</td>\n",
       "      <td>0</td>\n",
       "      <td>0</td>\n",
       "      <td>0</td>\n",
       "      <td>0</td>\n",
       "      <td>0</td>\n",
       "      <td>1</td>\n",
       "      <td>0</td>\n",
       "      <td>0</td>\n",
       "      <td>0</td>\n",
       "      <td>0</td>\n",
       "      <td>0</td>\n",
       "    </tr>\n",
       "    <tr>\n",
       "      <th>4281</th>\n",
       "      <td>0</td>\n",
       "      <td>0</td>\n",
       "      <td>1</td>\n",
       "      <td>0</td>\n",
       "      <td>0</td>\n",
       "      <td>0</td>\n",
       "      <td>0</td>\n",
       "      <td>0</td>\n",
       "      <td>0</td>\n",
       "      <td>0</td>\n",
       "      <td>0</td>\n",
       "      <td>0</td>\n",
       "    </tr>\n",
       "    <tr>\n",
       "      <th>6504</th>\n",
       "      <td>0</td>\n",
       "      <td>0</td>\n",
       "      <td>1</td>\n",
       "      <td>0</td>\n",
       "      <td>0</td>\n",
       "      <td>0</td>\n",
       "      <td>0</td>\n",
       "      <td>0</td>\n",
       "      <td>0</td>\n",
       "      <td>0</td>\n",
       "      <td>0</td>\n",
       "      <td>0</td>\n",
       "    </tr>\n",
       "    <tr>\n",
       "      <th>...</th>\n",
       "      <td>...</td>\n",
       "      <td>...</td>\n",
       "      <td>...</td>\n",
       "      <td>...</td>\n",
       "      <td>...</td>\n",
       "      <td>...</td>\n",
       "      <td>...</td>\n",
       "      <td>...</td>\n",
       "      <td>...</td>\n",
       "      <td>...</td>\n",
       "      <td>...</td>\n",
       "      <td>...</td>\n",
       "    </tr>\n",
       "    <tr>\n",
       "      <th>3355</th>\n",
       "      <td>0</td>\n",
       "      <td>0</td>\n",
       "      <td>1</td>\n",
       "      <td>0</td>\n",
       "      <td>0</td>\n",
       "      <td>0</td>\n",
       "      <td>0</td>\n",
       "      <td>0</td>\n",
       "      <td>0</td>\n",
       "      <td>0</td>\n",
       "      <td>0</td>\n",
       "      <td>0</td>\n",
       "    </tr>\n",
       "    <tr>\n",
       "      <th>3633</th>\n",
       "      <td>0</td>\n",
       "      <td>0</td>\n",
       "      <td>0</td>\n",
       "      <td>0</td>\n",
       "      <td>0</td>\n",
       "      <td>0</td>\n",
       "      <td>1</td>\n",
       "      <td>0</td>\n",
       "      <td>0</td>\n",
       "      <td>0</td>\n",
       "      <td>0</td>\n",
       "      <td>0</td>\n",
       "    </tr>\n",
       "    <tr>\n",
       "      <th>1593</th>\n",
       "      <td>0</td>\n",
       "      <td>0</td>\n",
       "      <td>0</td>\n",
       "      <td>0</td>\n",
       "      <td>0</td>\n",
       "      <td>0</td>\n",
       "      <td>1</td>\n",
       "      <td>0</td>\n",
       "      <td>0</td>\n",
       "      <td>0</td>\n",
       "      <td>0</td>\n",
       "      <td>0</td>\n",
       "    </tr>\n",
       "    <tr>\n",
       "      <th>3742</th>\n",
       "      <td>0</td>\n",
       "      <td>0</td>\n",
       "      <td>0</td>\n",
       "      <td>0</td>\n",
       "      <td>0</td>\n",
       "      <td>0</td>\n",
       "      <td>1</td>\n",
       "      <td>0</td>\n",
       "      <td>0</td>\n",
       "      <td>0</td>\n",
       "      <td>0</td>\n",
       "      <td>0</td>\n",
       "    </tr>\n",
       "    <tr>\n",
       "      <th>3301</th>\n",
       "      <td>0</td>\n",
       "      <td>0</td>\n",
       "      <td>1</td>\n",
       "      <td>0</td>\n",
       "      <td>0</td>\n",
       "      <td>0</td>\n",
       "      <td>0</td>\n",
       "      <td>0</td>\n",
       "      <td>0</td>\n",
       "      <td>0</td>\n",
       "      <td>0</td>\n",
       "      <td>0</td>\n",
       "    </tr>\n",
       "  </tbody>\n",
       "</table>\n",
       "<p>5464 rows × 12 columns</p>\n",
       "</div>"
      ],
      "text/plain": [
       "      Бектемирский  Мирабадский  Мирзо-Улугбекский  Олмазорский  Сергелийский  \\\n",
       "928              0            0                  1            0             0   \n",
       "2664             0            1                  0            0             0   \n",
       "7080             0            0                  0            0             0   \n",
       "4281             0            0                  1            0             0   \n",
       "6504             0            0                  1            0             0   \n",
       "...            ...          ...                ...          ...           ...   \n",
       "3355             0            0                  1            0             0   \n",
       "3633             0            0                  0            0             0   \n",
       "1593             0            0                  0            0             0   \n",
       "3742             0            0                  0            0             0   \n",
       "3301             0            0                  1            0             0   \n",
       "\n",
       "      Учтепинский  Чиланзарский  Шайхантахурский  Юнусабадский  Яккасарайский  \\\n",
       "928             0             0                0             0              0   \n",
       "2664            0             0                0             0              0   \n",
       "7080            0             1                0             0              0   \n",
       "4281            0             0                0             0              0   \n",
       "6504            0             0                0             0              0   \n",
       "...           ...           ...              ...           ...            ...   \n",
       "3355            0             0                0             0              0   \n",
       "3633            0             1                0             0              0   \n",
       "1593            0             1                0             0              0   \n",
       "3742            0             1                0             0              0   \n",
       "3301            0             0                0             0              0   \n",
       "\n",
       "      Янгихаётский  Яшнободский  \n",
       "928              0            0  \n",
       "2664             0            0  \n",
       "7080             0            0  \n",
       "4281             0            0  \n",
       "6504             0            0  \n",
       "...            ...          ...  \n",
       "3355             0            0  \n",
       "3633             0            0  \n",
       "1593             0            0  \n",
       "3742             0            0  \n",
       "3301             0            0  \n",
       "\n",
       "[5464 rows x 12 columns]"
      ]
     },
     "execution_count": 46,
     "metadata": {},
     "output_type": "execute_result"
    }
   ],
   "source": [
    "housing_onehot = pd.get_dummies(housing['district'])\n",
    "housing_onehot"
   ]
  },
  {
   "cell_type": "code",
   "execution_count": 47,
   "id": "396af2ef",
   "metadata": {
    "execution": {
     "iopub.execute_input": "2023-04-07T11:21:28.762551Z",
     "iopub.status.busy": "2023-04-07T11:21:28.761380Z",
     "iopub.status.idle": "2023-04-07T11:21:28.777084Z",
     "shell.execute_reply": "2023-04-07T11:21:28.776003Z"
    },
    "papermill": {
     "duration": 0.042711,
     "end_time": "2023-04-07T11:21:28.779173",
     "exception": false,
     "start_time": "2023-04-07T11:21:28.736462",
     "status": "completed"
    },
    "tags": []
   },
   "outputs": [
    {
     "data": {
      "text/html": [
       "<div>\n",
       "<style scoped>\n",
       "    .dataframe tbody tr th:only-of-type {\n",
       "        vertical-align: middle;\n",
       "    }\n",
       "\n",
       "    .dataframe tbody tr th {\n",
       "        vertical-align: top;\n",
       "    }\n",
       "\n",
       "    .dataframe thead th {\n",
       "        text-align: right;\n",
       "    }\n",
       "</style>\n",
       "<table border=\"1\" class=\"dataframe\">\n",
       "  <thead>\n",
       "    <tr style=\"text-align: right;\">\n",
       "      <th></th>\n",
       "      <th>rooms</th>\n",
       "      <th>size</th>\n",
       "      <th>level</th>\n",
       "      <th>max_levels</th>\n",
       "    </tr>\n",
       "  </thead>\n",
       "  <tbody>\n",
       "    <tr>\n",
       "      <th>928</th>\n",
       "      <td>2</td>\n",
       "      <td>60.0</td>\n",
       "      <td>7</td>\n",
       "      <td>9</td>\n",
       "    </tr>\n",
       "    <tr>\n",
       "      <th>2664</th>\n",
       "      <td>3</td>\n",
       "      <td>100.0</td>\n",
       "      <td>7</td>\n",
       "      <td>8</td>\n",
       "    </tr>\n",
       "    <tr>\n",
       "      <th>7080</th>\n",
       "      <td>2</td>\n",
       "      <td>48.0</td>\n",
       "      <td>2</td>\n",
       "      <td>4</td>\n",
       "    </tr>\n",
       "    <tr>\n",
       "      <th>4281</th>\n",
       "      <td>3</td>\n",
       "      <td>105.0</td>\n",
       "      <td>5</td>\n",
       "      <td>6</td>\n",
       "    </tr>\n",
       "    <tr>\n",
       "      <th>6504</th>\n",
       "      <td>2</td>\n",
       "      <td>46.0</td>\n",
       "      <td>4</td>\n",
       "      <td>4</td>\n",
       "    </tr>\n",
       "    <tr>\n",
       "      <th>...</th>\n",
       "      <td>...</td>\n",
       "      <td>...</td>\n",
       "      <td>...</td>\n",
       "      <td>...</td>\n",
       "    </tr>\n",
       "    <tr>\n",
       "      <th>3355</th>\n",
       "      <td>2</td>\n",
       "      <td>70.0</td>\n",
       "      <td>3</td>\n",
       "      <td>6</td>\n",
       "    </tr>\n",
       "    <tr>\n",
       "      <th>3633</th>\n",
       "      <td>3</td>\n",
       "      <td>100.0</td>\n",
       "      <td>6</td>\n",
       "      <td>9</td>\n",
       "    </tr>\n",
       "    <tr>\n",
       "      <th>1593</th>\n",
       "      <td>4</td>\n",
       "      <td>120.0</td>\n",
       "      <td>5</td>\n",
       "      <td>5</td>\n",
       "    </tr>\n",
       "    <tr>\n",
       "      <th>3742</th>\n",
       "      <td>1</td>\n",
       "      <td>42.0</td>\n",
       "      <td>3</td>\n",
       "      <td>4</td>\n",
       "    </tr>\n",
       "    <tr>\n",
       "      <th>3301</th>\n",
       "      <td>2</td>\n",
       "      <td>53.0</td>\n",
       "      <td>3</td>\n",
       "      <td>4</td>\n",
       "    </tr>\n",
       "  </tbody>\n",
       "</table>\n",
       "<p>5464 rows × 4 columns</p>\n",
       "</div>"
      ],
      "text/plain": [
       "      rooms   size  level  max_levels\n",
       "928       2   60.0      7           9\n",
       "2664      3  100.0      7           8\n",
       "7080      2   48.0      2           4\n",
       "4281      3  105.0      5           6\n",
       "6504      2   46.0      4           4\n",
       "...     ...    ...    ...         ...\n",
       "3355      2   70.0      3           6\n",
       "3633      3  100.0      6           9\n",
       "1593      4  120.0      5           5\n",
       "3742      1   42.0      3           4\n",
       "3301      2   53.0      3           4\n",
       "\n",
       "[5464 rows x 4 columns]"
      ]
     },
     "execution_count": 47,
     "metadata": {},
     "output_type": "execute_result"
    }
   ],
   "source": [
    "housing_num"
   ]
  },
  {
   "cell_type": "markdown",
   "id": "122da5bc",
   "metadata": {
    "papermill": {
     "duration": 0.023511,
     "end_time": "2023-04-07T11:21:28.827367",
     "exception": false,
     "start_time": "2023-04-07T11:21:28.803856",
     "status": "completed"
    },
    "tags": []
   },
   "source": [
    "<h1 style=\"color:white; padding: 20px; background-color: green; display:inline-block\">Pipeline</h1>\n"
   ]
  },
  {
   "cell_type": "code",
   "execution_count": 48,
   "id": "943661f1",
   "metadata": {
    "execution": {
     "iopub.execute_input": "2023-04-07T11:21:28.877049Z",
     "iopub.status.busy": "2023-04-07T11:21:28.876667Z",
     "iopub.status.idle": "2023-04-07T11:21:29.033495Z",
     "shell.execute_reply": "2023-04-07T11:21:29.032472Z"
    },
    "papermill": {
     "duration": 0.184739,
     "end_time": "2023-04-07T11:21:29.036142",
     "exception": false,
     "start_time": "2023-04-07T11:21:28.851403",
     "status": "completed"
    },
    "tags": []
   },
   "outputs": [],
   "source": [
    "from sklearn.pipeline import Pipeline\n",
    "from sklearn.impute import SimpleImputer\n",
    "from sklearn.preprocessing import OneHotEncoder, StandardScaler\n",
    "\n",
    "num_pipeline = Pipeline([\n",
    "          ('std_scaler', StandardScaler())             \n",
    "])"
   ]
  },
  {
   "cell_type": "code",
   "execution_count": 49,
   "id": "b6cb4d5e",
   "metadata": {
    "execution": {
     "iopub.execute_input": "2023-04-07T11:21:29.085630Z",
     "iopub.status.busy": "2023-04-07T11:21:29.085288Z",
     "iopub.status.idle": "2023-04-07T11:21:29.097067Z",
     "shell.execute_reply": "2023-04-07T11:21:29.095926Z"
    },
    "papermill": {
     "duration": 0.038765,
     "end_time": "2023-04-07T11:21:29.099151",
     "exception": false,
     "start_time": "2023-04-07T11:21:29.060386",
     "status": "completed"
    },
    "tags": []
   },
   "outputs": [
    {
     "data": {
      "text/plain": [
       "array([[-0.5800993 , -0.37121257,  1.46840629,  1.13235263],\n",
       "       [ 0.36748293,  0.80955487,  1.46840629,  0.74869945],\n",
       "       [-0.5800993 , -0.7254428 , -0.7557363 , -0.78591325],\n",
       "       ...,\n",
       "       [ 1.31506517,  1.39993858,  0.57874925, -0.40226007],\n",
       "       [-1.52768153, -0.90255791, -0.31090778, -0.78591325],\n",
       "       [-0.5800993 , -0.57784687, -0.31090778, -0.78591325]])"
      ]
     },
     "execution_count": 49,
     "metadata": {},
     "output_type": "execute_result"
    }
   ],
   "source": [
    "num_pipeline.fit_transform(housing_num)"
   ]
  },
  {
   "cell_type": "code",
   "execution_count": 50,
   "id": "6c9061e6",
   "metadata": {
    "execution": {
     "iopub.execute_input": "2023-04-07T11:21:29.148414Z",
     "iopub.status.busy": "2023-04-07T11:21:29.147588Z",
     "iopub.status.idle": "2023-04-07T11:21:29.161747Z",
     "shell.execute_reply": "2023-04-07T11:21:29.160861Z"
    },
    "papermill": {
     "duration": 0.040804,
     "end_time": "2023-04-07T11:21:29.163866",
     "exception": false,
     "start_time": "2023-04-07T11:21:29.123062",
     "status": "completed"
    },
    "tags": []
   },
   "outputs": [],
   "source": [
    "from sklearn.compose import ColumnTransformer\n",
    "\n",
    "num_attribs = list(housing_num)\n",
    "cat_attribs = ['district']\n",
    "\n",
    "full_pipeline = ColumnTransformer([\n",
    "    ('num', num_pipeline, num_attribs),\n",
    "    ('cat', OneHotEncoder(), cat_attribs)\n",
    "])"
   ]
  },
  {
   "cell_type": "code",
   "execution_count": 51,
   "id": "0641e7d2",
   "metadata": {
    "execution": {
     "iopub.execute_input": "2023-04-07T11:21:29.212953Z",
     "iopub.status.busy": "2023-04-07T11:21:29.212614Z",
     "iopub.status.idle": "2023-04-07T11:21:29.226753Z",
     "shell.execute_reply": "2023-04-07T11:21:29.225833Z"
    },
    "papermill": {
     "duration": 0.041248,
     "end_time": "2023-04-07T11:21:29.228940",
     "exception": false,
     "start_time": "2023-04-07T11:21:29.187692",
     "status": "completed"
    },
    "tags": []
   },
   "outputs": [],
   "source": [
    "housing_prepared = full_pipeline.fit_transform(housing)"
   ]
  },
  {
   "cell_type": "code",
   "execution_count": 52,
   "id": "98f921aa",
   "metadata": {
    "execution": {
     "iopub.execute_input": "2023-04-07T11:21:29.286248Z",
     "iopub.status.busy": "2023-04-07T11:21:29.283481Z",
     "iopub.status.idle": "2023-04-07T11:21:29.298792Z",
     "shell.execute_reply": "2023-04-07T11:21:29.297690Z"
    },
    "papermill": {
     "duration": 0.048002,
     "end_time": "2023-04-07T11:21:29.300940",
     "exception": false,
     "start_time": "2023-04-07T11:21:29.252938",
     "status": "completed"
    },
    "tags": []
   },
   "outputs": [
    {
     "data": {
      "text/plain": [
       "array([[-0.5800993 , -0.37121257,  1.46840629,  1.13235263,  0.        ,\n",
       "         0.        ,  1.        ,  0.        ,  0.        ,  0.        ,\n",
       "         0.        ,  0.        ,  0.        ,  0.        ,  0.        ,\n",
       "         0.        ],\n",
       "       [ 0.36748293,  0.80955487,  1.46840629,  0.74869945,  0.        ,\n",
       "         1.        ,  0.        ,  0.        ,  0.        ,  0.        ,\n",
       "         0.        ,  0.        ,  0.        ,  0.        ,  0.        ,\n",
       "         0.        ],\n",
       "       [-0.5800993 , -0.7254428 , -0.7557363 , -0.78591325,  0.        ,\n",
       "         0.        ,  0.        ,  0.        ,  0.        ,  0.        ,\n",
       "         1.        ,  0.        ,  0.        ,  0.        ,  0.        ,\n",
       "         0.        ],\n",
       "       [ 0.36748293,  0.95715079,  0.57874925, -0.0186069 ,  0.        ,\n",
       "         0.        ,  1.        ,  0.        ,  0.        ,  0.        ,\n",
       "         0.        ,  0.        ,  0.        ,  0.        ,  0.        ,\n",
       "         0.        ],\n",
       "       [-0.5800993 , -0.78448117,  0.13392074, -0.78591325,  0.        ,\n",
       "         0.        ,  1.        ,  0.        ,  0.        ,  0.        ,\n",
       "         0.        ,  0.        ,  0.        ,  0.        ,  0.        ,\n",
       "         0.        ]])"
      ]
     },
     "execution_count": 52,
     "metadata": {},
     "output_type": "execute_result"
    }
   ],
   "source": [
    "housing_prepared[0:5,:]"
   ]
  },
  {
   "cell_type": "markdown",
   "id": "c50498ed",
   "metadata": {
    "papermill": {
     "duration": 0.023661,
     "end_time": "2023-04-07T11:21:29.348968",
     "exception": false,
     "start_time": "2023-04-07T11:21:29.325307",
     "status": "completed"
    },
    "tags": []
   },
   "source": [
    "Now our data is ready.\n",
    "<h1 style=\"color:white; padding: 20px; background-color: green; display:inline-block\">Machine learning</h1>"
   ]
  },
  {
   "cell_type": "markdown",
   "id": "97926da3",
   "metadata": {
    "papermill": {
     "duration": 0.033118,
     "end_time": "2023-04-07T11:21:29.405897",
     "exception": false,
     "start_time": "2023-04-07T11:21:29.372779",
     "status": "completed"
    },
    "tags": []
   },
   "source": [
    "<h1>Linear Regression </h1>"
   ]
  },
  {
   "cell_type": "code",
   "execution_count": 53,
   "id": "d1d5c52a",
   "metadata": {
    "execution": {
     "iopub.execute_input": "2023-04-07T11:21:29.462832Z",
     "iopub.status.busy": "2023-04-07T11:21:29.461764Z",
     "iopub.status.idle": "2023-04-07T11:21:29.467423Z",
     "shell.execute_reply": "2023-04-07T11:21:29.466432Z"
    },
    "papermill": {
     "duration": 0.034491,
     "end_time": "2023-04-07T11:21:29.469783",
     "exception": false,
     "start_time": "2023-04-07T11:21:29.435292",
     "status": "completed"
    },
    "tags": []
   },
   "outputs": [],
   "source": [
    "from sklearn.linear_model import LinearRegression\n",
    "\n",
    "LR_model = LinearRegression()"
   ]
  },
  {
   "cell_type": "code",
   "execution_count": 54,
   "id": "9ab745d3",
   "metadata": {
    "execution": {
     "iopub.execute_input": "2023-04-07T11:21:29.521563Z",
     "iopub.status.busy": "2023-04-07T11:21:29.520983Z",
     "iopub.status.idle": "2023-04-07T11:21:29.542824Z",
     "shell.execute_reply": "2023-04-07T11:21:29.541761Z"
    },
    "papermill": {
     "duration": 0.050679,
     "end_time": "2023-04-07T11:21:29.546015",
     "exception": false,
     "start_time": "2023-04-07T11:21:29.495336",
     "status": "completed"
    },
    "tags": []
   },
   "outputs": [
    {
     "data": {
      "text/plain": [
       "LinearRegression()"
      ]
     },
     "execution_count": 54,
     "metadata": {},
     "output_type": "execute_result"
    }
   ],
   "source": [
    "LR_model.fit(housing_prepared, housing_labels)"
   ]
  },
  {
   "cell_type": "markdown",
   "id": "93dc89a3",
   "metadata": {
    "papermill": {
     "duration": 0.056997,
     "end_time": "2023-04-07T11:21:29.665823",
     "exception": false,
     "start_time": "2023-04-07T11:21:29.608826",
     "status": "completed"
    },
    "tags": []
   },
   "source": [
    "Let's check how well the model works"
   ]
  },
  {
   "cell_type": "code",
   "execution_count": 55,
   "id": "ef9b7adc",
   "metadata": {
    "execution": {
     "iopub.execute_input": "2023-04-07T11:21:29.715574Z",
     "iopub.status.busy": "2023-04-07T11:21:29.714903Z",
     "iopub.status.idle": "2023-04-07T11:21:29.727887Z",
     "shell.execute_reply": "2023-04-07T11:21:29.726840Z"
    },
    "papermill": {
     "duration": 0.040617,
     "end_time": "2023-04-07T11:21:29.730275",
     "exception": false,
     "start_time": "2023-04-07T11:21:29.689658",
     "status": "completed"
    },
    "tags": []
   },
   "outputs": [
    {
     "data": {
      "text/html": [
       "<div>\n",
       "<style scoped>\n",
       "    .dataframe tbody tr th:only-of-type {\n",
       "        vertical-align: middle;\n",
       "    }\n",
       "\n",
       "    .dataframe tbody tr th {\n",
       "        vertical-align: top;\n",
       "    }\n",
       "\n",
       "    .dataframe thead th {\n",
       "        text-align: right;\n",
       "    }\n",
       "</style>\n",
       "<table border=\"1\" class=\"dataframe\">\n",
       "  <thead>\n",
       "    <tr style=\"text-align: right;\">\n",
       "      <th></th>\n",
       "      <th>district</th>\n",
       "      <th>rooms</th>\n",
       "      <th>size</th>\n",
       "      <th>level</th>\n",
       "      <th>max_levels</th>\n",
       "    </tr>\n",
       "  </thead>\n",
       "  <tbody>\n",
       "    <tr>\n",
       "      <th>3283</th>\n",
       "      <td>Олмазорский</td>\n",
       "      <td>4</td>\n",
       "      <td>140.0</td>\n",
       "      <td>5</td>\n",
       "      <td>5</td>\n",
       "    </tr>\n",
       "    <tr>\n",
       "      <th>896</th>\n",
       "      <td>Чиланзарский</td>\n",
       "      <td>2</td>\n",
       "      <td>50.0</td>\n",
       "      <td>4</td>\n",
       "      <td>4</td>\n",
       "    </tr>\n",
       "    <tr>\n",
       "      <th>2402</th>\n",
       "      <td>Шайхантахурский</td>\n",
       "      <td>2</td>\n",
       "      <td>46.0</td>\n",
       "      <td>5</td>\n",
       "      <td>9</td>\n",
       "    </tr>\n",
       "    <tr>\n",
       "      <th>1802</th>\n",
       "      <td>Яккасарайский</td>\n",
       "      <td>1</td>\n",
       "      <td>50.0</td>\n",
       "      <td>4</td>\n",
       "      <td>12</td>\n",
       "    </tr>\n",
       "    <tr>\n",
       "      <th>3718</th>\n",
       "      <td>Юнусабадский</td>\n",
       "      <td>4</td>\n",
       "      <td>106.0</td>\n",
       "      <td>1</td>\n",
       "      <td>6</td>\n",
       "    </tr>\n",
       "    <tr>\n",
       "      <th>1368</th>\n",
       "      <td>Чиланзарский</td>\n",
       "      <td>5</td>\n",
       "      <td>160.0</td>\n",
       "      <td>6</td>\n",
       "      <td>9</td>\n",
       "    </tr>\n",
       "    <tr>\n",
       "      <th>2237</th>\n",
       "      <td>Мирзо-Улугбекский</td>\n",
       "      <td>2</td>\n",
       "      <td>55.0</td>\n",
       "      <td>4</td>\n",
       "      <td>4</td>\n",
       "    </tr>\n",
       "    <tr>\n",
       "      <th>5620</th>\n",
       "      <td>Олмазорский</td>\n",
       "      <td>2</td>\n",
       "      <td>60.0</td>\n",
       "      <td>3</td>\n",
       "      <td>4</td>\n",
       "    </tr>\n",
       "    <tr>\n",
       "      <th>7087</th>\n",
       "      <td>Мирзо-Улугбекский</td>\n",
       "      <td>2</td>\n",
       "      <td>48.0</td>\n",
       "      <td>4</td>\n",
       "      <td>4</td>\n",
       "    </tr>\n",
       "    <tr>\n",
       "      <th>5684</th>\n",
       "      <td>Мирзо-Улугбекский</td>\n",
       "      <td>3</td>\n",
       "      <td>83.0</td>\n",
       "      <td>2</td>\n",
       "      <td>8</td>\n",
       "    </tr>\n",
       "  </tbody>\n",
       "</table>\n",
       "</div>"
      ],
      "text/plain": [
       "               district  rooms   size  level  max_levels\n",
       "3283        Олмазорский      4  140.0      5           5\n",
       "896        Чиланзарский      2   50.0      4           4\n",
       "2402    Шайхантахурский      2   46.0      5           9\n",
       "1802      Яккасарайский      1   50.0      4          12\n",
       "3718       Юнусабадский      4  106.0      1           6\n",
       "1368       Чиланзарский      5  160.0      6           9\n",
       "2237  Мирзо-Улугбекский      2   55.0      4           4\n",
       "5620        Олмазорский      2   60.0      3           4\n",
       "7087  Мирзо-Улугбекский      2   48.0      4           4\n",
       "5684  Мирзо-Улугбекский      3   83.0      2           8"
      ]
     },
     "execution_count": 55,
     "metadata": {},
     "output_type": "execute_result"
    }
   ],
   "source": [
    "test_data = housing.sample(10)\n",
    "test_data"
   ]
  },
  {
   "cell_type": "code",
   "execution_count": 56,
   "id": "14e98e9d",
   "metadata": {
    "execution": {
     "iopub.execute_input": "2023-04-07T11:21:29.781970Z",
     "iopub.status.busy": "2023-04-07T11:21:29.781559Z",
     "iopub.status.idle": "2023-04-07T11:21:29.789835Z",
     "shell.execute_reply": "2023-04-07T11:21:29.788904Z"
    },
    "papermill": {
     "duration": 0.036282,
     "end_time": "2023-04-07T11:21:29.791984",
     "exception": false,
     "start_time": "2023-04-07T11:21:29.755702",
     "status": "completed"
    },
    "tags": []
   },
   "outputs": [
    {
     "data": {
      "text/plain": [
       "3283    110000\n",
       "896      31000\n",
       "2402     24500\n",
       "1802     52000\n",
       "3718    105000\n",
       "1368     90000\n",
       "2237     32000\n",
       "5620     39000\n",
       "7087     27394\n",
       "5684     77000\n",
       "Name: price, dtype: int64"
      ]
     },
     "execution_count": 56,
     "metadata": {},
     "output_type": "execute_result"
    }
   ],
   "source": [
    "test_label = housing_labels.loc[test_data.index]\n",
    "test_label"
   ]
  },
  {
   "cell_type": "code",
   "execution_count": 57,
   "id": "19ad1708",
   "metadata": {
    "execution": {
     "iopub.execute_input": "2023-04-07T11:21:29.842441Z",
     "iopub.status.busy": "2023-04-07T11:21:29.842127Z",
     "iopub.status.idle": "2023-04-07T11:21:29.854774Z",
     "shell.execute_reply": "2023-04-07T11:21:29.853730Z"
    },
    "papermill": {
     "duration": 0.04019,
     "end_time": "2023-04-07T11:21:29.856950",
     "exception": false,
     "start_time": "2023-04-07T11:21:29.816760",
     "status": "completed"
    },
    "tags": []
   },
   "outputs": [
    {
     "data": {
      "text/plain": [
       "array([[ 1.31506517,  1.9903223 ,  0.57874925, -0.40226007,  0.        ,\n",
       "         0.        ,  0.        ,  1.        ,  0.        ,  0.        ,\n",
       "         0.        ,  0.        ,  0.        ,  0.        ,  0.        ,\n",
       "         0.        ],\n",
       "       [-0.5800993 , -0.66640443,  0.13392074, -0.78591325,  0.        ,\n",
       "         0.        ,  0.        ,  0.        ,  0.        ,  0.        ,\n",
       "         1.        ,  0.        ,  0.        ,  0.        ,  0.        ,\n",
       "         0.        ],\n",
       "       [-0.5800993 , -0.78448117,  0.57874925,  1.13235263,  0.        ,\n",
       "         0.        ,  0.        ,  0.        ,  0.        ,  0.        ,\n",
       "         0.        ,  1.        ,  0.        ,  0.        ,  0.        ,\n",
       "         0.        ],\n",
       "       [-1.52768153, -0.66640443,  0.13392074,  2.28331216,  0.        ,\n",
       "         0.        ,  0.        ,  0.        ,  0.        ,  0.        ,\n",
       "         0.        ,  0.        ,  0.        ,  1.        ,  0.        ,\n",
       "         0.        ],\n",
       "       [ 1.31506517,  0.98666998, -1.20056481, -0.0186069 ,  0.        ,\n",
       "         0.        ,  0.        ,  0.        ,  0.        ,  0.        ,\n",
       "         0.        ,  0.        ,  1.        ,  0.        ,  0.        ,\n",
       "         0.        ],\n",
       "       [ 2.2626474 ,  2.58070602,  1.02357777,  1.13235263,  0.        ,\n",
       "         0.        ,  0.        ,  0.        ,  0.        ,  0.        ,\n",
       "         1.        ,  0.        ,  0.        ,  0.        ,  0.        ,\n",
       "         0.        ],\n",
       "       [-0.5800993 , -0.5188085 ,  0.13392074, -0.78591325,  0.        ,\n",
       "         0.        ,  1.        ,  0.        ,  0.        ,  0.        ,\n",
       "         0.        ,  0.        ,  0.        ,  0.        ,  0.        ,\n",
       "         0.        ],\n",
       "       [-0.5800993 , -0.37121257, -0.31090778, -0.78591325,  0.        ,\n",
       "         0.        ,  0.        ,  1.        ,  0.        ,  0.        ,\n",
       "         0.        ,  0.        ,  0.        ,  0.        ,  0.        ,\n",
       "         0.        ],\n",
       "       [-0.5800993 , -0.7254428 ,  0.13392074, -0.78591325,  0.        ,\n",
       "         0.        ,  1.        ,  0.        ,  0.        ,  0.        ,\n",
       "         0.        ,  0.        ,  0.        ,  0.        ,  0.        ,\n",
       "         0.        ],\n",
       "       [ 0.36748293,  0.30772871, -0.7557363 ,  0.74869945,  0.        ,\n",
       "         0.        ,  1.        ,  0.        ,  0.        ,  0.        ,\n",
       "         0.        ,  0.        ,  0.        ,  0.        ,  0.        ,\n",
       "         0.        ]])"
      ]
     },
     "execution_count": 57,
     "metadata": {},
     "output_type": "execute_result"
    }
   ],
   "source": [
    "test_data_prepared = full_pipeline.transform(test_data)\n",
    "test_data_prepared"
   ]
  },
  {
   "cell_type": "code",
   "execution_count": 58,
   "id": "e16f47d9",
   "metadata": {
    "execution": {
     "iopub.execute_input": "2023-04-07T11:21:29.909804Z",
     "iopub.status.busy": "2023-04-07T11:21:29.908866Z",
     "iopub.status.idle": "2023-04-07T11:21:29.916568Z",
     "shell.execute_reply": "2023-04-07T11:21:29.915480Z"
    },
    "papermill": {
     "duration": 0.037223,
     "end_time": "2023-04-07T11:21:29.919850",
     "exception": false,
     "start_time": "2023-04-07T11:21:29.882627",
     "status": "completed"
    },
    "tags": []
   },
   "outputs": [
    {
     "data": {
      "text/plain": [
       "array([112324.56674457,  32767.17990833,  30310.68394929,  53840.56939103,\n",
       "        92386.89442358, 136419.38312792,  41913.12615162,  38032.30369354,\n",
       "        33964.6430454 ,  72760.31622818])"
      ]
     },
     "execution_count": 58,
     "metadata": {},
     "output_type": "execute_result"
    }
   ],
   "source": [
    "predicted_data = LR_model.predict(test_data_prepared)\n",
    "predicted_data"
   ]
  },
  {
   "cell_type": "code",
   "execution_count": 59,
   "id": "e0369fd3",
   "metadata": {
    "execution": {
     "iopub.execute_input": "2023-04-07T11:21:29.972810Z",
     "iopub.status.busy": "2023-04-07T11:21:29.972437Z",
     "iopub.status.idle": "2023-04-07T11:21:29.983642Z",
     "shell.execute_reply": "2023-04-07T11:21:29.982630Z"
    },
    "papermill": {
     "duration": 0.039562,
     "end_time": "2023-04-07T11:21:29.985988",
     "exception": false,
     "start_time": "2023-04-07T11:21:29.946426",
     "status": "completed"
    },
    "tags": []
   },
   "outputs": [
    {
     "data": {
      "text/html": [
       "<div>\n",
       "<style scoped>\n",
       "    .dataframe tbody tr th:only-of-type {\n",
       "        vertical-align: middle;\n",
       "    }\n",
       "\n",
       "    .dataframe tbody tr th {\n",
       "        vertical-align: top;\n",
       "    }\n",
       "\n",
       "    .dataframe thead th {\n",
       "        text-align: right;\n",
       "    }\n",
       "</style>\n",
       "<table border=\"1\" class=\"dataframe\">\n",
       "  <thead>\n",
       "    <tr style=\"text-align: right;\">\n",
       "      <th></th>\n",
       "      <th>Predict</th>\n",
       "      <th>Real price</th>\n",
       "    </tr>\n",
       "  </thead>\n",
       "  <tbody>\n",
       "    <tr>\n",
       "      <th>3283</th>\n",
       "      <td>112324.566745</td>\n",
       "      <td>110000</td>\n",
       "    </tr>\n",
       "    <tr>\n",
       "      <th>896</th>\n",
       "      <td>32767.179908</td>\n",
       "      <td>31000</td>\n",
       "    </tr>\n",
       "    <tr>\n",
       "      <th>2402</th>\n",
       "      <td>30310.683949</td>\n",
       "      <td>24500</td>\n",
       "    </tr>\n",
       "    <tr>\n",
       "      <th>1802</th>\n",
       "      <td>53840.569391</td>\n",
       "      <td>52000</td>\n",
       "    </tr>\n",
       "    <tr>\n",
       "      <th>3718</th>\n",
       "      <td>92386.894424</td>\n",
       "      <td>105000</td>\n",
       "    </tr>\n",
       "    <tr>\n",
       "      <th>1368</th>\n",
       "      <td>136419.383128</td>\n",
       "      <td>90000</td>\n",
       "    </tr>\n",
       "    <tr>\n",
       "      <th>2237</th>\n",
       "      <td>41913.126152</td>\n",
       "      <td>32000</td>\n",
       "    </tr>\n",
       "    <tr>\n",
       "      <th>5620</th>\n",
       "      <td>38032.303694</td>\n",
       "      <td>39000</td>\n",
       "    </tr>\n",
       "    <tr>\n",
       "      <th>7087</th>\n",
       "      <td>33964.643045</td>\n",
       "      <td>27394</td>\n",
       "    </tr>\n",
       "    <tr>\n",
       "      <th>5684</th>\n",
       "      <td>72760.316228</td>\n",
       "      <td>77000</td>\n",
       "    </tr>\n",
       "  </tbody>\n",
       "</table>\n",
       "</div>"
      ],
      "text/plain": [
       "            Predict  Real price\n",
       "3283  112324.566745      110000\n",
       "896    32767.179908       31000\n",
       "2402   30310.683949       24500\n",
       "1802   53840.569391       52000\n",
       "3718   92386.894424      105000\n",
       "1368  136419.383128       90000\n",
       "2237   41913.126152       32000\n",
       "5620   38032.303694       39000\n",
       "7087   33964.643045       27394\n",
       "5684   72760.316228       77000"
      ]
     },
     "execution_count": 59,
     "metadata": {},
     "output_type": "execute_result"
    }
   ],
   "source": [
    "pd.DataFrame({'Predict':predicted_data, 'Real price': test_label})"
   ]
  },
  {
   "cell_type": "markdown",
   "id": "f6f23e7c",
   "metadata": {
    "papermill": {
     "duration": 0.024604,
     "end_time": "2023-04-07T11:21:30.035394",
     "exception": false,
     "start_time": "2023-04-07T11:21:30.010790",
     "status": "completed"
    },
    "tags": []
   },
   "source": [
    "<h1 style=\"color:white; padding: 20px; background-color: green; display:inline-block\">Let's evaluate the model.</h1>\n"
   ]
  },
  {
   "cell_type": "code",
   "execution_count": 60,
   "id": "4ea2d353",
   "metadata": {
    "execution": {
     "iopub.execute_input": "2023-04-07T11:21:30.087213Z",
     "iopub.status.busy": "2023-04-07T11:21:30.086222Z",
     "iopub.status.idle": "2023-04-07T11:21:30.101413Z",
     "shell.execute_reply": "2023-04-07T11:21:30.100382Z"
    },
    "papermill": {
     "duration": 0.043467,
     "end_time": "2023-04-07T11:21:30.103538",
     "exception": false,
     "start_time": "2023-04-07T11:21:30.060071",
     "status": "completed"
    },
    "tags": []
   },
   "outputs": [
    {
     "data": {
      "text/html": [
       "<div>\n",
       "<style scoped>\n",
       "    .dataframe tbody tr th:only-of-type {\n",
       "        vertical-align: middle;\n",
       "    }\n",
       "\n",
       "    .dataframe tbody tr th {\n",
       "        vertical-align: top;\n",
       "    }\n",
       "\n",
       "    .dataframe thead th {\n",
       "        text-align: right;\n",
       "    }\n",
       "</style>\n",
       "<table border=\"1\" class=\"dataframe\">\n",
       "  <thead>\n",
       "    <tr style=\"text-align: right;\">\n",
       "      <th></th>\n",
       "      <th>district</th>\n",
       "      <th>rooms</th>\n",
       "      <th>size</th>\n",
       "      <th>level</th>\n",
       "      <th>max_levels</th>\n",
       "      <th>price</th>\n",
       "    </tr>\n",
       "  </thead>\n",
       "  <tbody>\n",
       "    <tr>\n",
       "      <th>3867</th>\n",
       "      <td>Мирабадский</td>\n",
       "      <td>3</td>\n",
       "      <td>105.0</td>\n",
       "      <td>7</td>\n",
       "      <td>9</td>\n",
       "      <td>125000</td>\n",
       "    </tr>\n",
       "    <tr>\n",
       "      <th>264</th>\n",
       "      <td>Мирзо-Улугбекский</td>\n",
       "      <td>4</td>\n",
       "      <td>91.0</td>\n",
       "      <td>1</td>\n",
       "      <td>5</td>\n",
       "      <td>75000</td>\n",
       "    </tr>\n",
       "    <tr>\n",
       "      <th>2787</th>\n",
       "      <td>Мирабадский</td>\n",
       "      <td>4</td>\n",
       "      <td>100.0</td>\n",
       "      <td>7</td>\n",
       "      <td>9</td>\n",
       "      <td>105000</td>\n",
       "    </tr>\n",
       "    <tr>\n",
       "      <th>1253</th>\n",
       "      <td>Чиланзарский</td>\n",
       "      <td>4</td>\n",
       "      <td>100.0</td>\n",
       "      <td>9</td>\n",
       "      <td>9</td>\n",
       "      <td>48000</td>\n",
       "    </tr>\n",
       "    <tr>\n",
       "      <th>4707</th>\n",
       "      <td>Юнусабадский</td>\n",
       "      <td>2</td>\n",
       "      <td>55.0</td>\n",
       "      <td>1</td>\n",
       "      <td>9</td>\n",
       "      <td>41000</td>\n",
       "    </tr>\n",
       "    <tr>\n",
       "      <th>...</th>\n",
       "      <td>...</td>\n",
       "      <td>...</td>\n",
       "      <td>...</td>\n",
       "      <td>...</td>\n",
       "      <td>...</td>\n",
       "      <td>...</td>\n",
       "    </tr>\n",
       "    <tr>\n",
       "      <th>7481</th>\n",
       "      <td>Сергелийский</td>\n",
       "      <td>3</td>\n",
       "      <td>82.0</td>\n",
       "      <td>2</td>\n",
       "      <td>9</td>\n",
       "      <td>33000</td>\n",
       "    </tr>\n",
       "    <tr>\n",
       "      <th>1203</th>\n",
       "      <td>Чиланзарский</td>\n",
       "      <td>2</td>\n",
       "      <td>46.0</td>\n",
       "      <td>2</td>\n",
       "      <td>4</td>\n",
       "      <td>35000</td>\n",
       "    </tr>\n",
       "    <tr>\n",
       "      <th>2487</th>\n",
       "      <td>Чиланзарский</td>\n",
       "      <td>3</td>\n",
       "      <td>70.0</td>\n",
       "      <td>3</td>\n",
       "      <td>3</td>\n",
       "      <td>40000</td>\n",
       "    </tr>\n",
       "    <tr>\n",
       "      <th>7460</th>\n",
       "      <td>Сергелийский</td>\n",
       "      <td>3</td>\n",
       "      <td>78.0</td>\n",
       "      <td>5</td>\n",
       "      <td>5</td>\n",
       "      <td>42000</td>\n",
       "    </tr>\n",
       "    <tr>\n",
       "      <th>6627</th>\n",
       "      <td>Шайхантахурский</td>\n",
       "      <td>5</td>\n",
       "      <td>185.0</td>\n",
       "      <td>2</td>\n",
       "      <td>5</td>\n",
       "      <td>135000</td>\n",
       "    </tr>\n",
       "  </tbody>\n",
       "</table>\n",
       "<p>1366 rows × 6 columns</p>\n",
       "</div>"
      ],
      "text/plain": [
       "               district  rooms   size  level  max_levels   price\n",
       "3867        Мирабадский      3  105.0      7           9  125000\n",
       "264   Мирзо-Улугбекский      4   91.0      1           5   75000\n",
       "2787        Мирабадский      4  100.0      7           9  105000\n",
       "1253       Чиланзарский      4  100.0      9           9   48000\n",
       "4707       Юнусабадский      2   55.0      1           9   41000\n",
       "...                 ...    ...    ...    ...         ...     ...\n",
       "7481       Сергелийский      3   82.0      2           9   33000\n",
       "1203       Чиланзарский      2   46.0      2           4   35000\n",
       "2487       Чиланзарский      3   70.0      3           3   40000\n",
       "7460       Сергелийский      3   78.0      5           5   42000\n",
       "6627    Шайхантахурский      5  185.0      2           5  135000\n",
       "\n",
       "[1366 rows x 6 columns]"
      ]
     },
     "execution_count": 60,
     "metadata": {},
     "output_type": "execute_result"
    }
   ],
   "source": [
    "test_set = strat_test_set\n",
    "test_set"
   ]
  },
  {
   "cell_type": "markdown",
   "id": "1658fa02",
   "metadata": {
    "papermill": {
     "duration": 0.024632,
     "end_time": "2023-04-07T11:21:30.153347",
     "exception": false,
     "start_time": "2023-04-07T11:21:30.128715",
     "status": "completed"
    },
    "tags": []
   },
   "source": [
    "First let's extract the predictor columns (all columns except `price`):"
   ]
  },
  {
   "cell_type": "code",
   "execution_count": 61,
   "id": "3fa13f69",
   "metadata": {
    "execution": {
     "iopub.execute_input": "2023-04-07T11:21:30.204623Z",
     "iopub.status.busy": "2023-04-07T11:21:30.203999Z",
     "iopub.status.idle": "2023-04-07T11:21:30.218960Z",
     "shell.execute_reply": "2023-04-07T11:21:30.217916Z"
    },
    "papermill": {
     "duration": 0.042985,
     "end_time": "2023-04-07T11:21:30.221056",
     "exception": false,
     "start_time": "2023-04-07T11:21:30.178071",
     "status": "completed"
    },
    "tags": []
   },
   "outputs": [
    {
     "data": {
      "text/html": [
       "<div>\n",
       "<style scoped>\n",
       "    .dataframe tbody tr th:only-of-type {\n",
       "        vertical-align: middle;\n",
       "    }\n",
       "\n",
       "    .dataframe tbody tr th {\n",
       "        vertical-align: top;\n",
       "    }\n",
       "\n",
       "    .dataframe thead th {\n",
       "        text-align: right;\n",
       "    }\n",
       "</style>\n",
       "<table border=\"1\" class=\"dataframe\">\n",
       "  <thead>\n",
       "    <tr style=\"text-align: right;\">\n",
       "      <th></th>\n",
       "      <th>district</th>\n",
       "      <th>rooms</th>\n",
       "      <th>size</th>\n",
       "      <th>level</th>\n",
       "      <th>max_levels</th>\n",
       "    </tr>\n",
       "  </thead>\n",
       "  <tbody>\n",
       "    <tr>\n",
       "      <th>3867</th>\n",
       "      <td>Мирабадский</td>\n",
       "      <td>3</td>\n",
       "      <td>105.0</td>\n",
       "      <td>7</td>\n",
       "      <td>9</td>\n",
       "    </tr>\n",
       "    <tr>\n",
       "      <th>264</th>\n",
       "      <td>Мирзо-Улугбекский</td>\n",
       "      <td>4</td>\n",
       "      <td>91.0</td>\n",
       "      <td>1</td>\n",
       "      <td>5</td>\n",
       "    </tr>\n",
       "    <tr>\n",
       "      <th>2787</th>\n",
       "      <td>Мирабадский</td>\n",
       "      <td>4</td>\n",
       "      <td>100.0</td>\n",
       "      <td>7</td>\n",
       "      <td>9</td>\n",
       "    </tr>\n",
       "    <tr>\n",
       "      <th>1253</th>\n",
       "      <td>Чиланзарский</td>\n",
       "      <td>4</td>\n",
       "      <td>100.0</td>\n",
       "      <td>9</td>\n",
       "      <td>9</td>\n",
       "    </tr>\n",
       "    <tr>\n",
       "      <th>4707</th>\n",
       "      <td>Юнусабадский</td>\n",
       "      <td>2</td>\n",
       "      <td>55.0</td>\n",
       "      <td>1</td>\n",
       "      <td>9</td>\n",
       "    </tr>\n",
       "    <tr>\n",
       "      <th>...</th>\n",
       "      <td>...</td>\n",
       "      <td>...</td>\n",
       "      <td>...</td>\n",
       "      <td>...</td>\n",
       "      <td>...</td>\n",
       "    </tr>\n",
       "    <tr>\n",
       "      <th>7481</th>\n",
       "      <td>Сергелийский</td>\n",
       "      <td>3</td>\n",
       "      <td>82.0</td>\n",
       "      <td>2</td>\n",
       "      <td>9</td>\n",
       "    </tr>\n",
       "    <tr>\n",
       "      <th>1203</th>\n",
       "      <td>Чиланзарский</td>\n",
       "      <td>2</td>\n",
       "      <td>46.0</td>\n",
       "      <td>2</td>\n",
       "      <td>4</td>\n",
       "    </tr>\n",
       "    <tr>\n",
       "      <th>2487</th>\n",
       "      <td>Чиланзарский</td>\n",
       "      <td>3</td>\n",
       "      <td>70.0</td>\n",
       "      <td>3</td>\n",
       "      <td>3</td>\n",
       "    </tr>\n",
       "    <tr>\n",
       "      <th>7460</th>\n",
       "      <td>Сергелийский</td>\n",
       "      <td>3</td>\n",
       "      <td>78.0</td>\n",
       "      <td>5</td>\n",
       "      <td>5</td>\n",
       "    </tr>\n",
       "    <tr>\n",
       "      <th>6627</th>\n",
       "      <td>Шайхантахурский</td>\n",
       "      <td>5</td>\n",
       "      <td>185.0</td>\n",
       "      <td>2</td>\n",
       "      <td>5</td>\n",
       "    </tr>\n",
       "  </tbody>\n",
       "</table>\n",
       "<p>1366 rows × 5 columns</p>\n",
       "</div>"
      ],
      "text/plain": [
       "               district  rooms   size  level  max_levels\n",
       "3867        Мирабадский      3  105.0      7           9\n",
       "264   Мирзо-Улугбекский      4   91.0      1           5\n",
       "2787        Мирабадский      4  100.0      7           9\n",
       "1253       Чиланзарский      4  100.0      9           9\n",
       "4707       Юнусабадский      2   55.0      1           9\n",
       "...                 ...    ...    ...    ...         ...\n",
       "7481       Сергелийский      3   82.0      2           9\n",
       "1203       Чиланзарский      2   46.0      2           4\n",
       "2487       Чиланзарский      3   70.0      3           3\n",
       "7460       Сергелийский      3   78.0      5           5\n",
       "6627    Шайхантахурский      5  185.0      2           5\n",
       "\n",
       "[1366 rows x 5 columns]"
      ]
     },
     "execution_count": 61,
     "metadata": {},
     "output_type": "execute_result"
    }
   ],
   "source": [
    "X_test = test_set.drop('price', axis=1)\n",
    "X_test"
   ]
  },
  {
   "cell_type": "code",
   "execution_count": 62,
   "id": "9086085b",
   "metadata": {
    "execution": {
     "iopub.execute_input": "2023-04-07T11:21:30.273122Z",
     "iopub.status.busy": "2023-04-07T11:21:30.272768Z",
     "iopub.status.idle": "2023-04-07T11:21:30.281003Z",
     "shell.execute_reply": "2023-04-07T11:21:30.279994Z"
    },
    "papermill": {
     "duration": 0.036953,
     "end_time": "2023-04-07T11:21:30.283093",
     "exception": false,
     "start_time": "2023-04-07T11:21:30.246140",
     "status": "completed"
    },
    "tags": []
   },
   "outputs": [
    {
     "data": {
      "text/plain": [
       "3867    125000\n",
       "264      75000\n",
       "2787    105000\n",
       "1253     48000\n",
       "4707     41000\n",
       "         ...  \n",
       "7481     33000\n",
       "1203     35000\n",
       "2487     40000\n",
       "7460     42000\n",
       "6627    135000\n",
       "Name: price, Length: 1366, dtype: int64"
      ]
     },
     "execution_count": 62,
     "metadata": {},
     "output_type": "execute_result"
    }
   ],
   "source": [
    "y_test = test_set['price'].copy()\n",
    "y_test"
   ]
  },
  {
   "cell_type": "markdown",
   "id": "05249d06",
   "metadata": {
    "papermill": {
     "duration": 0.025128,
     "end_time": "2023-04-07T11:21:30.333561",
     "exception": false,
     "start_time": "2023-04-07T11:21:30.308433",
     "status": "completed"
    },
    "tags": []
   },
   "source": [
    "We also pass **test_set** through the *pipeline:*"
   ]
  },
  {
   "cell_type": "code",
   "execution_count": 63,
   "id": "7b6b47fa",
   "metadata": {
    "execution": {
     "iopub.execute_input": "2023-04-07T11:21:30.385810Z",
     "iopub.status.busy": "2023-04-07T11:21:30.385443Z",
     "iopub.status.idle": "2023-04-07T11:21:30.395534Z",
     "shell.execute_reply": "2023-04-07T11:21:30.394611Z"
    },
    "papermill": {
     "duration": 0.038733,
     "end_time": "2023-04-07T11:21:30.397645",
     "exception": false,
     "start_time": "2023-04-07T11:21:30.358912",
     "status": "completed"
    },
    "tags": []
   },
   "outputs": [],
   "source": [
    "X_test_prepared = full_pipeline.transform(X_test)"
   ]
  },
  {
   "cell_type": "markdown",
   "id": "92168a30",
   "metadata": {
    "papermill": {
     "duration": 0.025312,
     "end_time": "2023-04-07T11:21:30.448663",
     "exception": false,
     "start_time": "2023-04-07T11:21:30.423351",
     "status": "completed"
    },
    "tags": []
   },
   "source": [
    "Predict"
   ]
  },
  {
   "cell_type": "code",
   "execution_count": 64,
   "id": "a59966c4",
   "metadata": {
    "execution": {
     "iopub.execute_input": "2023-04-07T11:21:30.501683Z",
     "iopub.status.busy": "2023-04-07T11:21:30.500673Z",
     "iopub.status.idle": "2023-04-07T11:21:30.507111Z",
     "shell.execute_reply": "2023-04-07T11:21:30.505827Z"
    },
    "papermill": {
     "duration": 0.037501,
     "end_time": "2023-04-07T11:21:30.511403",
     "exception": false,
     "start_time": "2023-04-07T11:21:30.473902",
     "status": "completed"
    },
    "tags": []
   },
   "outputs": [],
   "source": [
    "y_predicted = LR_model.predict(X_test_prepared)"
   ]
  },
  {
   "cell_type": "markdown",
   "id": "3286c7f1",
   "metadata": {
    "papermill": {
     "duration": 0.062662,
     "end_time": "2023-04-07T11:21:30.640115",
     "exception": false,
     "start_time": "2023-04-07T11:21:30.577453",
     "status": "completed"
    },
    "tags": []
   },
   "source": [
    "We use the Root mean square error (RMSE) we saw in the previous section to compare the forecast and real data:"
   ]
  },
  {
   "cell_type": "code",
   "execution_count": 65,
   "id": "ae206e29",
   "metadata": {
    "execution": {
     "iopub.execute_input": "2023-04-07T11:21:30.692425Z",
     "iopub.status.busy": "2023-04-07T11:21:30.691824Z",
     "iopub.status.idle": "2023-04-07T11:21:30.698527Z",
     "shell.execute_reply": "2023-04-07T11:21:30.697474Z"
    },
    "papermill": {
     "duration": 0.035889,
     "end_time": "2023-04-07T11:21:30.701128",
     "exception": false,
     "start_time": "2023-04-07T11:21:30.665239",
     "status": "completed"
    },
    "tags": []
   },
   "outputs": [
    {
     "name": "stdout",
     "output_type": "stream",
     "text": [
      "24892.907691861477\n"
     ]
    }
   ],
   "source": [
    "from sklearn.metrics import mean_squared_error\n",
    "lin_mse = mean_squared_error(y_test, y_predicted)\n",
    "# RMSE hisoblaymiz\n",
    "lin_rmse = np.sqrt(lin_mse)\n",
    "print(lin_rmse)"
   ]
  },
  {
   "cell_type": "markdown",
   "id": "f56391bb",
   "metadata": {
    "papermill": {
     "duration": 0.025534,
     "end_time": "2023-04-07T11:21:30.751714",
     "exception": false,
     "start_time": "2023-04-07T11:21:30.726180",
     "status": "completed"
    },
    "tags": []
   },
   "source": [
    "<h1>DecisionTree</h1>"
   ]
  },
  {
   "cell_type": "code",
   "execution_count": 66,
   "id": "1566dc9b",
   "metadata": {
    "execution": {
     "iopub.execute_input": "2023-04-07T11:21:30.815288Z",
     "iopub.status.busy": "2023-04-07T11:21:30.814795Z",
     "iopub.status.idle": "2023-04-07T11:21:30.868054Z",
     "shell.execute_reply": "2023-04-07T11:21:30.866960Z"
    },
    "papermill": {
     "duration": 0.091947,
     "end_time": "2023-04-07T11:21:30.870395",
     "exception": false,
     "start_time": "2023-04-07T11:21:30.778448",
     "status": "completed"
    },
    "tags": []
   },
   "outputs": [
    {
     "data": {
      "text/plain": [
       "DecisionTreeRegressor()"
      ]
     },
     "execution_count": 66,
     "metadata": {},
     "output_type": "execute_result"
    }
   ],
   "source": [
    "from sklearn.tree import DecisionTreeRegressor\n",
    "Tree_model = DecisionTreeRegressor()\n",
    "Tree_model.fit(housing_prepared, housing_labels)"
   ]
  },
  {
   "cell_type": "code",
   "execution_count": 67,
   "id": "57fedfe7",
   "metadata": {
    "execution": {
     "iopub.execute_input": "2023-04-07T11:21:30.924998Z",
     "iopub.status.busy": "2023-04-07T11:21:30.924021Z",
     "iopub.status.idle": "2023-04-07T11:21:30.929663Z",
     "shell.execute_reply": "2023-04-07T11:21:30.928670Z"
    },
    "papermill": {
     "duration": 0.035514,
     "end_time": "2023-04-07T11:21:30.931920",
     "exception": false,
     "start_time": "2023-04-07T11:21:30.896406",
     "status": "completed"
    },
    "tags": []
   },
   "outputs": [],
   "source": [
    "y_predicted = Tree_model.predict(X_test_prepared)"
   ]
  },
  {
   "cell_type": "code",
   "execution_count": 68,
   "id": "a887412a",
   "metadata": {
    "execution": {
     "iopub.execute_input": "2023-04-07T11:21:30.984737Z",
     "iopub.status.busy": "2023-04-07T11:21:30.984122Z",
     "iopub.status.idle": "2023-04-07T11:21:30.990370Z",
     "shell.execute_reply": "2023-04-07T11:21:30.989306Z"
    },
    "papermill": {
     "duration": 0.035312,
     "end_time": "2023-04-07T11:21:30.993005",
     "exception": false,
     "start_time": "2023-04-07T11:21:30.957693",
     "status": "completed"
    },
    "tags": []
   },
   "outputs": [
    {
     "name": "stdout",
     "output_type": "stream",
     "text": [
      "33317.594877448966\n"
     ]
    }
   ],
   "source": [
    "lin_mse = mean_squared_error(y_test, y_predicted)\n",
    "# RMSE hisoblaymiz\n",
    "lin_rmse = np.sqrt(lin_mse)\n",
    "print(lin_rmse)"
   ]
  },
  {
   "cell_type": "markdown",
   "id": "fdf9e5a5",
   "metadata": {
    "papermill": {
     "duration": 0.025423,
     "end_time": "2023-04-07T11:21:31.044237",
     "exception": false,
     "start_time": "2023-04-07T11:21:31.018814",
     "status": "completed"
    },
    "tags": []
   },
   "source": [
    "<h1>RandomForest</h1>"
   ]
  },
  {
   "cell_type": "code",
   "execution_count": 69,
   "id": "b0059f68",
   "metadata": {
    "execution": {
     "iopub.execute_input": "2023-04-07T11:21:31.098058Z",
     "iopub.status.busy": "2023-04-07T11:21:31.097012Z",
     "iopub.status.idle": "2023-04-07T11:21:32.149761Z",
     "shell.execute_reply": "2023-04-07T11:21:32.148750Z"
    },
    "papermill": {
     "duration": 1.082824,
     "end_time": "2023-04-07T11:21:32.152446",
     "exception": false,
     "start_time": "2023-04-07T11:21:31.069622",
     "status": "completed"
    },
    "tags": []
   },
   "outputs": [
    {
     "data": {
      "text/plain": [
       "RandomForestRegressor()"
      ]
     },
     "execution_count": 69,
     "metadata": {},
     "output_type": "execute_result"
    }
   ],
   "source": [
    "from sklearn.ensemble import RandomForestRegressor\n",
    "RF_model = RandomForestRegressor()\n",
    "RF_model.fit(housing_prepared, housing_labels)"
   ]
  },
  {
   "cell_type": "code",
   "execution_count": 70,
   "id": "a9589631",
   "metadata": {
    "execution": {
     "iopub.execute_input": "2023-04-07T11:21:32.207085Z",
     "iopub.status.busy": "2023-04-07T11:21:32.206695Z",
     "iopub.status.idle": "2023-04-07T11:21:32.254270Z",
     "shell.execute_reply": "2023-04-07T11:21:32.252832Z"
    },
    "papermill": {
     "duration": 0.077981,
     "end_time": "2023-04-07T11:21:32.256722",
     "exception": false,
     "start_time": "2023-04-07T11:21:32.178741",
     "status": "completed"
    },
    "tags": []
   },
   "outputs": [
    {
     "name": "stdout",
     "output_type": "stream",
     "text": [
      "23913.544679310005\n"
     ]
    }
   ],
   "source": [
    "y_predicted = RF_model.predict(X_test_prepared)\n",
    "lin_mse = mean_squared_error(y_test, y_predicted)\n",
    "# RMSE hisoblaymiz\n",
    "lin_rmse = np.sqrt(lin_mse)\n",
    "print(lin_rmse)"
   ]
  },
  {
   "cell_type": "markdown",
   "id": "248e28ad",
   "metadata": {
    "papermill": {
     "duration": 0.030329,
     "end_time": "2023-04-07T11:21:32.314299",
     "exception": false,
     "start_time": "2023-04-07T11:21:32.283970",
     "status": "completed"
    },
    "tags": []
   },
   "source": [
    "<h1 style=\"color:white; padding: 20px; background-color: green; display:inline-block\">Saving model</h1>"
   ]
  },
  {
   "cell_type": "code",
   "execution_count": 71,
   "id": "4748c9d0",
   "metadata": {
    "execution": {
     "iopub.execute_input": "2023-04-07T11:21:32.372619Z",
     "iopub.status.busy": "2023-04-07T11:21:32.371839Z",
     "iopub.status.idle": "2023-04-07T11:21:32.426659Z",
     "shell.execute_reply": "2023-04-07T11:21:32.425576Z"
    },
    "papermill": {
     "duration": 0.085958,
     "end_time": "2023-04-07T11:21:32.429449",
     "exception": false,
     "start_time": "2023-04-07T11:21:32.343491",
     "status": "completed"
    },
    "tags": []
   },
   "outputs": [],
   "source": [
    "import pickle\n",
    "\n",
    "filename = 'RF_model.pkl' # faylga istalgan nom beramiz\n",
    "with open(filename, 'wb') as file:\n",
    "    pickle.dump(RF_model, file)"
   ]
  },
  {
   "cell_type": "code",
   "execution_count": 72,
   "id": "a8483e53",
   "metadata": {
    "execution": {
     "iopub.execute_input": "2023-04-07T11:21:32.483633Z",
     "iopub.status.busy": "2023-04-07T11:21:32.482604Z",
     "iopub.status.idle": "2023-04-07T11:21:32.553968Z",
     "shell.execute_reply": "2023-04-07T11:21:32.552824Z"
    },
    "papermill": {
     "duration": 0.100997,
     "end_time": "2023-04-07T11:21:32.556663",
     "exception": false,
     "start_time": "2023-04-07T11:21:32.455666",
     "status": "completed"
    },
    "tags": []
   },
   "outputs": [
    {
     "data": {
      "text/plain": [
       "['RF_model.jbl']"
      ]
     },
     "execution_count": 72,
     "metadata": {},
     "output_type": "execute_result"
    }
   ],
   "source": [
    "import joblib\n",
    "\n",
    "filename = 'RF_model.jbl' # faylga istalgan nom beramiz\n",
    "joblib.dump(RF_model, filename)"
   ]
  },
  {
   "cell_type": "markdown",
   "id": "a42c7080",
   "metadata": {
    "papermill": {
     "duration": 0.025992,
     "end_time": "2023-04-07T11:21:32.608736",
     "exception": false,
     "start_time": "2023-04-07T11:21:32.582744",
     "status": "completed"
    },
    "tags": []
   },
   "source": [
    "<h1 style=\"color:white; padding: 20px; background-color: blue;\">That's it. Thank you for your attention</h1>"
   ]
  }
 ],
 "metadata": {
  "kernelspec": {
   "display_name": "Python 3",
   "language": "python",
   "name": "python3"
  },
  "language_info": {
   "codemirror_mode": {
    "name": "ipython",
    "version": 3
   },
   "file_extension": ".py",
   "mimetype": "text/x-python",
   "name": "python",
   "nbconvert_exporter": "python",
   "pygments_lexer": "ipython3",
   "version": "3.7.12"
  },
  "papermill": {
   "default_parameters": {},
   "duration": 20.144369,
   "end_time": "2023-04-07T11:21:33.255649",
   "environment_variables": {},
   "exception": null,
   "input_path": "__notebook__.ipynb",
   "output_path": "__notebook__.ipynb",
   "parameters": {},
   "start_time": "2023-04-07T11:21:13.111280",
   "version": "2.4.0"
  }
 },
 "nbformat": 4,
 "nbformat_minor": 5
}
