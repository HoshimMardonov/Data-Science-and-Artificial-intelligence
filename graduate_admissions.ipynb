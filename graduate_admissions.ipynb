{
  "nbformat": 4,
  "nbformat_minor": 0,
  "metadata": {
    "colab": {
      "provenance": [],
      "mount_file_id": "1JfHmrNmmPo3NFrVJaAgjLKfcCWFYia-h",
      "authorship_tag": "ABX9TyMryGZsO74n7rvL/N0WPblW",
      "include_colab_link": true
    },
    "kernelspec": {
      "name": "python3",
      "display_name": "Python 3"
    },
    "language_info": {
      "name": "python"
    }
  },
  "cells": [
    {
      "cell_type": "markdown",
      "metadata": {
        "id": "view-in-github",
        "colab_type": "text"
      },
      "source": [
        "<a href=\"https://colab.research.google.com/github/HoshimMardonov/Datasets/blob/main/graduate_admissions.ipynb\" target=\"_parent\"><img src=\"https://colab.research.google.com/assets/colab-badge.svg\" alt=\"Open In Colab\"/></a>"
      ]
    },
    {
      "cell_type": "code",
      "execution_count": 86,
      "metadata": {
        "id": "Vi93WjNaDKuk"
      },
      "outputs": [],
      "source": [
        "import numpy as np\n",
        "import pandas as pd\n",
        "import matplotlib.pyplot as plt\n",
        "from matplotlib.pyplot import figure\n",
        "\n",
        "import math"
      ]
    },
    {
      "cell_type": "markdown",
      "source": [
        "We load dataFrame using the pandas library\n"
      ],
      "metadata": {
        "id": "T0amMTlTEgDy"
      }
    },
    {
      "cell_type": "code",
      "source": [
        "df = pd.read_csv(\"https://raw.githubusercontent.com/Rhtyme/ml_uz_book/main/practice_session/Multivariate_linear_regression_4_6/Admission_Predict.csv\")"
      ],
      "metadata": {
        "id": "qgYH0cjuDvIV"
      },
      "execution_count": 87,
      "outputs": []
    },
    {
      "cell_type": "markdown",
      "source": [
        "***Let's get acquainted with the database, that is, what columns there are, and what the data in them looks like, etc.***"
      ],
      "metadata": {
        "id": "oC5QOITaFoM0"
      }
    },
    {
      "cell_type": "code",
      "source": [
        "df.head()"
      ],
      "metadata": {
        "colab": {
          "base_uri": "https://localhost:8080/",
          "height": 206
        },
        "id": "ebNSASZuDvKZ",
        "outputId": "0905142a-620f-4a8c-ca29-a7881714ee0f"
      },
      "execution_count": 88,
      "outputs": [
        {
          "output_type": "execute_result",
          "data": {
            "text/plain": [
              "   Serial No.  GRE Score  TOEFL Score  University Rating  SOP  LOR   CGPA  \\\n",
              "0           1        337          118                  4  4.5   4.5  9.65   \n",
              "1           2        324          107                  4  4.0   4.5  8.87   \n",
              "2           3        316          104                  3  3.0   3.5  8.00   \n",
              "3           4        322          110                  3  3.5   2.5  8.67   \n",
              "4           5        314          103                  2  2.0   3.0  8.21   \n",
              "\n",
              "   Research  Chance of Admit   \n",
              "0         1              0.92  \n",
              "1         1              0.76  \n",
              "2         1              0.72  \n",
              "3         1              0.80  \n",
              "4         0              0.65  "
            ],
            "text/html": [
              "\n",
              "  <div id=\"df-b6add5d9-4e6f-45fa-a3a1-530b5077f604\">\n",
              "    <div class=\"colab-df-container\">\n",
              "      <div>\n",
              "<style scoped>\n",
              "    .dataframe tbody tr th:only-of-type {\n",
              "        vertical-align: middle;\n",
              "    }\n",
              "\n",
              "    .dataframe tbody tr th {\n",
              "        vertical-align: top;\n",
              "    }\n",
              "\n",
              "    .dataframe thead th {\n",
              "        text-align: right;\n",
              "    }\n",
              "</style>\n",
              "<table border=\"1\" class=\"dataframe\">\n",
              "  <thead>\n",
              "    <tr style=\"text-align: right;\">\n",
              "      <th></th>\n",
              "      <th>Serial No.</th>\n",
              "      <th>GRE Score</th>\n",
              "      <th>TOEFL Score</th>\n",
              "      <th>University Rating</th>\n",
              "      <th>SOP</th>\n",
              "      <th>LOR</th>\n",
              "      <th>CGPA</th>\n",
              "      <th>Research</th>\n",
              "      <th>Chance of Admit</th>\n",
              "    </tr>\n",
              "  </thead>\n",
              "  <tbody>\n",
              "    <tr>\n",
              "      <th>0</th>\n",
              "      <td>1</td>\n",
              "      <td>337</td>\n",
              "      <td>118</td>\n",
              "      <td>4</td>\n",
              "      <td>4.5</td>\n",
              "      <td>4.5</td>\n",
              "      <td>9.65</td>\n",
              "      <td>1</td>\n",
              "      <td>0.92</td>\n",
              "    </tr>\n",
              "    <tr>\n",
              "      <th>1</th>\n",
              "      <td>2</td>\n",
              "      <td>324</td>\n",
              "      <td>107</td>\n",
              "      <td>4</td>\n",
              "      <td>4.0</td>\n",
              "      <td>4.5</td>\n",
              "      <td>8.87</td>\n",
              "      <td>1</td>\n",
              "      <td>0.76</td>\n",
              "    </tr>\n",
              "    <tr>\n",
              "      <th>2</th>\n",
              "      <td>3</td>\n",
              "      <td>316</td>\n",
              "      <td>104</td>\n",
              "      <td>3</td>\n",
              "      <td>3.0</td>\n",
              "      <td>3.5</td>\n",
              "      <td>8.00</td>\n",
              "      <td>1</td>\n",
              "      <td>0.72</td>\n",
              "    </tr>\n",
              "    <tr>\n",
              "      <th>3</th>\n",
              "      <td>4</td>\n",
              "      <td>322</td>\n",
              "      <td>110</td>\n",
              "      <td>3</td>\n",
              "      <td>3.5</td>\n",
              "      <td>2.5</td>\n",
              "      <td>8.67</td>\n",
              "      <td>1</td>\n",
              "      <td>0.80</td>\n",
              "    </tr>\n",
              "    <tr>\n",
              "      <th>4</th>\n",
              "      <td>5</td>\n",
              "      <td>314</td>\n",
              "      <td>103</td>\n",
              "      <td>2</td>\n",
              "      <td>2.0</td>\n",
              "      <td>3.0</td>\n",
              "      <td>8.21</td>\n",
              "      <td>0</td>\n",
              "      <td>0.65</td>\n",
              "    </tr>\n",
              "  </tbody>\n",
              "</table>\n",
              "</div>\n",
              "      <button class=\"colab-df-convert\" onclick=\"convertToInteractive('df-b6add5d9-4e6f-45fa-a3a1-530b5077f604')\"\n",
              "              title=\"Convert this dataframe to an interactive table.\"\n",
              "              style=\"display:none;\">\n",
              "        \n",
              "  <svg xmlns=\"http://www.w3.org/2000/svg\" height=\"24px\"viewBox=\"0 0 24 24\"\n",
              "       width=\"24px\">\n",
              "    <path d=\"M0 0h24v24H0V0z\" fill=\"none\"/>\n",
              "    <path d=\"M18.56 5.44l.94 2.06.94-2.06 2.06-.94-2.06-.94-.94-2.06-.94 2.06-2.06.94zm-11 1L8.5 8.5l.94-2.06 2.06-.94-2.06-.94L8.5 2.5l-.94 2.06-2.06.94zm10 10l.94 2.06.94-2.06 2.06-.94-2.06-.94-.94-2.06-.94 2.06-2.06.94z\"/><path d=\"M17.41 7.96l-1.37-1.37c-.4-.4-.92-.59-1.43-.59-.52 0-1.04.2-1.43.59L10.3 9.45l-7.72 7.72c-.78.78-.78 2.05 0 2.83L4 21.41c.39.39.9.59 1.41.59.51 0 1.02-.2 1.41-.59l7.78-7.78 2.81-2.81c.8-.78.8-2.07 0-2.86zM5.41 20L4 18.59l7.72-7.72 1.47 1.35L5.41 20z\"/>\n",
              "  </svg>\n",
              "      </button>\n",
              "      \n",
              "  <style>\n",
              "    .colab-df-container {\n",
              "      display:flex;\n",
              "      flex-wrap:wrap;\n",
              "      gap: 12px;\n",
              "    }\n",
              "\n",
              "    .colab-df-convert {\n",
              "      background-color: #E8F0FE;\n",
              "      border: none;\n",
              "      border-radius: 50%;\n",
              "      cursor: pointer;\n",
              "      display: none;\n",
              "      fill: #1967D2;\n",
              "      height: 32px;\n",
              "      padding: 0 0 0 0;\n",
              "      width: 32px;\n",
              "    }\n",
              "\n",
              "    .colab-df-convert:hover {\n",
              "      background-color: #E2EBFA;\n",
              "      box-shadow: 0px 1px 2px rgba(60, 64, 67, 0.3), 0px 1px 3px 1px rgba(60, 64, 67, 0.15);\n",
              "      fill: #174EA6;\n",
              "    }\n",
              "\n",
              "    [theme=dark] .colab-df-convert {\n",
              "      background-color: #3B4455;\n",
              "      fill: #D2E3FC;\n",
              "    }\n",
              "\n",
              "    [theme=dark] .colab-df-convert:hover {\n",
              "      background-color: #434B5C;\n",
              "      box-shadow: 0px 1px 3px 1px rgba(0, 0, 0, 0.15);\n",
              "      filter: drop-shadow(0px 1px 2px rgba(0, 0, 0, 0.3));\n",
              "      fill: #FFFFFF;\n",
              "    }\n",
              "  </style>\n",
              "\n",
              "      <script>\n",
              "        const buttonEl =\n",
              "          document.querySelector('#df-b6add5d9-4e6f-45fa-a3a1-530b5077f604 button.colab-df-convert');\n",
              "        buttonEl.style.display =\n",
              "          google.colab.kernel.accessAllowed ? 'block' : 'none';\n",
              "\n",
              "        async function convertToInteractive(key) {\n",
              "          const element = document.querySelector('#df-b6add5d9-4e6f-45fa-a3a1-530b5077f604');\n",
              "          const dataTable =\n",
              "            await google.colab.kernel.invokeFunction('convertToInteractive',\n",
              "                                                     [key], {});\n",
              "          if (!dataTable) return;\n",
              "\n",
              "          const docLinkHtml = 'Like what you see? Visit the ' +\n",
              "            '<a target=\"_blank\" href=https://colab.research.google.com/notebooks/data_table.ipynb>data table notebook</a>'\n",
              "            + ' to learn more about interactive tables.';\n",
              "          element.innerHTML = '';\n",
              "          dataTable['output_type'] = 'display_data';\n",
              "          await google.colab.output.renderOutput(dataTable, element);\n",
              "          const docLink = document.createElement('div');\n",
              "          docLink.innerHTML = docLinkHtml;\n",
              "          element.appendChild(docLink);\n",
              "        }\n",
              "      </script>\n",
              "    </div>\n",
              "  </div>\n",
              "  "
            ]
          },
          "metadata": {},
          "execution_count": 88
        }
      ]
    },
    {
      "cell_type": "markdown",
      "source": [
        "The data set we use includes information about the probability of admission to the world's leading universities, based on the performance of applicants. Let's take a closer look at this dataset:"
      ],
      "metadata": {
        "id": "8R3GwrZ7FyXs"
      }
    },
    {
      "cell_type": "markdown",
      "source": [
        "* **Serial no.** - sequence number of the row (no significance)\n",
        "*   **Research** - Research experience or not (0 or 1)\n",
        "*   **GRE Score **- the applicant's GRE (Graduate Record Examinations) score (max - 340)\n",
        "*   **TOEFL Score** - the applicant's TOEFL English score (max - 120)\n",
        "*   **University Rating**- rating of the university where the applicant wants to study (max - 5)\n",
        "*   **SOP**- Evaluation of the applicant's statement of purpose (max - 5)\n",
        "* **LOR**- strength of applicant recommendation (max - 5)\n",
        "*   **CGPA**- average grade of the applicant in the previous institution of education (max - 10)\n",
        "*   **Chance of Admit** - probability of admission to the university of the applicant's choice (range [0,1])"
      ],
      "metadata": {
        "id": "Xu9j3DhiGFIc"
      }
    },
    {
      "cell_type": "markdown",
      "source": [
        "Now let's get acquainted with the technical aspects of the data set, that is, in what format, the number of rows, etc."
      ],
      "metadata": {
        "id": "Z1KHBnJoG9lD"
      }
    },
    {
      "cell_type": "code",
      "source": [
        "df.info()"
      ],
      "metadata": {
        "colab": {
          "base_uri": "https://localhost:8080/"
        },
        "id": "iSqOTaivDvMv",
        "outputId": "6a2e02ec-8ff6-4a2d-ebfa-f47e2f8f131c"
      },
      "execution_count": 89,
      "outputs": [
        {
          "output_type": "stream",
          "name": "stdout",
          "text": [
            "<class 'pandas.core.frame.DataFrame'>\n",
            "RangeIndex: 400 entries, 0 to 399\n",
            "Data columns (total 9 columns):\n",
            " #   Column             Non-Null Count  Dtype  \n",
            "---  ------             --------------  -----  \n",
            " 0   Serial No.         400 non-null    int64  \n",
            " 1   GRE Score          400 non-null    int64  \n",
            " 2   TOEFL Score        400 non-null    int64  \n",
            " 3   University Rating  400 non-null    int64  \n",
            " 4   SOP                400 non-null    float64\n",
            " 5   LOR                400 non-null    float64\n",
            " 6   CGPA               400 non-null    float64\n",
            " 7   Research           400 non-null    int64  \n",
            " 8   Chance of Admit    400 non-null    float64\n",
            "dtypes: float64(4), int64(5)\n",
            "memory usage: 28.2 KB\n"
          ]
        }
      ]
    },
    {
      "cell_type": "markdown",
      "source": [
        "As we can see, the dataset consists of 400 rows and each column is in different formats (int64 and float64). Let's fit this data set to mathematical operations, specifically the linear regression process. In this case, we first convert to a numpy array for ease of calculation, choosing float64 as the column format."
      ],
      "metadata": {
        "id": "0ef4XALlHNFb"
      }
    },
    {
      "cell_type": "code",
      "source": [
        "df = np.array(df, dtype = float)"
      ],
      "metadata": {
        "id": "veqXYtWYGz-w"
      },
      "execution_count": 90,
      "outputs": []
    },
    {
      "cell_type": "code",
      "source": [
        "df.shape"
      ],
      "metadata": {
        "colab": {
          "base_uri": "https://localhost:8080/"
        },
        "id": "Aa35dju8HSPJ",
        "outputId": "e32548c6-113d-4334-e3f6-277d36ffbbfa"
      },
      "execution_count": 91,
      "outputs": [
        {
          "output_type": "execute_result",
          "data": {
            "text/plain": [
              "(400, 9)"
            ]
          },
          "metadata": {},
          "execution_count": 91
        }
      ]
    },
    {
      "cell_type": "markdown",
      "source": [
        "We extract the columns from the data set for the learning process, and load them into the X variable as an array. In this case, we discard the unnecessary columns, in particular the Serial No column. Note that the last column, the Chance of Admit column, is not being loaded either, because we are loading this column into a separate variable as an array of targets."
      ],
      "metadata": {
        "id": "XqWchSZUHXX6"
      }
    },
    {
      "cell_type": "code",
      "source": [
        "X = df[:, 1:8]\n",
        "X[:10]"
      ],
      "metadata": {
        "colab": {
          "base_uri": "https://localhost:8080/"
        },
        "id": "ituf6nDxHULa",
        "outputId": "8f847cae-91c6-4e26-b5c2-611963326371"
      },
      "execution_count": 92,
      "outputs": [
        {
          "output_type": "execute_result",
          "data": {
            "text/plain": [
              "array([[337.  , 118.  ,   4.  ,   4.5 ,   4.5 ,   9.65,   1.  ],\n",
              "       [324.  , 107.  ,   4.  ,   4.  ,   4.5 ,   8.87,   1.  ],\n",
              "       [316.  , 104.  ,   3.  ,   3.  ,   3.5 ,   8.  ,   1.  ],\n",
              "       [322.  , 110.  ,   3.  ,   3.5 ,   2.5 ,   8.67,   1.  ],\n",
              "       [314.  , 103.  ,   2.  ,   2.  ,   3.  ,   8.21,   0.  ],\n",
              "       [330.  , 115.  ,   5.  ,   4.5 ,   3.  ,   9.34,   1.  ],\n",
              "       [321.  , 109.  ,   3.  ,   3.  ,   4.  ,   8.2 ,   1.  ],\n",
              "       [308.  , 101.  ,   2.  ,   3.  ,   4.  ,   7.9 ,   0.  ],\n",
              "       [302.  , 102.  ,   1.  ,   2.  ,   1.5 ,   8.  ,   0.  ],\n",
              "       [323.  , 108.  ,   3.  ,   3.5 ,   3.  ,   8.6 ,   0.  ]])"
            ]
          },
          "metadata": {},
          "execution_count": 92
        }
      ]
    },
    {
      "cell_type": "code",
      "source": [
        "X.shape[1]"
      ],
      "metadata": {
        "colab": {
          "base_uri": "https://localhost:8080/"
        },
        "id": "UGc4DsrtHvqr",
        "outputId": "29a77951-55de-4eae-aba2-44e980030fb8"
      },
      "execution_count": 93,
      "outputs": [
        {
          "output_type": "execute_result",
          "data": {
            "text/plain": [
              "7"
            ]
          },
          "metadata": {},
          "execution_count": 93
        }
      ]
    },
    {
      "cell_type": "markdown",
      "source": [
        "We extract targets from the data set, and load them into the Y variable."
      ],
      "metadata": {
        "id": "WHoQRiMnIBDO"
      }
    },
    {
      "cell_type": "code",
      "source": [
        "Y = df[:,8:]\n",
        "Y[:10]"
      ],
      "metadata": {
        "colab": {
          "base_uri": "https://localhost:8080/"
        },
        "id": "LPn1tYSgH3F5",
        "outputId": "55b3a179-f2ff-4e8c-db68-d2505b8af5e6"
      },
      "execution_count": 94,
      "outputs": [
        {
          "output_type": "execute_result",
          "data": {
            "text/plain": [
              "array([[0.92],\n",
              "       [0.76],\n",
              "       [0.72],\n",
              "       [0.8 ],\n",
              "       [0.65],\n",
              "       [0.9 ],\n",
              "       [0.75],\n",
              "       [0.68],\n",
              "       [0.5 ],\n",
              "       [0.45]])"
            ]
          },
          "metadata": {},
          "execution_count": 94
        }
      ]
    },
    {
      "cell_type": "markdown",
      "source": [
        "As we saw above, the target array consists of numbers in the range [0,1]. Let's reduce them to [0,100] for convenience in the ledgers."
      ],
      "metadata": {
        "id": "9dcQEmWSIUYv"
      }
    },
    {
      "cell_type": "code",
      "source": [
        "Y = Y * 100\n",
        "Y[:10]"
      ],
      "metadata": {
        "colab": {
          "base_uri": "https://localhost:8080/"
        },
        "id": "CvZcspvXIFwM",
        "outputId": "1b975b4d-f213-4aef-da48-1b9768af65cf"
      },
      "execution_count": 95,
      "outputs": [
        {
          "output_type": "execute_result",
          "data": {
            "text/plain": [
              "array([[92.],\n",
              "       [76.],\n",
              "       [72.],\n",
              "       [80.],\n",
              "       [65.],\n",
              "       [90.],\n",
              "       [75.],\n",
              "       [68.],\n",
              "       [50.],\n",
              "       [45.]])"
            ]
          },
          "metadata": {},
          "execution_count": 95
        }
      ]
    },
    {
      "cell_type": "markdown",
      "source": [
        "<h1>Refinement of input variables - standardization</h1>\n",
        "\n",
        "> Let's use the standardization method for smoothing the input variables\n",
        "\n",
        "To find the arithmetic mean and root mean square deviation in the above formula, we use the mean() and std() functions in the numpy library and create a feature_scaling function that expresses this formula."
      ],
      "metadata": {
        "id": "12pf-PcjIiaO"
      }
    },
    {
      "cell_type": "code",
      "source": [
        "def feature_scaling(X):\n",
        "  avg_array = np.mean(X,0)\n",
        "  std_array = np.std(X,0)\n",
        "  return np.divide(X-avg_array, std_array)"
      ],
      "metadata": {
        "id": "TIOau4weIQap"
      },
      "execution_count": 96,
      "outputs": []
    },
    {
      "cell_type": "code",
      "source": [
        "X = feature_scaling(X)"
      ],
      "metadata": {
        "id": "uuddlc3lKjrn"
      },
      "execution_count": 97,
      "outputs": []
    },
    {
      "cell_type": "code",
      "source": [
        "X[:3]"
      ],
      "metadata": {
        "colab": {
          "base_uri": "https://localhost:8080/"
        },
        "id": "-V8pLiMIKxKD",
        "outputId": "d123df50-39db-487a-9626-5a7b63063c1e"
      },
      "execution_count": 98,
      "outputs": [
        {
          "output_type": "execute_result",
          "data": {
            "text/plain": [
              "array([[ 1.76210664,  1.74697064,  0.79882862,  1.09386422,  1.16732114,\n",
              "         1.76481828,  0.90911166],\n",
              "       [ 0.62765641, -0.06763531,  0.79882862,  0.59665321,  1.16732114,\n",
              "         0.45515126,  0.90911166],\n",
              "       [-0.07046681, -0.56252785, -0.07660001, -0.39776881,  0.05293342,\n",
              "        -1.00563118,  0.90911166]])"
            ]
          },
          "metadata": {},
          "execution_count": 98
        }
      ]
    },
    {
      "cell_type": "markdown",
      "source": [
        "For convenience in vertical calculations, let's add a vector whose value is to an array."
      ],
      "metadata": {
        "id": "0BoPDkK-LVBg"
      }
    },
    {
      "cell_type": "code",
      "source": [
        "def add_bias(X):\n",
        "  A_0 = np.ones((X.shape[0], 1))\n",
        "  return np.hstack((A_0, X))"
      ],
      "metadata": {
        "id": "zayr9mKCLXtc"
      },
      "execution_count": 99,
      "outputs": []
    },
    {
      "cell_type": "code",
      "source": [
        "X = add_bias(X)"
      ],
      "metadata": {
        "id": "7qKQoDfvLswk"
      },
      "execution_count": 100,
      "outputs": []
    },
    {
      "cell_type": "code",
      "source": [
        "X[:5]"
      ],
      "metadata": {
        "colab": {
          "base_uri": "https://localhost:8080/"
        },
        "id": "8-1wMPmHLvmj",
        "outputId": "6f5c0b01-dc86-4f0e-dca2-5a26fc19aeb9"
      },
      "execution_count": 101,
      "outputs": [
        {
          "output_type": "execute_result",
          "data": {
            "text/plain": [
              "array([[ 1.        ,  1.76210664,  1.74697064,  0.79882862,  1.09386422,\n",
              "         1.16732114,  1.76481828,  0.90911166],\n",
              "       [ 1.        ,  0.62765641, -0.06763531,  0.79882862,  0.59665321,\n",
              "         1.16732114,  0.45515126,  0.90911166],\n",
              "       [ 1.        , -0.07046681, -0.56252785, -0.07660001, -0.39776881,\n",
              "         0.05293342, -1.00563118,  0.90911166],\n",
              "       [ 1.        ,  0.4531256 ,  0.42725722, -0.07660001,  0.0994422 ,\n",
              "        -1.06145431,  0.11933921,  0.90911166],\n",
              "       [ 1.        , -0.24499762, -0.72749202, -0.95202863, -1.39219083,\n",
              "        -0.50426044, -0.65302852, -1.09997489]])"
            ]
          },
          "metadata": {},
          "execution_count": 101
        }
      ]
    },
    {
      "cell_type": "code",
      "source": [
        "X.shape[1]"
      ],
      "metadata": {
        "colab": {
          "base_uri": "https://localhost:8080/"
        },
        "id": "il2lJQGxLxRD",
        "outputId": "b586c13a-9706-4f74-e39e-b6eb696c8d83"
      },
      "execution_count": 102,
      "outputs": [
        {
          "output_type": "execute_result",
          "data": {
            "text/plain": [
              "8"
            ]
          },
          "metadata": {},
          "execution_count": 102
        }
      ]
    },
    {
      "cell_type": "markdown",
      "source": [
        "<h1>Split the data into training/test sets</h1>"
      ],
      "metadata": {
        "id": "yRRFgc4DPOHs"
      }
    },
    {
      "cell_type": "markdown",
      "source": [
        "Let's split the data set we have into training/test sets. In this case, the linear regression we create will learn from the training dataset and test its performance from the test dataset. We use an 80/20 ratio for the training/test dataset split, which means we split 80% of the dataset into the training dataset and 20% into the test dataset."
      ],
      "metadata": {
        "id": "K6f4aEvRPdAe"
      }
    },
    {
      "cell_type": "code",
      "source": [
        "rows, _ = X.shape"
      ],
      "metadata": {
        "id": "RUcoKmpKPYMh"
      },
      "execution_count": 103,
      "outputs": []
    },
    {
      "cell_type": "code",
      "source": [
        "rows"
      ],
      "metadata": {
        "colab": {
          "base_uri": "https://localhost:8080/"
        },
        "id": "ypNMAGc_QER3",
        "outputId": "a3388837-2432-4594-f128-92c3840b373b"
      },
      "execution_count": 104,
      "outputs": [
        {
          "output_type": "execute_result",
          "data": {
            "text/plain": [
              "400"
            ]
          },
          "metadata": {},
          "execution_count": 104
        }
      ]
    },
    {
      "cell_type": "code",
      "source": [
        "def split(X,Y):\n",
        "  rows, _ = X.shape\n",
        "  train_rows = round(rows * 0.8)\n",
        "  test_rows = rows - train_rows\n",
        "  return X[0:train_rows, :], X[train_rows:, :], Y[0:train_rows, :], Y[train_rows:, :]"
      ],
      "metadata": {
        "id": "Wu_IvcxDQFzg"
      },
      "execution_count": 105,
      "outputs": []
    },
    {
      "cell_type": "code",
      "source": [
        "X_train, X_test, Y_train, Y_test = split(X,Y)"
      ],
      "metadata": {
        "id": "gdUonyjgQ2sG"
      },
      "execution_count": 106,
      "outputs": []
    },
    {
      "cell_type": "code",
      "source": [
        "print(f\"X_train shape:{X_train.shape},\\n\"\n",
        "      f\"X_test shape:{X_test.shape}, \\n\"\n",
        "      f\"Y_train shape:{Y_train.shape}, \\n\"\n",
        "      f\"Y_test:{Y_test.shape}\")"
      ],
      "metadata": {
        "colab": {
          "base_uri": "https://localhost:8080/"
        },
        "id": "Yq1uRT9TRFuY",
        "outputId": "03b60d2d-0f6d-48ba-c3eb-26a1e2c4ad48"
      },
      "execution_count": 107,
      "outputs": [
        {
          "output_type": "stream",
          "name": "stdout",
          "text": [
            "X_train shape:(320, 8),\n",
            "X_test shape:(80, 8), \n",
            "Y_train shape:(320, 1), \n",
            "Y_test:(80, 1)\n"
          ]
        }
      ]
    },
    {
      "cell_type": "markdown",
      "source": [
        "**Initialization of coefficients**\n",
        "> We have n=7 because the data set has 7 columns (column 8 is a vector of 1's). So we have 8 coefficients, including the bias, and we can represent them in vectorized form in a 1-dimensional array. When initializing the coefficients, we use the rand function of the numpy library, which generates random numbers."
      ],
      "metadata": {
        "id": "unxrDBDUR_Bq"
      }
    },
    {
      "cell_type": "code",
      "source": [
        "A = np.random.rand(X.shape[1], 1)"
      ],
      "metadata": {
        "id": "m3xIkLcbRw_m"
      },
      "execution_count": 108,
      "outputs": []
    },
    {
      "cell_type": "code",
      "source": [
        "A"
      ],
      "metadata": {
        "colab": {
          "base_uri": "https://localhost:8080/"
        },
        "id": "t5LHxGxLSzWH",
        "outputId": "40982d8b-64c0-47dd-a6b4-2c913c203411"
      },
      "execution_count": 109,
      "outputs": [
        {
          "output_type": "execute_result",
          "data": {
            "text/plain": [
              "array([[0.63426106],\n",
              "       [0.61443209],\n",
              "       [0.54331764],\n",
              "       [0.82283791],\n",
              "       [0.768538  ],\n",
              "       [0.36996184],\n",
              "       [0.09115052],\n",
              "       [0.25281265]])"
            ]
          },
          "metadata": {},
          "execution_count": 109
        }
      ]
    },
    {
      "cell_type": "markdown",
      "source": [
        "**Linear regression function**\n",
        "> Now that we've defined the variables for the coefficients, let's define the basic function of the linear regression. Let's call this function f_x()."
      ],
      "metadata": {
        "id": "bXlh7tXfTF5q"
      }
    },
    {
      "cell_type": "code",
      "source": [
        "def f_x(X,A):\n",
        "  return np.dot(X,A)"
      ],
      "metadata": {
        "id": "hi8Hx9pCTBV1"
      },
      "execution_count": 110,
      "outputs": []
    },
    {
      "cell_type": "markdown",
      "source": [
        "**Value function and Gradient descent**\n",
        "> Recall the value function of linear regression:\n",
        " <br><img src=\"data:image/png;base64,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\" />"
      ],
      "metadata": {
        "id": "p4XBnPpvTlvR"
      }
    },
    {
      "cell_type": "markdown",
      "source": [
        "**Let's express this value function in a program:**"
      ],
      "metadata": {
        "id": "bnuZ92xmUqPR"
      }
    },
    {
      "cell_type": "code",
      "source": [
        "def cost(X, A, Y, m):\n",
        "  diff = f_x(X,A) - Y\n",
        "  diff_2 = np.power(diff, 2)\n",
        "  sum_ = np.sum(diff_2)\n",
        "  cost_ = sum_ / (2 * m)\n",
        "  return cost_"
      ],
      "metadata": {
        "id": "T0klFXfaTgpQ"
      },
      "execution_count": 111,
      "outputs": []
    },
    {
      "cell_type": "markdown",
      "source": [
        "And in gradient descent, we find the parameters that minimize the value function above. \n",
        "\n",
        "> Let's define a number of hyperparameters in the loop implementation above.\n",
        "\n",
        "> We define the value of the number of steps as and store it in the epochs variable.\n",
        "\n",
        "> Let's define the learning rate as and store it in the learning_rate variable."
      ],
      "metadata": {
        "id": "83fiYBIlV804"
      }
    },
    {
      "cell_type": "code",
      "source": [
        "epochs = 100\n",
        "learning_rate = 0.05"
      ],
      "metadata": {
        "id": "wGkWRolmVmTJ"
      },
      "execution_count": 112,
      "outputs": []
    },
    {
      "cell_type": "markdown",
      "source": [
        "We create a *gradient_descent* function that performs gradient descent and\n",
        "we call it"
      ],
      "metadata": {
        "id": "CjgId74zXn3s"
      }
    },
    {
      "cell_type": "code",
      "source": [
        "def gradient_descent(X_train, Y_train, X_test, Y_test, A, learning_rate, epochs):\n",
        "  \n",
        "  m_train = Y_train.shape[0]\n",
        "  m_test = Y_test.shape[0]\n",
        "  train_costs = []\n",
        "  test_costs = []\n",
        "  for k in range(epochs):\n",
        "    fx = f_x(X_train, A)\n",
        "    sum_diff = np.dot(X_train.T, np.subtract(fx, Y_train)) / m_train\n",
        "    A = A - learning_rate * sum_diff\n",
        "    cost_train = cost(X_train, A, Y_train, m_train)\n",
        "    cost_test = cost(X_test, A, Y_test, m_test)\n",
        "    if k % 10 == 0:\n",
        "          print('epoch: %d, %f'% (k, cost_train))\n",
        "          print('epoch: %d, %f'% (k, cost_test))\n",
        "    train_costs.append(cost_train)\n",
        "    test_costs.append(cost_test)\n",
        "  return A, train_costs, test_costs"
      ],
      "metadata": {
        "id": "xtsKMZvoXaH0"
      },
      "execution_count": 113,
      "outputs": []
    },
    {
      "cell_type": "code",
      "source": [
        "A, train_costs, test_costs = gradient_descent(X_train, Y_train, X_test, Y_test, A, learning_rate, epochs)"
      ],
      "metadata": {
        "colab": {
          "base_uri": "https://localhost:8080/"
        },
        "id": "Z__aLe7xbZxk",
        "outputId": "24568164-0fca-4a63-86fc-b6707bb26cb4"
      },
      "execution_count": 114,
      "outputs": [
        {
          "output_type": "stream",
          "name": "stdout",
          "text": [
            "epoch: 0, 2369.024585\n",
            "epoch: 0, 2364.707508\n",
            "epoch: 10, 841.397807\n",
            "epoch: 10, 993.507719\n",
            "epoch: 20, 318.660900\n",
            "epoch: 20, 406.326259\n",
            "epoch: 30, 129.719512\n",
            "epoch: 30, 177.641282\n",
            "epoch: 40, 61.014503\n",
            "epoch: 40, 87.894560\n",
            "epoch: 50, 35.823827\n",
            "epoch: 50, 51.421243\n",
            "epoch: 60, 26.458109\n",
            "epoch: 60, 35.850955\n",
            "epoch: 70, 22.888952\n",
            "epoch: 70, 28.788912\n",
            "epoch: 80, 21.467308\n",
            "epoch: 80, 25.363351\n",
            "epoch: 90, 20.856625\n",
            "epoch: 90, 23.587213\n"
          ]
        }
      ]
    },
    {
      "cell_type": "markdown",
      "source": [
        "To visually see how much the cost function changes on the gradient descent, let's create a graph function plot_cost, which draws a graph using the matplotlib library."
      ],
      "metadata": {
        "id": "5c3XC8kmb-y_"
      }
    },
    {
      "cell_type": "code",
      "source": [
        "def plot_cost(train_costs, test_costs, epochs):\n",
        "  plt.xlabel(\"Epochs\")\n",
        "  plt.ylabel(\"Costs\")\n",
        "  plt.plot(epochs, train_costs, 'm', linewidth=\"1\", color='r', label='error in exercise')\n",
        "  plt.plot(epochs, test_costs, 'm', linewidth=\"1\", color='g', label='error in test')\n",
        "  plt.legend(loc=\"upper right\")\n",
        "  plt.show()"
      ],
      "metadata": {
        "id": "4Kmb4ludboBk"
      },
      "execution_count": 115,
      "outputs": []
    },
    {
      "cell_type": "markdown",
      "source": [
        "The *plot_cost* function accepts 3 array variables as parameters and these are:\n",
        "> an array representing the result of the value function for the training set, the train_costs variable \n",
        "\n",
        "> an array representing the result of the value function for the test set, the test_costs variable\n",
        "\n",
        ">array representing epochs, variable epochs"
      ],
      "metadata": {
        "id": "eCi2w0WIc9DI"
      }
    },
    {
      "cell_type": "code",
      "source": [
        "n_epochs = np.arange(1, epochs + 1)\n",
        "n_train_costs = np.array(train_costs)\n",
        "n_test_costs = np.array(test_costs)"
      ],
      "metadata": {
        "id": "EHS40T_oc11u"
      },
      "execution_count": 116,
      "outputs": []
    },
    {
      "cell_type": "markdown",
      "source": [
        "**Calculate loss**"
      ],
      "metadata": {
        "id": "GnMnhjigd5By"
      }
    },
    {
      "cell_type": "code",
      "source": [
        "def calculate_loss(X,A,Y):\n",
        "  m = Y.shape[0]\n",
        "  fx = f_x(X, A)\n",
        "  diff = fx - Y\n",
        "  kv = np.power(diff, 2)\n",
        "  sum_kv = np.sum(kv)\n",
        "  kv_m = sum_kv / m\n",
        "  for i in range(m):\n",
        "    print('i:%d, fx:%f, Y: %f, diff: %f, kv: %f'%(i, fx[i], Y[i], diff[i], kv[i]))\n",
        "  rmse = math.sqrt(kv_m)\n",
        "  print('sum: %f, kv_m: %f, rmse: %f'%(sum_kv, kv_m, rmse))\n",
        "  return rmse"
      ],
      "metadata": {
        "id": "VgG_Dgvad02C"
      },
      "execution_count": 117,
      "outputs": []
    },
    {
      "cell_type": "code",
      "source": [
        "print('root mean squared errrors: ', calculate_loss(X_test, A, Y_test))"
      ],
      "metadata": {
        "colab": {
          "base_uri": "https://localhost:8080/"
        },
        "id": "hFatCZ6wfh_y",
        "outputId": "6faac3dd-610d-40b0-b148-ec3e9bf8adbb"
      },
      "execution_count": 118,
      "outputs": [
        {
          "output_type": "stream",
          "name": "stdout",
          "text": [
            "i:0, fx:71.047334, Y: 75.000000, diff: -3.952666, kv: 15.623566\n",
            "i:1, fx:71.986379, Y: 73.000000, diff: -1.013621, kv: 1.027428\n",
            "i:2, fx:67.149527, Y: 72.000000, diff: -4.850473, kv: 23.527090\n",
            "i:3, fx:58.335054, Y: 62.000000, diff: -3.664946, kv: 13.431827\n",
            "i:4, fx:63.807604, Y: 67.000000, diff: -3.192396, kv: 10.191391\n",
            "i:5, fx:83.986384, Y: 81.000000, diff: 2.986384, kv: 8.918487\n",
            "i:6, fx:54.739748, Y: 63.000000, diff: -8.260252, kv: 68.231768\n",
            "i:7, fx:52.196340, Y: 69.000000, diff: -16.803660, kv: 282.362987\n",
            "i:8, fx:78.582571, Y: 80.000000, diff: -1.417429, kv: 2.009106\n",
            "i:9, fx:49.138355, Y: 43.000000, diff: 6.138355, kv: 37.679396\n",
            "i:10, fx:76.193240, Y: 80.000000, diff: -3.806760, kv: 14.491423\n",
            "i:11, fx:61.068318, Y: 73.000000, diff: -11.931682, kv: 142.365036\n",
            "i:12, fx:64.253971, Y: 75.000000, diff: -10.746029, kv: 115.477145\n",
            "i:13, fx:72.419955, Y: 71.000000, diff: 1.419955, kv: 2.016273\n",
            "i:14, fx:74.356543, Y: 73.000000, diff: 1.356543, kv: 1.840208\n",
            "i:15, fx:83.663165, Y: 83.000000, diff: 0.663165, kv: 0.439787\n",
            "i:16, fx:71.263326, Y: 72.000000, diff: -0.736674, kv: 0.542689\n",
            "i:17, fx:93.999090, Y: 94.000000, diff: -0.000910, kv: 0.000001\n",
            "i:18, fx:78.592294, Y: 81.000000, diff: -2.407706, kv: 5.797047\n",
            "i:19, fx:77.485933, Y: 81.000000, diff: -3.514067, kv: 12.348668\n",
            "i:20, fx:68.687623, Y: 75.000000, diff: -6.312377, kv: 39.846107\n",
            "i:21, fx:76.668393, Y: 79.000000, diff: -2.331607, kv: 5.436392\n",
            "i:22, fx:63.987296, Y: 58.000000, diff: 5.987296, kv: 35.847710\n",
            "i:23, fx:61.100829, Y: 59.000000, diff: 2.100829, kv: 4.413483\n",
            "i:24, fx:45.176377, Y: 47.000000, diff: -1.823623, kv: 3.325599\n",
            "i:25, fx:49.724383, Y: 49.000000, diff: 0.724383, kv: 0.524731\n",
            "i:26, fx:49.834230, Y: 47.000000, diff: 2.834230, kv: 8.032858\n",
            "i:27, fx:41.168365, Y: 42.000000, diff: -0.831635, kv: 0.691617\n",
            "i:28, fx:46.236961, Y: 57.000000, diff: -10.763039, kv: 115.843014\n",
            "i:29, fx:60.709062, Y: 62.000000, diff: -1.290938, kv: 1.666520\n",
            "i:30, fx:69.509668, Y: 74.000000, diff: -4.490332, kv: 20.163080\n",
            "i:31, fx:78.104702, Y: 73.000000, diff: 5.104702, kv: 26.057984\n",
            "i:32, fx:60.492939, Y: 64.000000, diff: -3.507061, kv: 12.299476\n",
            "i:33, fx:58.855360, Y: 63.000000, diff: -4.144640, kv: 17.178045\n",
            "i:34, fx:52.101318, Y: 59.000000, diff: -6.898682, kv: 47.591817\n",
            "i:35, fx:64.560839, Y: 73.000000, diff: -8.439161, kv: 71.219436\n",
            "i:36, fx:77.733283, Y: 79.000000, diff: -1.266717, kv: 1.604572\n",
            "i:37, fx:60.779832, Y: 68.000000, diff: -7.220168, kv: 52.130821\n",
            "i:38, fx:55.853343, Y: 70.000000, diff: -14.146657, kv: 200.127902\n",
            "i:39, fx:63.345235, Y: 81.000000, diff: -17.654765, kv: 311.690716\n",
            "i:40, fx:78.898276, Y: 85.000000, diff: -6.101724, kv: 37.231033\n",
            "i:41, fx:88.773674, Y: 93.000000, diff: -4.226326, kv: 17.861832\n",
            "i:42, fx:91.538430, Y: 91.000000, diff: 0.538430, kv: 0.289907\n",
            "i:43, fx:61.922068, Y: 69.000000, diff: -7.077932, kv: 50.097119\n",
            "i:44, fx:72.821995, Y: 77.000000, diff: -4.178005, kv: 17.455723\n",
            "i:45, fx:82.862482, Y: 86.000000, diff: -3.137518, kv: 9.844021\n",
            "i:46, fx:71.721652, Y: 74.000000, diff: -2.278348, kv: 5.190871\n",
            "i:47, fx:50.164416, Y: 57.000000, diff: -6.835584, kv: 46.725202\n",
            "i:48, fx:47.350228, Y: 51.000000, diff: -3.649772, kv: 13.320834\n",
            "i:49, fx:56.239475, Y: 67.000000, diff: -10.760525, kv: 115.788894\n",
            "i:50, fx:60.399215, Y: 72.000000, diff: -11.600785, kv: 134.578203\n",
            "i:51, fx:78.837374, Y: 89.000000, diff: -10.162626, kv: 103.278976\n",
            "i:52, fx:92.680086, Y: 95.000000, diff: -2.319914, kv: 5.382000\n",
            "i:53, fx:72.000023, Y: 79.000000, diff: -6.999977, kv: 48.999671\n",
            "i:54, fx:57.251176, Y: 39.000000, diff: 18.251176, kv: 333.105419\n",
            "i:55, fx:53.349038, Y: 38.000000, diff: 15.349038, kv: 235.592961\n",
            "i:56, fx:46.594754, Y: 34.000000, diff: 12.594754, kv: 158.627839\n",
            "i:57, fx:46.896091, Y: 47.000000, diff: -0.103909, kv: 0.010797\n",
            "i:58, fx:50.539988, Y: 56.000000, diff: -5.460012, kv: 29.811727\n",
            "i:59, fx:62.063176, Y: 71.000000, diff: -8.936824, kv: 79.866816\n",
            "i:60, fx:74.971988, Y: 78.000000, diff: -3.028012, kv: 9.168858\n",
            "i:61, fx:72.055764, Y: 73.000000, diff: -0.944236, kv: 0.891581\n",
            "i:62, fx:82.199288, Y: 82.000000, diff: 0.199288, kv: 0.039716\n",
            "i:63, fx:61.043477, Y: 62.000000, diff: -0.956523, kv: 0.914936\n",
            "i:64, fx:94.238264, Y: 96.000000, diff: -1.761736, kv: 3.103712\n",
            "i:65, fx:96.985850, Y: 96.000000, diff: 0.985850, kv: 0.971900\n",
            "i:66, fx:58.165024, Y: 46.000000, diff: 12.165024, kv: 147.987809\n",
            "i:67, fx:62.040494, Y: 53.000000, diff: 9.040494, kv: 81.730529\n",
            "i:68, fx:49.664219, Y: 49.000000, diff: 0.664219, kv: 0.441187\n",
            "i:69, fx:73.200963, Y: 76.000000, diff: -2.799037, kv: 7.834610\n",
            "i:70, fx:60.519016, Y: 64.000000, diff: -3.480984, kv: 12.117247\n",
            "i:71, fx:68.968093, Y: 71.000000, diff: -2.031907, kv: 4.128646\n",
            "i:72, fx:81.863211, Y: 84.000000, diff: -2.136789, kv: 4.565868\n",
            "i:73, fx:67.933079, Y: 77.000000, diff: -9.066921, kv: 82.209055\n",
            "i:74, fx:84.281260, Y: 89.000000, diff: -4.718740, kv: 22.266511\n",
            "i:75, fx:78.618590, Y: 82.000000, diff: -3.381410, kv: 11.433933\n",
            "i:76, fx:77.795286, Y: 84.000000, diff: -6.204714, kv: 38.498478\n",
            "i:77, fx:90.125151, Y: 91.000000, diff: -0.874849, kv: 0.765361\n",
            "i:78, fx:70.476269, Y: 67.000000, diff: 3.476269, kv: 12.084450\n",
            "i:79, fx:91.636141, Y: 95.000000, diff: -3.363859, kv: 11.315547\n",
            "sum: 3629.542984, kv_m: 45.369287, rmse: 6.735673\n",
            "root mean squared errrors:  6.735672743359764\n"
          ]
        }
      ]
    },
    {
      "cell_type": "markdown",
      "source": [
        "We can also get acquainted with the values ​​of the optimal coefficients found by gradient descent:"
      ],
      "metadata": {
        "id": "Uv4tpOQqfyzQ"
      }
    },
    {
      "cell_type": "code",
      "source": [
        "A"
      ],
      "metadata": {
        "colab": {
          "base_uri": "https://localhost:8080/"
        },
        "id": "qYw7R2vFfoC8",
        "outputId": "9ac01076-2cbf-4a40-b4ff-861f2accef77"
      },
      "execution_count": 119,
      "outputs": [
        {
          "output_type": "execute_result",
          "data": {
            "text/plain": [
              "array([[71.56428001],\n",
              "       [ 2.14643691],\n",
              "       [ 2.91693739],\n",
              "       [ 1.2509758 ],\n",
              "       [ 0.29815833],\n",
              "       [ 2.28958284],\n",
              "       [ 4.94497825],\n",
              "       [ 0.8179122 ]])"
            ]
          },
          "metadata": {},
          "execution_count": 119
        }
      ]
    },
    {
      "cell_type": "markdown",
      "source": [
        "Let's graphically represent the change of the cost function at each step using the plot_cost function."
      ],
      "metadata": {
        "id": "egwHjr7EgD_e"
      }
    },
    {
      "cell_type": "code",
      "source": [
        "figure(figsize=(8,6), dpi=80)\n",
        "\n",
        "plot_cost(train_costs, test_costs, n_epochs)"
      ],
      "metadata": {
        "colab": {
          "base_uri": "https://localhost:8080/",
          "height": 523
        },
        "id": "zSIEna7XfuWZ",
        "outputId": "00238a75-c20a-4d48-fe36-6625ab6d4d93"
      },
      "execution_count": 120,
      "outputs": [
        {
          "output_type": "stream",
          "name": "stderr",
          "text": [
            "<ipython-input-115-f1fb3824de42>:4: UserWarning: color is redundantly defined by the 'color' keyword argument and the fmt string \"m\" (-> color=(0.75, 0.0, 0.75, 1)). The keyword argument will take precedence.\n",
            "  plt.plot(epochs, train_costs, 'm', linewidth=\"1\", color='r', label='error in exercise')\n",
            "<ipython-input-115-f1fb3824de42>:5: UserWarning: color is redundantly defined by the 'color' keyword argument and the fmt string \"m\" (-> color=(0.75, 0.0, 0.75, 1)). The keyword argument will take precedence.\n",
            "  plt.plot(epochs, test_costs, 'm', linewidth=\"1\", color='g', label='error in test')\n"
          ]
        },
        {
          "output_type": "display_data",
          "data": {
            "text/plain": [
              "<Figure size 640x480 with 1 Axes>"
            ],
            "image/png": "[encoded data removed]"
          },
          "metadata": {}
        }
      ]
    },
    {
      "cell_type": "markdown",
      "source": [
        "From the graph above, we can see that the error is decreasing at each step in both the training set and the test set. From this we can conclude that the linear regression we created is working correctly."
      ],
      "metadata": {
        "id": "V88PmIo_j14A"
      }
    },
    {
      "cell_type": "markdown",
      "source": [
        "Now in practice, let's predict the first 10 rows in the test set using the coefficients found by linear regression and check with real targets:"
      ],
      "metadata": {
        "id": "yDPXESJRkDxx"
      }
    },
    {
      "cell_type": "code",
      "source": [
        "m_to_predict = 10\n",
        "\n",
        "predicted = f_x(X_test[:m_to_predict, :], A)\n",
        "\n",
        "for i in range(m_to_predict):\n",
        "  print('bashorat: %f, haqiqiy: %f'% (predicted[i], Y_test[i]))"
      ],
      "metadata": {
        "colab": {
          "base_uri": "https://localhost:8080/"
        },
        "id": "C8QmZR06kJ0C",
        "outputId": "550343fe-ba73-4f2f-ecf3-f3beccbb91e8"
      },
      "execution_count": 121,
      "outputs": [
        {
          "output_type": "stream",
          "name": "stdout",
          "text": [
            "bashorat: 71.047334, haqiqiy: 75.000000\n",
            "bashorat: 71.986379, haqiqiy: 73.000000\n",
            "bashorat: 67.149527, haqiqiy: 72.000000\n",
            "bashorat: 58.335054, haqiqiy: 62.000000\n",
            "bashorat: 63.807604, haqiqiy: 67.000000\n",
            "bashorat: 83.986384, haqiqiy: 81.000000\n",
            "bashorat: 54.739748, haqiqiy: 63.000000\n",
            "bashorat: 52.196340, haqiqiy: 69.000000\n",
            "bashorat: 78.582571, haqiqiy: 80.000000\n",
            "bashorat: 49.138355, haqiqiy: 43.000000\n"
          ]
        }
      ]
    },
    {
      "cell_type": "markdown",
      "source": [
        "We can see that the predicted targets are close to the values of the actual targets, although with some error."
      ],
      "metadata": {
        "id": "RbwmBHDTk5oP"
      }
    }
  ]
}