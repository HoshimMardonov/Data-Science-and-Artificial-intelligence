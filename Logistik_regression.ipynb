{
  "nbformat": 4,
  "nbformat_minor": 0,
  "metadata": {
    "colab": {
      "provenance": [],
      "mount_file_id": "1kVsD_t-0OAC53kn8fRFyXlEFGO0UIhC8",
      "authorship_tag": "ABX9TyPaHh7jNafkAhGl7vEIab7x",
      "include_colab_link": true
    },
    "kernelspec": {
      "name": "python3",
      "display_name": "Python 3"
    },
    "language_info": {
      "name": "python"
    }
  },
  "cells": [
    {
      "cell_type": "markdown",
      "metadata": {
        "id": "view-in-github",
        "colab_type": "text"
      },
      "source": [
        "<a href=\"https://colab.research.google.com/github/HoshimMardonov/Datasets/blob/main/Logistik_regression.ipynb\" target=\"_parent\"><img src=\"https://colab.research.google.com/assets/colab-badge.svg\" alt=\"Open In Colab\"/></a>"
      ]
    },
    {
      "cell_type": "code",
      "execution_count": 52,
      "metadata": {
        "id": "Nrtf9i0wubL6"
      },
      "outputs": [],
      "source": [
        "import numpy as np\n",
        "import pandas as pd\n",
        "import matplotlib.pyplot as plt\n",
        "from matplotlib.pyplot import figure\n",
        "import math"
      ]
    },
    {
      "cell_type": "code",
      "source": [
        "df = pd.read_csv(\"https://raw.githubusercontent.com/Rhtyme/ml_uz_book/main/practice_session/Logistic_regression_5_6/diabetes.csv\")"
      ],
      "metadata": {
        "id": "SEXwaasFvV3H"
      },
      "execution_count": 53,
      "outputs": []
    },
    {
      "cell_type": "markdown",
      "source": [
        "Let's get acquainted with the database, that is, what columns there are, and what the data in them looks like, etc."
      ],
      "metadata": {
        "id": "BB2H-Yanv4g3"
      }
    },
    {
      "cell_type": "code",
      "source": [
        "df.head()"
      ],
      "metadata": {
        "colab": {
          "base_uri": "https://localhost:8080/",
          "height": 206
        },
        "id": "6Qk6u8-XvxOQ",
        "outputId": "c2a78d79-e51e-4917-c64e-9fe12b87b8e5"
      },
      "execution_count": 54,
      "outputs": [
        {
          "output_type": "execute_result",
          "data": {
            "text/plain": [
              "   Pregnancies  Glucose  BloodPressure  SkinThickness  Insulin   BMI  \\\n",
              "0            6      148             72             35        0  33.6   \n",
              "1            1       85             66             29        0  26.6   \n",
              "2            8      183             64              0        0  23.3   \n",
              "3            1       89             66             23       94  28.1   \n",
              "4            0      137             40             35      168  43.1   \n",
              "\n",
              "   DiabetesPedigreeFunction  Age  Outcome  \n",
              "0                     0.627   50        1  \n",
              "1                     0.351   31        0  \n",
              "2                     0.672   32        1  \n",
              "3                     0.167   21        0  \n",
              "4                     2.288   33        1  "
            ],
            "text/html": [
              "\n",
              "  <div id=\"df-caf91c36-3302-4c8e-8871-d627427a0c1b\">\n",
              "    <div class=\"colab-df-container\">\n",
              "      <div>\n",
              "<style scoped>\n",
              "    .dataframe tbody tr th:only-of-type {\n",
              "        vertical-align: middle;\n",
              "    }\n",
              "\n",
              "    .dataframe tbody tr th {\n",
              "        vertical-align: top;\n",
              "    }\n",
              "\n",
              "    .dataframe thead th {\n",
              "        text-align: right;\n",
              "    }\n",
              "</style>\n",
              "<table border=\"1\" class=\"dataframe\">\n",
              "  <thead>\n",
              "    <tr style=\"text-align: right;\">\n",
              "      <th></th>\n",
              "      <th>Pregnancies</th>\n",
              "      <th>Glucose</th>\n",
              "      <th>BloodPressure</th>\n",
              "      <th>SkinThickness</th>\n",
              "      <th>Insulin</th>\n",
              "      <th>BMI</th>\n",
              "      <th>DiabetesPedigreeFunction</th>\n",
              "      <th>Age</th>\n",
              "      <th>Outcome</th>\n",
              "    </tr>\n",
              "  </thead>\n",
              "  <tbody>\n",
              "    <tr>\n",
              "      <th>0</th>\n",
              "      <td>6</td>\n",
              "      <td>148</td>\n",
              "      <td>72</td>\n",
              "      <td>35</td>\n",
              "      <td>0</td>\n",
              "      <td>33.6</td>\n",
              "      <td>0.627</td>\n",
              "      <td>50</td>\n",
              "      <td>1</td>\n",
              "    </tr>\n",
              "    <tr>\n",
              "      <th>1</th>\n",
              "      <td>1</td>\n",
              "      <td>85</td>\n",
              "      <td>66</td>\n",
              "      <td>29</td>\n",
              "      <td>0</td>\n",
              "      <td>26.6</td>\n",
              "      <td>0.351</td>\n",
              "      <td>31</td>\n",
              "      <td>0</td>\n",
              "    </tr>\n",
              "    <tr>\n",
              "      <th>2</th>\n",
              "      <td>8</td>\n",
              "      <td>183</td>\n",
              "      <td>64</td>\n",
              "      <td>0</td>\n",
              "      <td>0</td>\n",
              "      <td>23.3</td>\n",
              "      <td>0.672</td>\n",
              "      <td>32</td>\n",
              "      <td>1</td>\n",
              "    </tr>\n",
              "    <tr>\n",
              "      <th>3</th>\n",
              "      <td>1</td>\n",
              "      <td>89</td>\n",
              "      <td>66</td>\n",
              "      <td>23</td>\n",
              "      <td>94</td>\n",
              "      <td>28.1</td>\n",
              "      <td>0.167</td>\n",
              "      <td>21</td>\n",
              "      <td>0</td>\n",
              "    </tr>\n",
              "    <tr>\n",
              "      <th>4</th>\n",
              "      <td>0</td>\n",
              "      <td>137</td>\n",
              "      <td>40</td>\n",
              "      <td>35</td>\n",
              "      <td>168</td>\n",
              "      <td>43.1</td>\n",
              "      <td>2.288</td>\n",
              "      <td>33</td>\n",
              "      <td>1</td>\n",
              "    </tr>\n",
              "  </tbody>\n",
              "</table>\n",
              "</div>\n",
              "      <button class=\"colab-df-convert\" onclick=\"convertToInteractive('df-caf91c36-3302-4c8e-8871-d627427a0c1b')\"\n",
              "              title=\"Convert this dataframe to an interactive table.\"\n",
              "              style=\"display:none;\">\n",
              "        \n",
              "  <svg xmlns=\"http://www.w3.org/2000/svg\" height=\"24px\"viewBox=\"0 0 24 24\"\n",
              "       width=\"24px\">\n",
              "    <path d=\"M0 0h24v24H0V0z\" fill=\"none\"/>\n",
              "    <path d=\"M18.56 5.44l.94 2.06.94-2.06 2.06-.94-2.06-.94-.94-2.06-.94 2.06-2.06.94zm-11 1L8.5 8.5l.94-2.06 2.06-.94-2.06-.94L8.5 2.5l-.94 2.06-2.06.94zm10 10l.94 2.06.94-2.06 2.06-.94-2.06-.94-.94-2.06-.94 2.06-2.06.94z\"/><path d=\"M17.41 7.96l-1.37-1.37c-.4-.4-.92-.59-1.43-.59-.52 0-1.04.2-1.43.59L10.3 9.45l-7.72 7.72c-.78.78-.78 2.05 0 2.83L4 21.41c.39.39.9.59 1.41.59.51 0 1.02-.2 1.41-.59l7.78-7.78 2.81-2.81c.8-.78.8-2.07 0-2.86zM5.41 20L4 18.59l7.72-7.72 1.47 1.35L5.41 20z\"/>\n",
              "  </svg>\n",
              "      </button>\n",
              "      \n",
              "  <style>\n",
              "    .colab-df-container {\n",
              "      display:flex;\n",
              "      flex-wrap:wrap;\n",
              "      gap: 12px;\n",
              "    }\n",
              "\n",
              "    .colab-df-convert {\n",
              "      background-color: #E8F0FE;\n",
              "      border: none;\n",
              "      border-radius: 50%;\n",
              "      cursor: pointer;\n",
              "      display: none;\n",
              "      fill: #1967D2;\n",
              "      height: 32px;\n",
              "      padding: 0 0 0 0;\n",
              "      width: 32px;\n",
              "    }\n",
              "\n",
              "    .colab-df-convert:hover {\n",
              "      background-color: #E2EBFA;\n",
              "      box-shadow: 0px 1px 2px rgba(60, 64, 67, 0.3), 0px 1px 3px 1px rgba(60, 64, 67, 0.15);\n",
              "      fill: #174EA6;\n",
              "    }\n",
              "\n",
              "    [theme=dark] .colab-df-convert {\n",
              "      background-color: #3B4455;\n",
              "      fill: #D2E3FC;\n",
              "    }\n",
              "\n",
              "    [theme=dark] .colab-df-convert:hover {\n",
              "      background-color: #434B5C;\n",
              "      box-shadow: 0px 1px 3px 1px rgba(0, 0, 0, 0.15);\n",
              "      filter: drop-shadow(0px 1px 2px rgba(0, 0, 0, 0.3));\n",
              "      fill: #FFFFFF;\n",
              "    }\n",
              "  </style>\n",
              "\n",
              "      <script>\n",
              "        const buttonEl =\n",
              "          document.querySelector('#df-caf91c36-3302-4c8e-8871-d627427a0c1b button.colab-df-convert');\n",
              "        buttonEl.style.display =\n",
              "          google.colab.kernel.accessAllowed ? 'block' : 'none';\n",
              "\n",
              "        async function convertToInteractive(key) {\n",
              "          const element = document.querySelector('#df-caf91c36-3302-4c8e-8871-d627427a0c1b');\n",
              "          const dataTable =\n",
              "            await google.colab.kernel.invokeFunction('convertToInteractive',\n",
              "                                                     [key], {});\n",
              "          if (!dataTable) return;\n",
              "\n",
              "          const docLinkHtml = 'Like what you see? Visit the ' +\n",
              "            '<a target=\"_blank\" href=https://colab.research.google.com/notebooks/data_table.ipynb>data table notebook</a>'\n",
              "            + ' to learn more about interactive tables.';\n",
              "          element.innerHTML = '';\n",
              "          dataTable['output_type'] = 'display_data';\n",
              "          await google.colab.output.renderOutput(dataTable, element);\n",
              "          const docLink = document.createElement('div');\n",
              "          docLink.innerHTML = docLinkHtml;\n",
              "          element.appendChild(docLink);\n",
              "        }\n",
              "      </script>\n",
              "    </div>\n",
              "  </div>\n",
              "  "
            ]
          },
          "metadata": {},
          "execution_count": 54
        }
      ]
    },
    {
      "cell_type": "markdown",
      "source": [
        "This data set is based on data from the National Institute of Diabetes and Digestive and Kidney Diseases of the United States, and various analyzes in Native American women over 21 years of age, in particular, it expresses whether or not you have diabetes. There are 9 columns in the dataset, which can be described as follows:\n",
        "\n",
        "*   Pregnancies - how many times a woman has been pregnant\n",
        "*   Glucose - glucose oil\n",
        "*   BloodPressure - blood pressure\n",
        "*   SkinThickness - skin thickness\n",
        "*   Insulin - measure of insulin\n",
        "*   BMI - height and weight measurement (*kg/m2*)\n",
        "*   Diabetes Pedigree Function - the coefficient of diabetes in the offspring\n",
        "*   Age - age\n",
        "*   Outcome - diabetes present (1) or absent (0)\n",
        "\n"
      ],
      "metadata": {
        "id": "s6P7Zb5cwG0t"
      }
    },
    {
      "cell_type": "markdown",
      "source": [
        "Now let's get acquainted with the technical aspects of the data set, that is, in what format, the number of rows, etc."
      ],
      "metadata": {
        "id": "IzcAwSuMxX7A"
      }
    },
    {
      "cell_type": "code",
      "source": [
        "df.info()"
      ],
      "metadata": {
        "colab": {
          "base_uri": "https://localhost:8080/"
        },
        "id": "FXAB9fnGv6s6",
        "outputId": "570d63db-86e2-45f2-ba18-4ee89110cb09"
      },
      "execution_count": 55,
      "outputs": [
        {
          "output_type": "stream",
          "name": "stdout",
          "text": [
            "<class 'pandas.core.frame.DataFrame'>\n",
            "RangeIndex: 768 entries, 0 to 767\n",
            "Data columns (total 9 columns):\n",
            " #   Column                    Non-Null Count  Dtype  \n",
            "---  ------                    --------------  -----  \n",
            " 0   Pregnancies               768 non-null    int64  \n",
            " 1   Glucose                   768 non-null    int64  \n",
            " 2   BloodPressure             768 non-null    int64  \n",
            " 3   SkinThickness             768 non-null    int64  \n",
            " 4   Insulin                   768 non-null    int64  \n",
            " 5   BMI                       768 non-null    float64\n",
            " 6   DiabetesPedigreeFunction  768 non-null    float64\n",
            " 7   Age                       768 non-null    int64  \n",
            " 8   Outcome                   768 non-null    int64  \n",
            "dtypes: float64(2), int64(7)\n",
            "memory usage: 54.1 KB\n"
          ]
        }
      ]
    },
    {
      "cell_type": "markdown",
      "source": [
        "As we can see, the dataset consists of 768 rows and each column is in different formats (int64 and float64). Let's apply this data set to mathematical operations, specifically the logistic regression process. In this case, we first convert to a numpy array for ease of calculation, choosing float64 as the column format."
      ],
      "metadata": {
        "id": "OVzg5hbuxihz"
      }
    },
    {
      "cell_type": "code",
      "source": [
        "df = np.array(df, dtype = float)"
      ],
      "metadata": {
        "id": "yXlMCH4qxaKa"
      },
      "execution_count": 56,
      "outputs": []
    },
    {
      "cell_type": "code",
      "source": [
        "df.shape"
      ],
      "metadata": {
        "colab": {
          "base_uri": "https://localhost:8080/"
        },
        "id": "kUMoD1MYxvlT",
        "outputId": "9b08a58f-e145-48fd-cc6e-8d67ddf1775d"
      },
      "execution_count": 57,
      "outputs": [
        {
          "output_type": "execute_result",
          "data": {
            "text/plain": [
              "(768, 9)"
            ]
          },
          "metadata": {},
          "execution_count": 57
        }
      ]
    },
    {
      "cell_type": "markdown",
      "source": [
        "We extract the columns from the data set for the learning process, and load them into the X variable as an array. Note that the last column, the Outcome column, is not loaded into the training set because we load this column into a separate variable as an array of targets."
      ],
      "metadata": {
        "id": "68_F6O2gx3zZ"
      }
    },
    {
      "cell_type": "code",
      "source": [
        "X = df[:, :8]\n",
        "X"
      ],
      "metadata": {
        "colab": {
          "base_uri": "https://localhost:8080/"
        },
        "id": "V-m6fiiYxyhy",
        "outputId": "f17fbc92-3e64-4566-ffd4-d180c49c248f"
      },
      "execution_count": 58,
      "outputs": [
        {
          "output_type": "execute_result",
          "data": {
            "text/plain": [
              "array([[  6.   , 148.   ,  72.   , ...,  33.6  ,   0.627,  50.   ],\n",
              "       [  1.   ,  85.   ,  66.   , ...,  26.6  ,   0.351,  31.   ],\n",
              "       [  8.   , 183.   ,  64.   , ...,  23.3  ,   0.672,  32.   ],\n",
              "       ...,\n",
              "       [  5.   , 121.   ,  72.   , ...,  26.2  ,   0.245,  30.   ],\n",
              "       [  1.   , 126.   ,  60.   , ...,  30.1  ,   0.349,  47.   ],\n",
              "       [  1.   ,  93.   ,  70.   , ...,  30.4  ,   0.315,  23.   ]])"
            ]
          },
          "metadata": {},
          "execution_count": 58
        }
      ]
    },
    {
      "cell_type": "code",
      "source": [
        "X[:10]"
      ],
      "metadata": {
        "colab": {
          "base_uri": "https://localhost:8080/"
        },
        "id": "2nM7rnxSyE_V",
        "outputId": "23101c23-51ac-4bb5-ed41-236dc210f3db"
      },
      "execution_count": 59,
      "outputs": [
        {
          "output_type": "execute_result",
          "data": {
            "text/plain": [
              "array([[6.000e+00, 1.480e+02, 7.200e+01, 3.500e+01, 0.000e+00, 3.360e+01,\n",
              "        6.270e-01, 5.000e+01],\n",
              "       [1.000e+00, 8.500e+01, 6.600e+01, 2.900e+01, 0.000e+00, 2.660e+01,\n",
              "        3.510e-01, 3.100e+01],\n",
              "       [8.000e+00, 1.830e+02, 6.400e+01, 0.000e+00, 0.000e+00, 2.330e+01,\n",
              "        6.720e-01, 3.200e+01],\n",
              "       [1.000e+00, 8.900e+01, 6.600e+01, 2.300e+01, 9.400e+01, 2.810e+01,\n",
              "        1.670e-01, 2.100e+01],\n",
              "       [0.000e+00, 1.370e+02, 4.000e+01, 3.500e+01, 1.680e+02, 4.310e+01,\n",
              "        2.288e+00, 3.300e+01],\n",
              "       [5.000e+00, 1.160e+02, 7.400e+01, 0.000e+00, 0.000e+00, 2.560e+01,\n",
              "        2.010e-01, 3.000e+01],\n",
              "       [3.000e+00, 7.800e+01, 5.000e+01, 3.200e+01, 8.800e+01, 3.100e+01,\n",
              "        2.480e-01, 2.600e+01],\n",
              "       [1.000e+01, 1.150e+02, 0.000e+00, 0.000e+00, 0.000e+00, 3.530e+01,\n",
              "        1.340e-01, 2.900e+01],\n",
              "       [2.000e+00, 1.970e+02, 7.000e+01, 4.500e+01, 5.430e+02, 3.050e+01,\n",
              "        1.580e-01, 5.300e+01],\n",
              "       [8.000e+00, 1.250e+02, 9.600e+01, 0.000e+00, 0.000e+00, 0.000e+00,\n",
              "        2.320e-01, 5.400e+01]])"
            ]
          },
          "metadata": {},
          "execution_count": 59
        }
      ]
    },
    {
      "cell_type": "markdown",
      "source": [
        "We extract targets from the data set, and load them into the Y variable."
      ],
      "metadata": {
        "id": "dbJQq-yAyb1L"
      }
    },
    {
      "cell_type": "code",
      "source": [
        "Y = df[:, 8:]"
      ],
      "metadata": {
        "id": "tGFv84RzySu1"
      },
      "execution_count": 60,
      "outputs": []
    },
    {
      "cell_type": "code",
      "source": [
        "Y.shape"
      ],
      "metadata": {
        "colab": {
          "base_uri": "https://localhost:8080/"
        },
        "id": "7sQ5ydrzykDy",
        "outputId": "ab476d1a-0a1c-4f23-eaf1-fabeb742db2d"
      },
      "execution_count": 61,
      "outputs": [
        {
          "output_type": "execute_result",
          "data": {
            "text/plain": [
              "(768, 1)"
            ]
          },
          "metadata": {},
          "execution_count": 61
        }
      ]
    },
    {
      "cell_type": "code",
      "source": [
        "Y[:10]"
      ],
      "metadata": {
        "colab": {
          "base_uri": "https://localhost:8080/"
        },
        "id": "ba9W9IE1ysz7",
        "outputId": "6684d9b3-b098-4264-868b-21e436bb5b40"
      },
      "execution_count": 62,
      "outputs": [
        {
          "output_type": "execute_result",
          "data": {
            "text/plain": [
              "array([[1.],\n",
              "       [0.],\n",
              "       [1.],\n",
              "       [0.],\n",
              "       [1.],\n",
              "       [0.],\n",
              "       [1.],\n",
              "       [0.],\n",
              "       [1.],\n",
              "       [1.]])"
            ]
          },
          "metadata": {},
          "execution_count": 62
        }
      ]
    },
    {
      "cell_type": "markdown",
      "source": [
        "**Refinement of input variables - standardization**"
      ],
      "metadata": {
        "id": "unFXNxpay1RL"
      }
    },
    {
      "cell_type": "markdown",
      "source": [
        "Let's use the standardization method for smoothing the input variables, using the following formula:\n",
        "\n",
        "\n",
        "\n",
        "<img src=\"data:image/png;base64,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\" width=\"100\"/>"
      ],
      "metadata": {
        "id": "MqDhR6wczVHl"
      }
    },
    {
      "cell_type": "markdown",
      "source": [
        "To find the arithmetic mean () and root mean square deviation () in the above formula, we use the *mean()* and *std()* functions in the numpy library and create a *feature_scaling* function that expresses this formula."
      ],
      "metadata": {
        "id": "PfRdaWSTzp0Z"
      }
    },
    {
      "cell_type": "code",
      "source": [
        "def feature_scaling(X):\n",
        "  avg_array = np.mean(X,0)\n",
        "  std_array = np.std(X,0)\n",
        "  return np.divide(X - avg_array, std_array)"
      ],
      "metadata": {
        "id": "bUG8JE_zywwh"
      },
      "execution_count": 63,
      "outputs": []
    },
    {
      "cell_type": "markdown",
      "source": [
        "Let's scale the incoming variables using the feature_scaling function."
      ],
      "metadata": {
        "id": "_OxA3G910RAg"
      }
    },
    {
      "cell_type": "code",
      "source": [
        "X = feature_scaling(X)"
      ],
      "metadata": {
        "id": "wi1FiEC60Kxo"
      },
      "execution_count": 64,
      "outputs": []
    },
    {
      "cell_type": "code",
      "source": [
        "X[:10]"
      ],
      "metadata": {
        "colab": {
          "base_uri": "https://localhost:8080/"
        },
        "id": "YZGUQMKN0XOD",
        "outputId": "8bef60df-8c10-48f9-aad8-20538c51acc5"
      },
      "execution_count": 65,
      "outputs": [
        {
          "output_type": "execute_result",
          "data": {
            "text/plain": [
              "array([[ 0.63994726,  0.84832379,  0.14964075,  0.90726993, -0.69289057,\n",
              "         0.20401277,  0.46849198,  1.4259954 ],\n",
              "       [-0.84488505, -1.12339636, -0.16054575,  0.53090156, -0.69289057,\n",
              "        -0.68442195, -0.36506078, -0.19067191],\n",
              "       [ 1.23388019,  1.94372388, -0.26394125, -1.28821221, -0.69289057,\n",
              "        -1.10325546,  0.60439732, -0.10558415],\n",
              "       [-0.84488505, -0.99820778, -0.16054575,  0.15453319,  0.12330164,\n",
              "        -0.49404308, -0.92076261, -1.04154944],\n",
              "       [-1.14185152,  0.5040552 , -1.50468724,  0.90726993,  0.76583594,\n",
              "         1.4097456 ,  5.4849091 , -0.0204964 ],\n",
              "       [ 0.3429808 , -0.15318486,  0.25303625, -1.28821221, -0.69289057,\n",
              "        -0.81134119, -0.81807858, -0.27575966],\n",
              "       [-0.25095213, -1.34247638, -0.98770975,  0.71908574,  0.07120427,\n",
              "        -0.12597727, -0.676133  , -0.61611067],\n",
              "       [ 1.82781311, -0.184482  , -3.57259724, -1.28821221, -0.69289057,\n",
              "         0.41977549, -1.02042653, -0.36084741],\n",
              "       [-0.54791859,  2.38188392,  0.04624525,  1.53455054,  4.02192191,\n",
              "        -0.18943689, -0.94794368,  1.68125866],\n",
              "       [ 1.23388019,  0.12848945,  1.39038675, -1.28821221, -0.69289057,\n",
              "        -4.06047387, -0.7244549 ,  1.76634642]])"
            ]
          },
          "metadata": {},
          "execution_count": 65
        }
      ]
    },
    {
      "cell_type": "markdown",
      "source": [
        "For convenience in vertical calculations, let's add the vector *x* with the value *1* to the array *X*."
      ],
      "metadata": {
        "id": "qMdAHx6V0917"
      }
    },
    {
      "cell_type": "code",
      "source": [
        "def add_bias(X):\n",
        "  B = np.ones((X.shape[0], 1))\n",
        "  return np.hstack((B,X))"
      ],
      "metadata": {
        "id": "xoO_8nMj0ZEy"
      },
      "execution_count": 66,
      "outputs": []
    },
    {
      "cell_type": "code",
      "source": [
        "X = add_bias(X)"
      ],
      "metadata": {
        "id": "YgPZQjIl1TY9"
      },
      "execution_count": 67,
      "outputs": []
    },
    {
      "cell_type": "code",
      "source": [
        "X[:10]"
      ],
      "metadata": {
        "colab": {
          "base_uri": "https://localhost:8080/"
        },
        "id": "YhJwptJN1WMF",
        "outputId": "333a8967-434a-436f-dd5c-6cd81cfef93e"
      },
      "execution_count": 68,
      "outputs": [
        {
          "output_type": "execute_result",
          "data": {
            "text/plain": [
              "array([[ 1.        ,  0.63994726,  0.84832379,  0.14964075,  0.90726993,\n",
              "        -0.69289057,  0.20401277,  0.46849198,  1.4259954 ],\n",
              "       [ 1.        , -0.84488505, -1.12339636, -0.16054575,  0.53090156,\n",
              "        -0.69289057, -0.68442195, -0.36506078, -0.19067191],\n",
              "       [ 1.        ,  1.23388019,  1.94372388, -0.26394125, -1.28821221,\n",
              "        -0.69289057, -1.10325546,  0.60439732, -0.10558415],\n",
              "       [ 1.        , -0.84488505, -0.99820778, -0.16054575,  0.15453319,\n",
              "         0.12330164, -0.49404308, -0.92076261, -1.04154944],\n",
              "       [ 1.        , -1.14185152,  0.5040552 , -1.50468724,  0.90726993,\n",
              "         0.76583594,  1.4097456 ,  5.4849091 , -0.0204964 ],\n",
              "       [ 1.        ,  0.3429808 , -0.15318486,  0.25303625, -1.28821221,\n",
              "        -0.69289057, -0.81134119, -0.81807858, -0.27575966],\n",
              "       [ 1.        , -0.25095213, -1.34247638, -0.98770975,  0.71908574,\n",
              "         0.07120427, -0.12597727, -0.676133  , -0.61611067],\n",
              "       [ 1.        ,  1.82781311, -0.184482  , -3.57259724, -1.28821221,\n",
              "        -0.69289057,  0.41977549, -1.02042653, -0.36084741],\n",
              "       [ 1.        , -0.54791859,  2.38188392,  0.04624525,  1.53455054,\n",
              "         4.02192191, -0.18943689, -0.94794368,  1.68125866],\n",
              "       [ 1.        ,  1.23388019,  0.12848945,  1.39038675, -1.28821221,\n",
              "        -0.69289057, -4.06047387, -0.7244549 ,  1.76634642]])"
            ]
          },
          "metadata": {},
          "execution_count": 68
        }
      ]
    },
    {
      "cell_type": "code",
      "source": [
        "X.shape"
      ],
      "metadata": {
        "colab": {
          "base_uri": "https://localhost:8080/"
        },
        "id": "WrxzNo6D1YKK",
        "outputId": "0ff41fea-8762-431b-e9fc-30c58670f8cc"
      },
      "execution_count": 69,
      "outputs": [
        {
          "output_type": "execute_result",
          "data": {
            "text/plain": [
              "(768, 9)"
            ]
          },
          "metadata": {},
          "execution_count": 69
        }
      ]
    },
    {
      "cell_type": "markdown",
      "source": [
        "**Split the data into training/test sets**"
      ],
      "metadata": {
        "id": "qxZnTz0h1ffh"
      }
    },
    {
      "cell_type": "markdown",
      "source": [
        "Let's split the data set we have into training/test sets. In this case, the logistic regression we create will learn from the training dataset and test its performance from the test dataset. We use an 80/20 ratio for the training/test dataset split, which means we split 80% of the dataset into the training dataset and 20% into the test dataset."
      ],
      "metadata": {
        "id": "CIPddU7j1o6H"
      }
    },
    {
      "cell_type": "code",
      "source": [
        "rows, _ = X.shape"
      ],
      "metadata": {
        "id": "QztqIU2X1cGy"
      },
      "execution_count": 70,
      "outputs": []
    },
    {
      "cell_type": "code",
      "source": [
        "def split(X,Y):\n",
        "  rows, _ = X.shape\n",
        "  train_rows = round(rows * 0.8)\n",
        "  test_rows = rows - train_rows\n",
        "  return X[0:train_rows, :], X[train_rows:, :], Y[0:train_rows, :], Y[train_rows:, :]"
      ],
      "metadata": {
        "id": "bPHsQcd11_lB"
      },
      "execution_count": 71,
      "outputs": []
    },
    {
      "cell_type": "code",
      "source": [
        "X_train, X_test, Y_train, Y_test = split(X,Y)\n",
        "print(f\"X_train shape{X_train.shape}, \\n\"\n",
        "      f\"X_test shape{X_test.shape},\\n\" \n",
        "      f\"Y_train shape{Y_train.shape},\\n\"\n",
        "      f\"X_test shape{Y_test.shape}\")"
      ],
      "metadata": {
        "colab": {
          "base_uri": "https://localhost:8080/"
        },
        "id": "nTUb9YIq2wO7",
        "outputId": "b42393f6-baf6-4566-c3cb-c0d1f9da999b"
      },
      "execution_count": 72,
      "outputs": [
        {
          "output_type": "stream",
          "name": "stdout",
          "text": [
            "X_train shape(614, 9), \n",
            "X_test shape(154, 9),\n",
            "Y_train shape(614, 1),\n",
            "X_test shape(154, 1)\n"
          ]
        }
      ]
    },
    {
      "cell_type": "markdown",
      "source": [
        "**Initialization of coefficients** <br>\n",
        "Recall the formula for logistic regression:\n",
        "\n",
        "<img src=\"https://encrypted-tbn0.gstatic.com/images?q=tbn:ANd9GcScSqqRKLX0WDaBP41dXYxcq6eoDUtDIRaeEA&usqp=CAU\" width='200'/>\n",
        "\n",
        "So we have 8 columns. But we initialize 9 parameters (including a).\n",
        "Recall that x is a vectorized representation of the function. <br>\n",
        "\n",
        "$ x = X A^T $"
      ],
      "metadata": {
        "id": "lMVkESWFDX2u"
      }
    },
    {
      "cell_type": "code",
      "source": [
        "A = np.random.rand(X.shape[1], 1)\n",
        "A.shape"
      ],
      "metadata": {
        "colab": {
          "base_uri": "https://localhost:8080/"
        },
        "id": "YS_y5136C_sq",
        "outputId": "a39f3ae6-9a27-4c19-cd82-c18947d5b93e"
      },
      "execution_count": 73,
      "outputs": [
        {
          "output_type": "execute_result",
          "data": {
            "text/plain": [
              "(9, 1)"
            ]
          },
          "metadata": {},
          "execution_count": 73
        }
      ]
    },
    {
      "cell_type": "code",
      "source": [
        "A"
      ],
      "metadata": {
        "colab": {
          "base_uri": "https://localhost:8080/"
        },
        "id": "QijLQeZJFJFI",
        "outputId": "96e1d0d1-0bc2-4f31-b32a-3f92be1e28f8"
      },
      "execution_count": 74,
      "outputs": [
        {
          "output_type": "execute_result",
          "data": {
            "text/plain": [
              "array([[0.81346662],\n",
              "       [0.23897704],\n",
              "       [0.94421145],\n",
              "       [0.58630142],\n",
              "       [0.3443402 ],\n",
              "       [0.27740954],\n",
              "       [0.94935313],\n",
              "       [0.82526256],\n",
              "       [0.80322738]])"
            ]
          },
          "metadata": {},
          "execution_count": 74
        }
      ]
    },
    {
      "cell_type": "markdown",
      "source": [
        "**Logistic regression function**\n",
        "Now that we've defined the variables for the coefficients, let's define the function. Let's call this function *logistic_regression_function()* "
      ],
      "metadata": {
        "id": "0gaWUMW6Fa5c"
      }
    },
    {
      "cell_type": "code",
      "source": [
        "def Logistic_regression_function(X,A):\n",
        "  Z = np.dot(X,A)\n",
        "  return 1 / (1 + np.exp(-Z))"
      ],
      "metadata": {
        "id": "IGcOSPh0FKEz"
      },
      "execution_count": 75,
      "outputs": []
    },
    {
      "cell_type": "markdown",
      "source": [
        "**Value function and Gradient descent**"
      ],
      "metadata": {
        "id": "YLw7go09GO9p"
      }
    },
    {
      "cell_type": "code",
      "source": [
        "def cost(X,A,Y):\n",
        "  m = Y.shape[0]\n",
        "  F_x = Logistic_regression_function(X,A)\n",
        "  cost_ = -np.sum(Y * np.log(F_x) + (1-Y) * np.log(1 - F_x)) / m\n",
        "  return cost_"
      ],
      "metadata": {
        "id": "Z778fl66GFK-"
      },
      "execution_count": 76,
      "outputs": []
    },
    {
      "cell_type": "markdown",
      "source": [
        "In gradient descent, we find the parameters that minimize the above value function. In this case, we need to repeat the following expression for each parameter for a given row:\n",
        "\n",
        "![123.jpg](data:image/jpeg;base64,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)"
      ],
      "metadata": {
        "id": "RbXEh5oRG_kb"
      }
    },
    {
      "cell_type": "markdown",
      "source": [
        "Let's define a number of hyperparameters in the loop implementation above:\n",
        "\n",
        "*    We set the value of the number of steps to **500** and store it in the *epochs* variable.\n",
        "*   Let's set the learning rate to **0.1** and store it in the *learning_rate* variable\n",
        "\n",
        "At each step, we calculate the value for the training and test set and store them in the *train_costs* and *test_costs* arrays, respectively."
      ],
      "metadata": {
        "id": "VCkTxbs3IPJH"
      }
    },
    {
      "cell_type": "code",
      "source": [
        "epochs = 500\n",
        "learning_rate = 0.1"
      ],
      "metadata": {
        "id": "U0F-i9ZQG1CC"
      },
      "execution_count": 77,
      "outputs": []
    },
    {
      "cell_type": "markdown",
      "source": [
        "We create a function that performs **gradient descent** and name it *gradient_descent*"
      ],
      "metadata": {
        "id": "7r1mu-cTJD-F"
      }
    },
    {
      "cell_type": "code",
      "source": [
        "def gradient_descent(X_train, Y_train, X_test, Y_test, A, learning_rate, epochs):\n",
        "  train_costs = []\n",
        "  test_costs = []\n",
        "  m_train = Y_train.shape[0]\n",
        "  m_test = Y_test.shape[0]\n",
        "  for k in range(epochs):\n",
        "    F_x = Logistic_regression_function(X_train, A)\n",
        "    A = A - learning_rate * np.dot(X_train.T, (F_x - Y_train)) / m_train\n",
        "    cost_train_ = cost(X_train, A, Y_train)\n",
        "    cost_test_ = cost(X_test, A, Y_test)\n",
        "    train_costs.append(cost_train_)\n",
        "    test_costs.append(cost_test_)\n",
        "    if k % 20 == 0:\n",
        "      print('epoch: %d, %f'% (k, cost_train_))\n",
        "  return A, train_costs, test_costs"
      ],
      "metadata": {
        "id": "qPIxW1BzI64r"
      },
      "execution_count": 80,
      "outputs": []
    },
    {
      "cell_type": "markdown",
      "source": [
        "Let's do gradient descent, we'll use the gradient_descent function we created, and this function will perform **gradient descent** and return the **arrays** *train_costs*, *test_costs* representing the optimal value found for the variable A and the value function for the training and test sets at each step."
      ],
      "metadata": {
        "id": "u-G8c3ixK-I5"
      }
    },
    {
      "cell_type": "code",
      "source": [
        "A, train_costs, test_costs = gradient_descent(X_train, Y_train, X_test, Y_test, A, learning_rate, epochs)"
      ],
      "metadata": {
        "colab": {
          "base_uri": "https://localhost:8080/"
        },
        "id": "bVVSrepCKwMF",
        "outputId": "64ec296c-7d0f-4946-8715-a52ecfc2da88"
      },
      "execution_count": 81,
      "outputs": [
        {
          "output_type": "stream",
          "name": "stdout",
          "text": [
            "epoch: 0, 0.810780\n",
            "epoch: 20, 0.664596\n",
            "epoch: 40, 0.572698\n",
            "epoch: 60, 0.521186\n",
            "epoch: 80, 0.495059\n",
            "epoch: 100, 0.482440\n",
            "epoch: 120, 0.476288\n",
            "epoch: 140, 0.473138\n",
            "epoch: 160, 0.471418\n",
            "epoch: 180, 0.470419\n",
            "epoch: 200, 0.469808\n",
            "epoch: 220, 0.469417\n",
            "epoch: 240, 0.469158\n",
            "epoch: 260, 0.468983\n",
            "epoch: 280, 0.468861\n",
            "epoch: 300, 0.468775\n",
            "epoch: 320, 0.468714\n",
            "epoch: 340, 0.468669\n",
            "epoch: 360, 0.468637\n",
            "epoch: 380, 0.468613\n",
            "epoch: 400, 0.468595\n",
            "epoch: 420, 0.468582\n",
            "epoch: 440, 0.468572\n",
            "epoch: 460, 0.468565\n",
            "epoch: 480, 0.468559\n"
          ]
        }
      ]
    },
    {
      "cell_type": "markdown",
      "source": [
        "To visually see how much the cost function changes on the gradient descent, let's create a graph function *plot_cost*, which draws a graph using the matplotlib library."
      ],
      "metadata": {
        "id": "FXeh3C-1M5uO"
      }
    },
    {
      "cell_type": "code",
      "source": [
        "def plot_cost(train_costs, test_costs, epochs):\n",
        "  plt.xlabel('Epochs')\n",
        "  plt.ylabel('Cost')\n",
        "  plt.plot(epochs, train_costs, 'm', linewidth = '1', color='r', label=\"error in exercise\")\n",
        "  plt.plot(epochs, test_costs, 'm', linewidth = '1', color='g', label=\"error in test\")\n",
        "  plt.legend(loc=\"upper right\")\n",
        "  plt.show()"
      ],
      "metadata": {
        "id": "VmbqJkcdLXCx"
      },
      "execution_count": 85,
      "outputs": []
    },
    {
      "cell_type": "markdown",
      "source": [
        "The plot_cost function accepts 3 array variables as parameters and these are:\n",
        "*   an array representing the result of the value function for the training set, the train_costs variable\n",
        "*   an array representing the result of the value function for the test set, the test_costs variable\n",
        "*   array representing epochs, variable epochs"
      ],
      "metadata": {
        "id": "zcat5LP1NyxH"
      }
    },
    {
      "cell_type": "code",
      "source": [
        "n_epochs = np.arange(1, epochs + 1)\n",
        "n_train_costs = np.array(train_costs)\n",
        "n_text_costs = np.array(test_costs)"
      ],
      "metadata": {
        "id": "AtO4qwG0NtVf"
      },
      "execution_count": 86,
      "outputs": []
    },
    {
      "cell_type": "markdown",
      "source": [
        "Let's graphically represent the change of the cost function at each step using the plot_cost function."
      ],
      "metadata": {
        "id": "jjCP7lAlOcpu"
      }
    },
    {
      "cell_type": "code",
      "source": [
        "figure(figsize=(8,6), dpi=80)\n",
        "\n",
        "plot_cost(train_costs, test_costs, n_epochs)"
      ],
      "metadata": {
        "colab": {
          "base_uri": "https://localhost:8080/",
          "height": 523
        },
        "id": "UU4bJVw5OYdT",
        "outputId": "62d5ea55-773d-4ce9-80c2-d47e3dfc4554"
      },
      "execution_count": 87,
      "outputs": [
        {
          "output_type": "stream",
          "name": "stderr",
          "text": [
            "<ipython-input-85-e73fd0a254c4>:4: UserWarning: color is redundantly defined by the 'color' keyword argument and the fmt string \"m\" (-> color=(0.75, 0.0, 0.75, 1)). The keyword argument will take precedence.\n",
            "  plt.plot(epochs, train_costs, 'm', linewidth = '1', color='r', label=\"error in exercise\")\n",
            "<ipython-input-85-e73fd0a254c4>:5: UserWarning: color is redundantly defined by the 'color' keyword argument and the fmt string \"m\" (-> color=(0.75, 0.0, 0.75, 1)). The keyword argument will take precedence.\n",
            "  plt.plot(epochs, test_costs, 'm', linewidth = '1', color='g', label=\"error in test\")\n"
          ]
        },
        {
          "output_type": "display_data",
          "data": {
            "text/plain": [
              "<Figure size 640x480 with 1 Axes>"
            ],
            "image/png": "[encoded data removed]"
          },
          "metadata": {}
        }
      ]
    },
    {
      "cell_type": "markdown",
      "source": [
        "From the graph above, we can see that the error is decreasing at each step in both the training set and the test set. From this we can conclude that the logistic regression we created is working correctly."
      ],
      "metadata": {
        "id": "EeRmyHIxO9Zp"
      }
    },
    {
      "cell_type": "markdown",
      "source": [
        "<h1>Decision boundary</h1>"
      ],
      "metadata": {
        "id": "eYVwGIsdPDM1"
      }
    },
    {
      "cell_type": "markdown",
      "source": [
        "The output of the logistic regression we created lies in the interval (0,1), meaning it outputs non-integer numbers. And our tokens are integers with values of 0 or 1. Specifically, let's calculate the logistic regression for the test set and print the first 10 items:"
      ],
      "metadata": {
        "id": "IflRZZP7Pmt6"
      }
    },
    {
      "cell_type": "code",
      "source": [
        "test_predictions = Logistic_regression_function(X_test, A)\n",
        "test_predictions[:10, :]"
      ],
      "metadata": {
        "colab": {
          "base_uri": "https://localhost:8080/"
        },
        "id": "uIhAVD15OqUD",
        "outputId": "0141fb6d-2ba3-4856-98d3-9cdce8884e6a"
      },
      "execution_count": 88,
      "outputs": [
        {
          "output_type": "execute_result",
          "data": {
            "text/plain": [
              "array([[0.748403  ],\n",
              "       [0.08682772],\n",
              "       [0.16583562],\n",
              "       [0.01445517],\n",
              "       [0.50116513],\n",
              "       [0.27669705],\n",
              "       [0.20931536],\n",
              "       [0.16788818],\n",
              "       [0.96520246],\n",
              "       [0.2049188 ]])"
            ]
          },
          "metadata": {},
          "execution_count": 88
        }
      ]
    },
    {
      "cell_type": "markdown",
      "source": [
        "To convert the above numbers **0** and **1** to integers, let's create a function that implements a decision boundary. In this case, we choose **0.5** as a limit, that is, we accept numbers greater than **0.5** as **1**, and numbers equal to and smaller than **0.5** as **0**. In order for the function we created to work with arrays, we will process this function using the *vectorize* function of the **numpy** library."
      ],
      "metadata": {
        "id": "HKj59wyJQqPD"
      }
    },
    {
      "cell_type": "code",
      "source": [
        "def db_function(prediction):\n",
        "  if prediction > 0.5:\n",
        "    return 1 \n",
        "  else:\n",
        "    return 0\n",
        "db_function = np.vectorize(db_function)"
      ],
      "metadata": {
        "id": "ZnWSlDtGP8RY"
      },
      "execution_count": 89,
      "outputs": []
    },
    {
      "cell_type": "code",
      "source": [
        "test_predictions = db_function(test_predictions)\n",
        "test_predictions[:10, :]"
      ],
      "metadata": {
        "colab": {
          "base_uri": "https://localhost:8080/"
        },
        "id": "YY7Buf0RRQ-i",
        "outputId": "45c25a8c-9095-401a-eebf-cc3963ed8883"
      },
      "execution_count": 90,
      "outputs": [
        {
          "output_type": "execute_result",
          "data": {
            "text/plain": [
              "array([[1],\n",
              "       [0],\n",
              "       [0],\n",
              "       [0],\n",
              "       [1],\n",
              "       [0],\n",
              "       [0],\n",
              "       [0],\n",
              "       [1],\n",
              "       [0]])"
            ]
          },
          "metadata": {},
          "execution_count": 90
        }
      ]
    },
    {
      "cell_type": "markdown",
      "source": [
        "<h1><b>Model accuracy<b></h1>\n",
        "\n",
        "To evaluate the accuracy of the model we created, let's calculate the Accuracy and F1-Score metrics. Before calculating these measurements, let's define a few auxiliary measurements, namely:\n",
        "*   True Positive - TP\n",
        "*   True Negative - TN\n",
        "*   False Positive - FP\n",
        "*   False Negative - FN\n",
        "\n",
        "Let's create a function that calculates the auxiliary dimensions above:"
      ],
      "metadata": {
        "id": "iiBvWNFnSnbN"
      }
    },
    {
      "cell_type": "code",
      "source": [
        "def calculate_helper_vars(predicted, actual):\n",
        "  n = actual.shape[0]\n",
        "  predicted = predicted.reshape(-1, actual.shape[1])\n",
        "  tp = np.count_nonzero((predicted == actual) & (predicted == 1))\n",
        "  tn = np.count_nonzero((predicted == actual) & (predicted == 0))\n",
        "  fp = np.count_nonzero((predicted != actual) & (predicted == 1))\n",
        "  fn = np.count_nonzero((predicted != actual) & (predicted == 0))\n",
        "  return tp, tn, fp, fn, n"
      ],
      "metadata": {
        "id": "I_7ILywCRjzA"
      },
      "execution_count": 95,
      "outputs": []
    },
    {
      "cell_type": "markdown",
      "source": [
        "Let's calculate the helper dimensions using the *calculate_helper_vars* function:"
      ],
      "metadata": {
        "id": "E9s_9xGrUYde"
      }
    },
    {
      "cell_type": "code",
      "source": [
        "tp, tn, fp, fn, n = calculate_helper_vars(test_predictions, Y_test)"
      ],
      "metadata": {
        "id": "xmWV8r2hUUwo"
      },
      "execution_count": 96,
      "outputs": []
    },
    {
      "cell_type": "code",
      "source": [
        "print(tp, tn, fp, fn, n)"
      ],
      "metadata": {
        "colab": {
          "base_uri": "https://localhost:8080/"
        },
        "id": "_Ic3kGO9UvmW",
        "outputId": "2017b8d9-ab9c-47f8-de66-46c4dd50a5a3"
      },
      "execution_count": 97,
      "outputs": [
        {
          "output_type": "stream",
          "name": "stdout",
          "text": [
            "30 89 10 25 154\n"
          ]
        }
      ]
    },
    {
      "cell_type": "code",
      "source": [
        "(tp + tn) / n"
      ],
      "metadata": {
        "colab": {
          "base_uri": "https://localhost:8080/"
        },
        "id": "atEGc5nmUy9Y",
        "outputId": "ef01f4b5-92c4-4442-e647-cba8ff97c6b4"
      },
      "execution_count": 98,
      "outputs": [
        {
          "output_type": "execute_result",
          "data": {
            "text/plain": [
              "0.7727272727272727"
            ]
          },
          "metadata": {},
          "execution_count": 98
        }
      ]
    },
    {
      "cell_type": "markdown",
      "source": [
        "Let's calculate the following metrics that estimate the model using auxiliary metrics:\n",
        "\n",
        "*   *Accuracy* is the simplest method of model accuracy.\n",
        "*   *Precision* is the ratio of correctly predicted positive values to the total number of positive predicted values.\n",
        "*   *Recall* (Sensitivity) is the ratio of correctly predicted positive values to all true positive targets in the data set.\n",
        "*   *The F1 Score* is a measure of Precision and Recall that gives a clearer picture of model accuracy.\n",
        "\n",
        "We create a function called *calc_metrics* for calculation:"
      ],
      "metadata": {
        "id": "nwR-wOS-Vfuz"
      }
    },
    {
      "cell_type": "code",
      "source": [
        "def calc_metrics(tp,tn, fp, fn, n):\n",
        "  accuracy = (tp + tn) / n\n",
        "  precision = tp / (tp +fp)\n",
        "  recall = tp / (tp + fn)\n",
        "  f1_score = 2 * (recall * precision) / (recall + precision)\n",
        "  return accuracy, precision, recall, f1_score"
      ],
      "metadata": {
        "id": "JlwQJlG8VCSH"
      },
      "execution_count": 101,
      "outputs": []
    },
    {
      "cell_type": "markdown",
      "source": [
        "Let's run the *calc_metrics* function:"
      ],
      "metadata": {
        "id": "j4HZ-PWAW4JV"
      }
    },
    {
      "cell_type": "code",
      "source": [
        "accuracy, precision, recall, f1_score = calc_metrics(tp, tn, fp, fn, n)\n",
        "print('accuracy: %f, precision: %f, recall: %f, f1_score: %f'% (accuracy, precision, recall, f1_score))"
      ],
      "metadata": {
        "colab": {
          "base_uri": "https://localhost:8080/"
        },
        "id": "gD4ZzI3eWxOr",
        "outputId": "c7f0322f-c468-40b6-c7d4-e283ee32eeb3"
      },
      "execution_count": 102,
      "outputs": [
        {
          "output_type": "stream",
          "name": "stdout",
          "text": [
            "accuracy: 0.772727, precision: 0.750000, recall: 0.545455, f1_score: 0.631579\n"
          ]
        }
      ]
    },
    {
      "cell_type": "markdown",
      "source": [
        "We can draw the following conclusions about the model from the measurements:\n",
        "*   our model found 77% of the 154 items in the test set (accuracy)\n",
        "*   75% of targets predicted by model 1 were found correctly (precision)\n",
        "*   54% of targets in test set 1 were correctly detected by the model\n",
        "*   F1 score is 0.63, we can call this measure a comparative measure. Because   it is usually through these measurements that the accuracy of different models is compared to each other.\n",
        "\n",
        "Judging from the results of the measurements, we can say that the accuracy of the model is good, and it can certainly be improved further."
      ],
      "metadata": {
        "id": "NW7mJxrBXrsk"
      }
    },
    {
      "cell_type": "code",
      "source": [],
      "metadata": {
        "id": "6PzqNv4cXh__"
      },
      "execution_count": null,
      "outputs": []
    }
  ]
}